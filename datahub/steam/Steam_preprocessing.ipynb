{
 "cells": [
  {
   "cell_type": "code",
   "execution_count": 26,
   "metadata": {},
   "outputs": [],
   "source": [
    "import os\n",
    "\n",
    "import numpy as np\n",
    "import random\n",
    "import pandas as pd\n",
    "from tqdm import tqdm\n",
    "import pickle\n",
    "\n",
    "import matplotlib.pyplot as plt\n",
    "import seaborn as sns\n",
    "import seaborn.objects as so\n",
    "%matplotlib inline\n",
    "\n",
    "# pandas options\n",
    "pd.set_option('mode.copy_on_write', True)  # pandas 2.0\n",
    "pd.options.display.float_format = '{:.4f}'.format  # pd.reset_option('display.float_format')\n",
    "\n",
    "# NumPy options\n",
    "np.set_printoptions(precision = 2, suppress=True)  # suppress scientific notation"
   ]
  },
  {
   "cell_type": "markdown",
   "metadata": {},
   "source": [
    "# 1. 데이터 불러오기"
   ]
  },
  {
   "cell_type": "code",
   "execution_count": 15,
   "metadata": {},
   "outputs": [],
   "source": [
    "recomd = pd.read_csv('recommendations.csv')"
   ]
  },
  {
   "cell_type": "code",
   "execution_count": 3,
   "metadata": {},
   "outputs": [
    {
     "data": {
      "text/plain": [
       "13781059"
      ]
     },
     "execution_count": 3,
     "metadata": {},
     "output_type": "execute_result"
    }
   ],
   "source": [
    "recomd[\"user_id\"].nunique() "
   ]
  },
  {
   "cell_type": "code",
   "execution_count": 4,
   "metadata": {},
   "outputs": [],
   "source": [
    "item_group = recomd.sort_values(by=['app_id','date'])"
   ]
  },
  {
   "cell_type": "code",
   "execution_count": 5,
   "metadata": {},
   "outputs": [
    {
     "data": {
      "image/png": "[encoded data removed]",
      "text/plain": [
       "<Figure size 640x480 with 1 Axes>"
      ]
     },
     "metadata": {},
     "output_type": "display_data"
    }
   ],
   "source": [
    "item_count = recomd.groupby('app_id').size().reset_index(name = 'count')\n",
    "item_count['count'].hist()\n",
    "plt.show()"
   ]
  },
  {
   "cell_type": "code",
   "execution_count": 6,
   "metadata": {},
   "outputs": [
    {
     "name": "stdout",
     "output_type": "stream",
     "text": [
      "임계값 (상위 20%): 274.0\n"
     ]
    }
   ],
   "source": [
    "# 상위 20% 아이템\n",
    "threshold = item_count['count'].quantile(0.8)\n",
    "print(f\"임계값 (상위 20%): {threshold}\")"
   ]
  },
  {
   "cell_type": "code",
   "execution_count": 7,
   "metadata": {},
   "outputs": [],
   "source": [
    "# Old Items와 New Items 분리 - 상위 20% 기준으로\n",
    "item_count['category'] = item_count['count'].apply(lambda x: 'Old' if x >= threshold else 'New')\n",
    "\n",
    "old_items = item_count[item_count['category'] == 'Old']\n",
    "new_items = item_count[item_count['category'] == 'New']"
   ]
  },
  {
   "cell_type": "code",
   "execution_count": 8,
   "metadata": {},
   "outputs": [
    {
     "data": {
      "text/plain": [
       "category\n",
       "New    30080\n",
       "Old     7530\n",
       "Name: count, dtype: int64"
      ]
     },
     "execution_count": 8,
     "metadata": {},
     "output_type": "execute_result"
    }
   ],
   "source": [
    "item_count['category'].value_counts()"
   ]
  },
  {
   "cell_type": "code",
   "execution_count": 9,
   "metadata": {},
   "outputs": [],
   "source": [
    "new_ids = new_items['app_id']\n",
    "new_df  = item_group[item_group['app_id'].isin(new_ids)]\n",
    "\n",
    "old_ids = old_items['app_id']\n",
    "old_df = item_group[item_group['app_id'].isin(old_ids)]"
   ]
  },
  {
   "cell_type": "code",
   "execution_count": 14,
   "metadata": {},
   "outputs": [
    {
     "name": "stderr",
     "output_type": "stream",
     "text": [
      "Processing New Items: 100%|██████████| 30080/30080 [00:15<00:00, 1889.67it/s]\n"
     ]
    }
   ],
   "source": [
    "# Grouped Data 생성\n",
    "new_item_groups = new_df.groupby('app_id')\n",
    "\n",
    "# 웜업 단계 크기 K 설정\n",
    "K = 10\n",
    "\n",
    "def split_group_safe(data, K):\n",
    "    \"\"\"\n",
    "    데이터를 K 크기로 분리합니다.\n",
    "    데이터가 부족하면 빈 DataFrame을 반환합니다.\n",
    "    \"\"\"\n",
    "    warm_a = data.iloc[:K] if len(data) >= K else pd.DataFrame()\n",
    "    warm_b = data.iloc[K:2*K] if len(data) >= 2*K else pd.DataFrame()\n",
    "    warm_c = data.iloc[2*K:3*K] if len(data) >= 3*K else pd.DataFrame()\n",
    "    test_set = data.iloc[3*K:] if len(data) > 3*K else pd.DataFrame()\n",
    "    return warm_a, warm_b, warm_c, test_set\n",
    "\n",
    "# 웜업 단계 분리 및 유효한 아이템 필터링\n",
    "warmup_splits = {}\n",
    "\n",
    "for item_id, item_data in tqdm(new_item_groups, desc=\"Processing New Items\"):\n",
    "    warm_a, warm_b, warm_c, test_set = split_group_safe(item_data, K)\n",
    "    \n",
    "    # 모든 세트에 데이터가 있는 경우에만 추가\n",
    "    if all(not split.empty for split in [warm_a, warm_b, warm_c, test_set]):\n",
    "        warmup_splits[item_id] = {\n",
    "            'warm_a': warm_a,\n",
    "            'warm_b': warm_b,\n",
    "            'warm_c': warm_c,\n",
    "            'test_set': test_set\n",
    "        }\n"
   ]
  },
  {
   "cell_type": "code",
   "execution_count": 15,
   "metadata": {},
   "outputs": [
    {
     "name": "stderr",
     "output_type": "stream",
     "text": [
      "processing: 100%|██████████| 13249/13249 [00:17<00:00, 764.80it/s] \n"
     ]
    }
   ],
   "source": [
    "# 단계별 데이터를 저장할 리스트\n",
    "warm_a_list = []\n",
    "warm_b_list = []\n",
    "warm_c_list = []\n",
    "test_set_list = []\n",
    "\n",
    "# warmup_splits에서 데이터 추출\n",
    "for item_id, splits in tqdm(warmup_splits.items(),desc='processing'):\n",
    "    # 각 단계의 데이터를 추출하고 아이템 ID 추가\n",
    "    warm_a = splits['warm_a'].copy()\n",
    "    warm_a['stage'] = 'warm_a'\n",
    "    warm_a_list.append(warm_a)\n",
    "\n",
    "    warm_b = splits['warm_b'].copy()\n",
    "    warm_b['stage'] = 'warm_b'\n",
    "    warm_b_list.append(warm_b)\n",
    "\n",
    "    warm_c = splits['warm_c'].copy()\n",
    "    warm_c['stage'] = 'warm_c'\n",
    "    warm_c_list.append(warm_c)\n",
    "\n",
    "    test_set = splits['test_set'].copy()\n",
    "    test_set['stage'] = 'test_set'\n",
    "    test_set_list.append(test_set)\n",
    "\n",
    "# 각각의 데이터프레임으로 병합\n",
    "warm_a = pd.concat(warm_a_list, ignore_index=True)\n",
    "warm_b = pd.concat(warm_b_list, ignore_index=True)\n",
    "warm_c = pd.concat(warm_c_list, ignore_index=True)\n",
    "test_set = pd.concat(test_set_list, ignore_index=True)\n"
   ]
  },
  {
   "cell_type": "code",
   "execution_count": 16,
   "metadata": {},
   "outputs": [
    {
     "name": "stdout",
     "output_type": "stream",
     "text": [
      "Old DataFrame\n",
      "총 데이터 개수: 39639864\n",
      "고유 app_id 개수: 7530\n",
      "고유 user_id 개수: 13670645\n",
      "----------------------------------------\n",
      "Warm A\n",
      "총 데이터 개수: 132490\n",
      "고유 app_id 개수: 13249\n",
      "고유 user_id 개수: 86204\n",
      "----------------------------------------\n",
      "Warm B\n",
      "총 데이터 개수: 132490\n",
      "고유 app_id 개수: 13249\n",
      "고유 user_id 개수: 93580\n",
      "----------------------------------------\n",
      "Warm C\n",
      "총 데이터 개수: 132490\n",
      "고유 app_id 개수: 13249\n",
      "고유 user_id 개수: 95731\n",
      "----------------------------------------\n",
      "Test Set\n",
      "총 데이터 개수: 894438\n",
      "고유 app_id 개수: 13249\n",
      "고유 user_id 개수: 500296\n",
      "----------------------------------------\n"
     ]
    }
   ],
   "source": [
    "print(\"Old DataFrame\")\n",
    "print(\"총 데이터 개수:\", len(old_df))\n",
    "print(\"고유 app_id 개수:\", old_df['app_id'].nunique())\n",
    "print(\"고유 user_id 개수:\", old_df['user_id'].nunique())\n",
    "print(\"-\" * 40)\n",
    "\n",
    "print(\"Warm A\")\n",
    "print(\"총 데이터 개수:\", len(warm_a))\n",
    "print(\"고유 app_id 개수:\", warm_a['app_id'].nunique())\n",
    "print(\"고유 user_id 개수:\", warm_a['user_id'].nunique())\n",
    "print(\"-\" * 40)\n",
    "\n",
    "print(\"Warm B\")\n",
    "print(\"총 데이터 개수:\", len(warm_b))\n",
    "print(\"고유 app_id 개수:\", warm_b['app_id'].nunique())\n",
    "print(\"고유 user_id 개수:\", warm_b['user_id'].nunique())\n",
    "print(\"-\" * 40)\n",
    "\n",
    "print(\"Warm C\")\n",
    "print(\"총 데이터 개수:\", len(warm_c))\n",
    "print(\"고유 app_id 개수:\", warm_c['app_id'].nunique())\n",
    "print(\"고유 user_id 개수:\", warm_c['user_id'].nunique())\n",
    "print(\"-\" * 40)\n",
    "\n",
    "print(\"Test Set\")\n",
    "print(\"총 데이터 개수:\", len(test_set))\n",
    "print(\"고유 app_id 개수:\", test_set['app_id'].nunique())\n",
    "print(\"고유 user_id 개수:\", test_set['user_id'].nunique())\n",
    "print(\"-\" * 40)\n"
   ]
  },
  {
   "cell_type": "markdown",
   "metadata": {},
   "source": [
    "---"
   ]
  },
  {
   "cell_type": "code",
   "execution_count": 44,
   "metadata": {},
   "outputs": [],
   "source": [
    "df_steam = recomd"
   ]
  },
  {
   "cell_type": "code",
   "execution_count": 45,
   "metadata": {},
   "outputs": [],
   "source": [
    "df_steam['interaction'] = df_steam['is_recommended'].astype(int)"
   ]
  },
  {
   "cell_type": "code",
   "execution_count": 46,
   "metadata": {},
   "outputs": [
    {
     "data": {
      "text/plain": [
       "interaction\n",
       "1    35304398\n",
       "0     5850396\n",
       "Name: count, dtype: int64"
      ]
     },
     "execution_count": 46,
     "metadata": {},
     "output_type": "execute_result"
    }
   ],
   "source": [
    "df_steam['interaction'].value_counts()"
   ]
  },
  {
   "cell_type": "code",
   "execution_count": 47,
   "metadata": {},
   "outputs": [
    {
     "data": {
      "text/plain": [
       "[('user_id', 13781059, 'spr'),\n",
       " ('app_id', 37610, 'spr'),\n",
       " ('date', -1, 'ctn'),\n",
       " ('interaction', 2, 'label')]"
      ]
     },
     "execution_count": 47,
     "metadata": {},
     "output_type": "execute_result"
    }
   ],
   "source": [
    "# define unique function\n",
    "def _unique(sample, fname):\n",
    "    tmp_df = pd.DataFrame()\n",
    "    tmp_df[fname] = sample[fname].unique()\n",
    "    num = len(tmp_df)\n",
    "    tmp_df['tmp_feature'] = range(num)\n",
    "    sample = sample.join(tmp_df.set_index(fname), on=fname)\n",
    "    sample.drop(fname, axis=1, inplace=True)\n",
    "    sample = sample.rename(columns = {\"tmp_feature\": fname})\n",
    "    return num, sample\n",
    "\n",
    "num_user, df_steam = _unique(df_steam, 'user_id')\n",
    "num_app, df_steam = _unique(df_steam, 'app_id')\n",
    "\n",
    "description = [\n",
    "    ('user_id', num_user, 'spr'),  # 변환된 유저 ID\n",
    "    ('app_id', num_app, 'spr'),  # 변환된 게임(아이템) ID\n",
    "    ('date', -1, 'ctn'),  # 정규화된 날짜\n",
    "    ('interaction', 2, 'label')  # 클릭 여부\n",
    "]\n",
    "description\n"
   ]
  },
  {
   "cell_type": "code",
   "execution_count": 48,
   "metadata": {},
   "outputs": [],
   "source": [
    "df_steam['date'] = pd.to_datetime(df_steam['date'])\n",
    "df_steam['date'] = (df_steam['date'] - pd.Timestamp(\"1970-01-01\")).dt.days\n",
    "min_date = np.min(df_steam['date'])\n",
    "max_date = np.max(df_steam['date'])\n",
    "\n",
    "df_steam['date'] = df_steam['date'].map(lambda x: (x - min_date) / (max_date - min_date))\n",
    "df_steam = df_steam.sort_values(by='date')  # 시간순 정렬\n"
   ]
  },
  {
   "cell_type": "code",
   "execution_count": 49,
   "metadata": {},
   "outputs": [
    {
     "data": {
      "text/plain": [
       "[<matplotlib.lines.Line2D at 0x7f0d4f16d900>]"
      ]
     },
     "execution_count": 49,
     "metadata": {},
     "output_type": "execute_result"
    },
    {
     "data": {
      "image/png": "[encoded data removed]",
      "text/plain": [
       "<Figure size 640x480 with 1 Axes>"
      ]
     },
     "metadata": {},
     "output_type": "display_data"
    }
   ],
   "source": [
    "# plot item counts vs item\n",
    "user2count = df_steam.groupby(['app_id']).size().reset_index(name='count').sort_values(by='count')\n",
    "item_ids = list(user2count['app_id'])\n",
    "counts = np.array(user2count['count'])\n",
    "plt.plot(np.arange(len(counts)), counts)"
   ]
  },
  {
   "cell_type": "code",
   "execution_count": 50,
   "metadata": {},
   "outputs": [],
   "source": [
    "def split_2(df_ratings, description, N=274, K=10):\n",
    "    user2count = df_ratings.groupby(['app_id']).size().reset_index(name='count').sort_values(by='count')\n",
    "    item_ids = user2count['app_id'].to_numpy()\n",
    "    counts = user2count['count'].to_numpy()\n",
    "\n",
    "    hot_item_ids = item_ids[counts > N]\n",
    "    cold_item_ids = item_ids[(counts <= N) & (counts >= 3 * K)]\n",
    "\n",
    "    item_group = df_ratings.groupby('app_id')\n",
    "\n",
    "    train_base_list = []\n",
    "    for item_id in hot_item_ids:\n",
    "        df_hot = item_group.get_group(item_id).sort_values(by='date')\n",
    "        train_base_list.append(df_hot)\n",
    "\n",
    "    train_base = pd.concat(train_base_list, ignore_index=True)\n",
    "\n",
    "    train_warm_a_list, train_warm_b_list, train_warm_c_list, test_list = [], [], [], []\n",
    "    \n",
    "    for item_id in cold_item_ids:\n",
    "        df_cold = item_group.get_group(item_id).sort_values(by='date')\n",
    "        train_warm_a_list.append(df_cold[:K])\n",
    "        train_warm_b_list.append(df_cold[K:2*K])\n",
    "        train_warm_c_list.append(df_cold[2*K:3*K])\n",
    "        test_list.append(df_cold[3*K:])\n",
    "    \n",
    "    train_warm_a = pd.concat(train_warm_a_list, ignore_index=True)\n",
    "    train_warm_b = pd.concat(train_warm_b_list, ignore_index=True)\n",
    "    train_warm_c = pd.concat(train_warm_c_list, ignore_index=True)\n",
    "    test = pd.concat(test_list, ignore_index=True)\n",
    "\n",
    "    save_dic = {\n",
    "        'train_base': train_base.sort_values('date'),\n",
    "        'train_warm_a': train_warm_a.sort_values('date'),\n",
    "        'train_warm_b': train_warm_b.sort_values('date'),\n",
    "        'train_warm_c': train_warm_c.sort_values('date'),\n",
    "        'test': test.sort_values('date'),\n",
    "        'description': description\n",
    "    }\n",
    "\n",
    "    for name, df in save_dic.items():\n",
    "        print(\"{} size: {}\".format(name, len(df)))\n",
    "\n",
    "    with open('./emb_warm_split_preprocess.pkl', 'bw+') as f:\n",
    "        pickle.dump(save_dic, f)\n"
   ]
  },
  {
   "cell_type": "code",
   "execution_count": 51,
   "metadata": {},
   "outputs": [
    {
     "name": "stdout",
     "output_type": "stream",
     "text": [
      "train_base size: 39636576\n",
      "train_warm_a size: 135630\n",
      "train_warm_b size: 135630\n",
      "train_warm_c size: 135630\n",
      "test size: 897366\n",
      "description size: 4\n"
     ]
    }
   ],
   "source": [
    "split_2(df_steam, description)"
   ]
  },
  {
   "cell_type": "code",
   "execution_count": 52,
   "metadata": {},
   "outputs": [],
   "source": [
    "# Get training data for Meta-Embedding method\n",
    "with open('./emb_warm_split_preprocess.pkl', 'rb') as f:\n",
    "    data = pickle.load(f)\n",
    "\n",
    "df_base = data['train_base']\n",
    "item2group = df_base.groupby('app_id')\n",
    "\n",
    "train_a_list, train_b_list, train_c_list, train_d_list = [], [], [], []\n",
    "\n",
    "for item_id, df_group in item2group:\n",
    "    l, e = df_group.shape[0], df_group.shape[0] // 4     \n",
    "    train_a_list.append(df_group.iloc[0:e])\n",
    "    train_b_list.append(df_group.iloc[e: 2 * e])\n",
    "    train_c_list.append(df_group.iloc[2 * e: 3 * e])\n",
    "    train_d_list.append(df_group.iloc[3 * e: 4 * e]) \n",
    "\n",
    "train_a = pd.concat(train_a_list, ignore_index=True)\n",
    "train_b = pd.concat(train_b_list, ignore_index=True)\n",
    "train_c = pd.concat(train_c_list, ignore_index=True)\n",
    "train_d = pd.concat(train_d_list, ignore_index=True)\n",
    "\n",
    "shuffle_idx = np.random.permutation(train_a.shape[0])\n",
    "train_a = train_a.iloc[shuffle_idx]\n",
    "train_b = train_b.iloc[shuffle_idx]\n",
    "train_c = train_c.iloc[shuffle_idx]\n",
    "train_d = train_d.iloc[shuffle_idx]\n",
    "\n",
    "data[\"metaE_a\"] = train_a\n",
    "data[\"metaE_b\"] = train_b\n",
    "data[\"metaE_c\"] = train_c\n",
    "data[\"metaE_d\"] = train_d\n",
    "\n",
    "with open('./Steam_data.pkl', 'wb') as f:\n",
    "    pickle.dump(data, f)\n"
   ]
  },
  {
   "cell_type": "code",
   "execution_count": 53,
   "metadata": {},
   "outputs": [
    {
     "name": "stdout",
     "output_type": "stream",
     "text": [
      "데이터 타입: <class 'dict'>\n",
      "데이터 크기: 10\n",
      "데이터 키 목록: dict_keys(['train_base', 'train_warm_a', 'train_warm_b', 'train_warm_c', 'test', 'description', 'metaE_a', 'metaE_b', 'metaE_c', 'metaE_d'])\n"
     ]
    }
   ],
   "source": [
    "print(\"데이터 타입:\", type(data))\n",
    "print(\"데이터 크기:\", len(data) if isinstance(data, dict) else \"Not a dict\")\n",
    "print(\"데이터 키 목록:\", data.keys() if isinstance(data, dict) else \"Not a dict\")\n"
   ]
  },
  {
   "cell_type": "code",
   "execution_count": null,
   "metadata": {},
   "outputs": [],
   "source": []
  }
 ],
 "metadata": {
  "kernelspec": {
   "display_name": "base",
   "language": "python",
   "name": "python3"
  },
  "language_info": {
   "codemirror_mode": {
    "name": "ipython",
    "version": 3
   },
   "file_extension": ".py",
   "mimetype": "text/x-python",
   "name": "python",
   "nbconvert_exporter": "python",
   "pygments_lexer": "ipython3",
   "version": "3.10.13"
  }
 },
 "nbformat": 4,
 "nbformat_minor": 2
}
