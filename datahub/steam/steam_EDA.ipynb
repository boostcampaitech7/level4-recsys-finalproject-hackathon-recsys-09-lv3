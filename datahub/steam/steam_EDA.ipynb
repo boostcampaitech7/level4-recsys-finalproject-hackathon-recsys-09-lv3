{
 "cells": [
  {
   "cell_type": "markdown",
   "metadata": {},
   "source": [
    "# 코드 설명\n",
    "1. Data Split EDA\n",
    "2. 데이터 전처리 - 여기서 부터 실행시키면 됩니다.\n",
    "3. 최종 데이터 split"
   ]
  },
  {
   "cell_type": "code",
   "execution_count": 1,
   "metadata": {},
   "outputs": [],
   "source": [
    "import os\n",
    "\n",
    "import numpy as np\n",
    "import random\n",
    "import pandas as pd\n",
    "from tqdm import tqdm\n",
    "import pickle\n",
    "from nltk.tokenize import RegexpTokenizer\n",
    "\n",
    "import matplotlib.pyplot as plt\n",
    "%matplotlib inline\n",
    "\n",
    "# pandas options\n",
    "pd.set_option('mode.copy_on_write', True)  # pandas 2.0\n",
    "pd.set_option('display.max_columns', 100)\n",
    "pd.options.display.float_format = '{:.4f}'.format  # pd.reset_option('display.float_format')\n",
    "\n",
    "# NumPy options\n",
    "np.set_printoptions(precision = 2, suppress=True)  # suppress scientific notation"
   ]
  },
  {
   "cell_type": "code",
   "execution_count": 2,
   "metadata": {},
   "outputs": [],
   "source": [
    "recomd = pd.read_csv('inter.csv')"
   ]
  },
  {
   "cell_type": "code",
   "execution_count": 3,
   "metadata": {},
   "outputs": [],
   "source": [
    "item = pd.read_csv('item.csv')"
   ]
  },
  {
   "cell_type": "code",
   "execution_count": 4,
   "metadata": {},
   "outputs": [],
   "source": [
    "recomd.rename(columns={\"app_id\": \"item_id\"}, inplace=True)"
   ]
  },
  {
   "cell_type": "markdown",
   "metadata": {},
   "source": [
    "# 1. Data Split EDA"
   ]
  },
  {
   "cell_type": "code",
   "execution_count": 5,
   "metadata": {},
   "outputs": [
    {
     "data": {
      "text/plain": [
       "680812"
      ]
     },
     "execution_count": 5,
     "metadata": {},
     "output_type": "execute_result"
    }
   ],
   "source": [
    "recomd[\"user_id\"].nunique() "
   ]
  },
  {
   "cell_type": "code",
   "execution_count": 6,
   "metadata": {},
   "outputs": [],
   "source": [
    "item_group = recomd.sort_values(by=['item_id','date'])"
   ]
  },
  {
   "cell_type": "code",
   "execution_count": 7,
   "metadata": {},
   "outputs": [
    {
     "data": {
      "image/png": "[encoded data removed]",
      "text/plain": [
       "<Figure size 640x480 with 1 Axes>"
      ]
     },
     "metadata": {},
     "output_type": "display_data"
    }
   ],
   "source": [
    "item_count = recomd.groupby('item_id').size().reset_index(name = 'count')\n",
    "item_count['count'].hist()\n",
    "plt.show()"
   ]
  },
  {
   "cell_type": "code",
   "execution_count": 8,
   "metadata": {},
   "outputs": [
    {
     "name": "stdout",
     "output_type": "stream",
     "text": [
      "임계값 (상위 20%): 163.0\n"
     ]
    }
   ],
   "source": [
    "# 상위 20% 아이템\n",
    "threshold = item_count['count'].quantile(0.8)\n",
    "print(f\"임계값 (상위 20%): {threshold}\")"
   ]
  },
  {
   "cell_type": "code",
   "execution_count": 9,
   "metadata": {},
   "outputs": [],
   "source": [
    "# Old Items와 New Items 분리 - 상위 20% 기준으로\n",
    "item_count['category'] = item_count['count'].apply(\n",
    "    lambda x: 'Old' if x >= threshold else ('New' if x >= 30 else 'Other')\n",
    ")\n",
    "\n",
    "old_items = item_count[item_count['category'] == 'Old']\n",
    "new_items = item_count[item_count['category'] == 'New']"
   ]
  },
  {
   "cell_type": "code",
   "execution_count": 10,
   "metadata": {},
   "outputs": [
    {
     "data": {
      "text/plain": [
       "category\n",
       "Other    19496\n",
       "New      10214\n",
       "Old       7431\n",
       "Name: count, dtype: int64"
      ]
     },
     "execution_count": 10,
     "metadata": {},
     "output_type": "execute_result"
    }
   ],
   "source": [
    "item_count['category'].value_counts()\n"
   ]
  },
  {
   "cell_type": "code",
   "execution_count": 11,
   "metadata": {},
   "outputs": [],
   "source": [
    "new_ids = new_items['item_id']\n",
    "new_df  = item_group[item_group['item_id'].isin(new_ids)]\n",
    "\n",
    "old_ids = old_items['item_id']\n",
    "old_df = item_group[item_group['item_id'].isin(old_ids)]"
   ]
  },
  {
   "cell_type": "code",
   "execution_count": 12,
   "metadata": {},
   "outputs": [],
   "source": [
    "new2count = new_df.groupby('item_id').size().reset_index(name = 'count')\n",
    "old2count = old_df.groupby('item_id').size().reset_index(name = 'count')"
   ]
  },
  {
   "cell_type": "code",
   "execution_count": 63,
   "metadata": {},
   "outputs": [],
   "source": [
    "new2count = new2count.merge(item, on=\"item_id\", how=\"left\")\n",
    "old2count = old2count.merge(item, on=\"item_id\", how=\"left\")\n"
   ]
  },
  {
   "cell_type": "code",
   "execution_count": 15,
   "metadata": {},
   "outputs": [],
   "source": [
    "new2count['date_release'] = pd.to_datetime(new2count['date_release'])\n",
    "old2count['date_release'] = pd.to_datetime(old2count['date_release'])"
   ]
  },
  {
   "cell_type": "code",
   "execution_count": 16,
   "metadata": {},
   "outputs": [],
   "source": [
    "new2count['year'] = new2count['date_release'].dt.year\n",
    "old2count['year'] = old2count['date_release'].dt.year"
   ]
  },
  {
   "cell_type": "markdown",
   "metadata": {},
   "source": [
    "---"
   ]
  },
  {
   "cell_type": "markdown",
   "metadata": {},
   "source": [
    "# 데이터 EDA"
   ]
  },
  {
   "cell_type": "code",
   "execution_count": 17,
   "metadata": {},
   "outputs": [],
   "source": [
    "new2count = new2count[new2count['year'] >= 2020]"
   ]
  },
  {
   "cell_type": "code",
   "execution_count": 20,
   "metadata": {},
   "outputs": [
    {
     "data": {
      "text/plain": [
       "0        Single-player, Multi-player, PvP, Online PvP, ...\n",
       "76                                           Single-player\n",
       "537      Single-player, Multi-player, PvP, Online PvP, ...\n",
       "748      Single-player, Steam Achievements, Steam Tradi...\n",
       "846      Single-player, Multi-player, Co-op, Shared/Spl...\n",
       "                               ...                        \n",
       "10209                      Single-player, In-App Purchases\n",
       "10210               Single-player, Full controller support\n",
       "10211                    Single-player, Steam Achievements\n",
       "10212                                        Single-player\n",
       "10213    Single-player, Steam Achievements, Full contro...\n",
       "Name: categories, Length: 3462, dtype: object"
      ]
     },
     "execution_count": 20,
     "metadata": {},
     "output_type": "execute_result"
    }
   ],
   "source": [
    "new2count['categories']"
   ]
  },
  {
   "cell_type": "code",
   "execution_count": 30,
   "metadata": {},
   "outputs": [
    {
     "data": {
      "image/png": "[encoded data removed]",
      "text/plain": [
       "<Figure size 1200x600 with 1 Axes>"
      ]
     },
     "metadata": {},
     "output_type": "display_data"
    }
   ],
   "source": [
    "from collections import Counter\n",
    "import seaborn as sns\n",
    "# 모든 카테고리를 리스트로 풀어서 카운트\n",
    "category_list = [cat.strip() for sublist in new2count['categories'].dropna().str.split(',') for cat in sublist]\n",
    "\n",
    "# 카테고리별 빈도 계산\n",
    "category_counts = Counter(category_list)\n",
    "\n",
    "# 데이터프레임으로 변환\n",
    "category_df = pd.DataFrame(category_counts.items(), columns=['Category', 'Count']).sort_values(by='Count', ascending=False)\n",
    "\n",
    "# 상위 10개 카테고리 시각화\n",
    "plt.figure(figsize=(12, 6))\n",
    "sns.barplot(x=category_df['Count'][:10], y=category_df['Category'][:10])\n",
    "plt.xlabel(\"Count\")\n",
    "plt.ylabel(\"Category\")\n",
    "plt.title(\"Top 10 Most Frequent Categories\")\n",
    "plt.show()\n"
   ]
  },
  {
   "cell_type": "code",
   "execution_count": 31,
   "metadata": {},
   "outputs": [
    {
     "data": {
      "text/html": [
       "<div>\n",
       "<style scoped>\n",
       "    .dataframe tbody tr th:only-of-type {\n",
       "        vertical-align: middle;\n",
       "    }\n",
       "\n",
       "    .dataframe tbody tr th {\n",
       "        vertical-align: top;\n",
       "    }\n",
       "\n",
       "    .dataframe thead th {\n",
       "        text-align: right;\n",
       "    }\n",
       "</style>\n",
       "<table border=\"1\" class=\"dataframe\">\n",
       "  <thead>\n",
       "    <tr style=\"text-align: right;\">\n",
       "      <th></th>\n",
       "      <th>Category</th>\n",
       "      <th>Count</th>\n",
       "    </tr>\n",
       "  </thead>\n",
       "  <tbody>\n",
       "    <tr>\n",
       "      <th>0</th>\n",
       "      <td>Single-player</td>\n",
       "      <td>3285</td>\n",
       "    </tr>\n",
       "    <tr>\n",
       "      <th>7</th>\n",
       "      <td>Steam Achievements</td>\n",
       "      <td>2124</td>\n",
       "    </tr>\n",
       "    <tr>\n",
       "      <th>10</th>\n",
       "      <td>Steam Cloud</td>\n",
       "      <td>1335</td>\n",
       "    </tr>\n",
       "    <tr>\n",
       "      <th>8</th>\n",
       "      <td>Full controller support</td>\n",
       "      <td>987</td>\n",
       "    </tr>\n",
       "    <tr>\n",
       "      <th>1</th>\n",
       "      <td>Multi-player</td>\n",
       "      <td>731</td>\n",
       "    </tr>\n",
       "    <tr>\n",
       "      <th>2</th>\n",
       "      <td>PvP</td>\n",
       "      <td>481</td>\n",
       "    </tr>\n",
       "    <tr>\n",
       "      <th>22</th>\n",
       "      <td>Partial Controller Support</td>\n",
       "      <td>478</td>\n",
       "    </tr>\n",
       "    <tr>\n",
       "      <th>5</th>\n",
       "      <td>Co-op</td>\n",
       "      <td>441</td>\n",
       "    </tr>\n",
       "    <tr>\n",
       "      <th>3</th>\n",
       "      <td>Online PvP</td>\n",
       "      <td>398</td>\n",
       "    </tr>\n",
       "    <tr>\n",
       "      <th>9</th>\n",
       "      <td>Steam Trading Cards</td>\n",
       "      <td>377</td>\n",
       "    </tr>\n",
       "    <tr>\n",
       "      <th>6</th>\n",
       "      <td>Online Co-op</td>\n",
       "      <td>298</td>\n",
       "    </tr>\n",
       "    <tr>\n",
       "      <th>11</th>\n",
       "      <td>Steam Leaderboards</td>\n",
       "      <td>257</td>\n",
       "    </tr>\n",
       "    <tr>\n",
       "      <th>14</th>\n",
       "      <td>Remote Play Together</td>\n",
       "      <td>255</td>\n",
       "    </tr>\n",
       "    <tr>\n",
       "      <th>13</th>\n",
       "      <td>Shared/Split Screen</td>\n",
       "      <td>248</td>\n",
       "    </tr>\n",
       "    <tr>\n",
       "      <th>12</th>\n",
       "      <td>Shared/Split Screen Co-op</td>\n",
       "      <td>182</td>\n",
       "    </tr>\n",
       "    <tr>\n",
       "      <th>23</th>\n",
       "      <td>In-App Purchases</td>\n",
       "      <td>176</td>\n",
       "    </tr>\n",
       "    <tr>\n",
       "      <th>18</th>\n",
       "      <td>Shared/Split Screen PvP</td>\n",
       "      <td>153</td>\n",
       "    </tr>\n",
       "    <tr>\n",
       "      <th>16</th>\n",
       "      <td>Stats</td>\n",
       "      <td>146</td>\n",
       "    </tr>\n",
       "    <tr>\n",
       "      <th>15</th>\n",
       "      <td>Steam Workshop</td>\n",
       "      <td>133</td>\n",
       "    </tr>\n",
       "    <tr>\n",
       "      <th>21</th>\n",
       "      <td>Cross-Platform Multiplayer</td>\n",
       "      <td>109</td>\n",
       "    </tr>\n",
       "    <tr>\n",
       "      <th>17</th>\n",
       "      <td>Remote Play on TV</td>\n",
       "      <td>89</td>\n",
       "    </tr>\n",
       "    <tr>\n",
       "      <th>19</th>\n",
       "      <td>Includes level editor</td>\n",
       "      <td>84</td>\n",
       "    </tr>\n",
       "    <tr>\n",
       "      <th>27</th>\n",
       "      <td>MMO</td>\n",
       "      <td>75</td>\n",
       "    </tr>\n",
       "    <tr>\n",
       "      <th>4</th>\n",
       "      <td>LAN PvP</td>\n",
       "      <td>39</td>\n",
       "    </tr>\n",
       "    <tr>\n",
       "      <th>20</th>\n",
       "      <td>LAN Co-op</td>\n",
       "      <td>39</td>\n",
       "    </tr>\n",
       "    <tr>\n",
       "      <th>24</th>\n",
       "      <td>Captions available</td>\n",
       "      <td>29</td>\n",
       "    </tr>\n",
       "    <tr>\n",
       "      <th>29</th>\n",
       "      <td>Remote Play on Tablet</td>\n",
       "      <td>29</td>\n",
       "    </tr>\n",
       "    <tr>\n",
       "      <th>28</th>\n",
       "      <td>Remote Play on Phone</td>\n",
       "      <td>25</td>\n",
       "    </tr>\n",
       "    <tr>\n",
       "      <th>30</th>\n",
       "      <td>Commentary available</td>\n",
       "      <td>9</td>\n",
       "    </tr>\n",
       "    <tr>\n",
       "      <th>31</th>\n",
       "      <td>Steam Turn Notifications</td>\n",
       "      <td>4</td>\n",
       "    </tr>\n",
       "    <tr>\n",
       "      <th>25</th>\n",
       "      <td>VR Support</td>\n",
       "      <td>1</td>\n",
       "    </tr>\n",
       "    <tr>\n",
       "      <th>26</th>\n",
       "      <td>Valve Anti-Cheat enabled</td>\n",
       "      <td>1</td>\n",
       "    </tr>\n",
       "    <tr>\n",
       "      <th>32</th>\n",
       "      <td>VR Only</td>\n",
       "      <td>1</td>\n",
       "    </tr>\n",
       "    <tr>\n",
       "      <th>33</th>\n",
       "      <td>Includes Source SDK</td>\n",
       "      <td>1</td>\n",
       "    </tr>\n",
       "  </tbody>\n",
       "</table>\n",
       "</div>"
      ],
      "text/plain": [
       "                      Category  Count\n",
       "0                Single-player   3285\n",
       "7           Steam Achievements   2124\n",
       "10                 Steam Cloud   1335\n",
       "8      Full controller support    987\n",
       "1                 Multi-player    731\n",
       "2                          PvP    481\n",
       "22  Partial Controller Support    478\n",
       "5                        Co-op    441\n",
       "3                   Online PvP    398\n",
       "9          Steam Trading Cards    377\n",
       "6                 Online Co-op    298\n",
       "11          Steam Leaderboards    257\n",
       "14        Remote Play Together    255\n",
       "13         Shared/Split Screen    248\n",
       "12   Shared/Split Screen Co-op    182\n",
       "23            In-App Purchases    176\n",
       "18     Shared/Split Screen PvP    153\n",
       "16                       Stats    146\n",
       "15              Steam Workshop    133\n",
       "21  Cross-Platform Multiplayer    109\n",
       "17           Remote Play on TV     89\n",
       "19       Includes level editor     84\n",
       "27                         MMO     75\n",
       "4                      LAN PvP     39\n",
       "20                   LAN Co-op     39\n",
       "24          Captions available     29\n",
       "29       Remote Play on Tablet     29\n",
       "28        Remote Play on Phone     25\n",
       "30        Commentary available      9\n",
       "31    Steam Turn Notifications      4\n",
       "25                  VR Support      1\n",
       "26    Valve Anti-Cheat enabled      1\n",
       "32                     VR Only      1\n",
       "33         Includes Source SDK      1"
      ]
     },
     "execution_count": 31,
     "metadata": {},
     "output_type": "execute_result"
    }
   ],
   "source": [
    "category_df"
   ]
  },
  {
   "cell_type": "code",
   "execution_count": 32,
   "metadata": {},
   "outputs": [
    {
     "data": {
      "image/png": "[encoded data removed]",
      "text/plain": [
       "<Figure size 1200x600 with 1 Axes>"
      ]
     },
     "metadata": {},
     "output_type": "display_data"
    }
   ],
   "source": [
    "category_list = [cat.strip() for sublist in old2count['categories'].dropna().str.split(',') for cat in sublist]\n",
    "\n",
    "# 카테고리별 빈도 계산\n",
    "category_counts = Counter(category_list)\n",
    "\n",
    "# 데이터프레임으로 변환\n",
    "category_df = pd.DataFrame(category_counts.items(), columns=['Category', 'Count']).sort_values(by='Count', ascending=False)\n",
    "\n",
    "# 상위 10개 카테고리 시각화\n",
    "plt.figure(figsize=(12, 6))\n",
    "sns.barplot(x=category_df['Count'][:20], y=category_df['Category'][:10])\n",
    "plt.xlabel(\"Count\")\n",
    "plt.ylabel(\"Category\")\n",
    "plt.title(\"Top 10 Most Frequent Categories\")\n",
    "plt.show()"
   ]
  },
  {
   "cell_type": "code",
   "execution_count": 33,
   "metadata": {},
   "outputs": [
    {
     "data": {
      "text/html": [
       "<div>\n",
       "<style scoped>\n",
       "    .dataframe tbody tr th:only-of-type {\n",
       "        vertical-align: middle;\n",
       "    }\n",
       "\n",
       "    .dataframe tbody tr th {\n",
       "        vertical-align: top;\n",
       "    }\n",
       "\n",
       "    .dataframe thead th {\n",
       "        text-align: right;\n",
       "    }\n",
       "</style>\n",
       "<table border=\"1\" class=\"dataframe\">\n",
       "  <thead>\n",
       "    <tr style=\"text-align: right;\">\n",
       "      <th></th>\n",
       "      <th>Category</th>\n",
       "      <th>Count</th>\n",
       "    </tr>\n",
       "  </thead>\n",
       "  <tbody>\n",
       "    <tr>\n",
       "      <th>6</th>\n",
       "      <td>Single-player</td>\n",
       "      <td>6908</td>\n",
       "    </tr>\n",
       "    <tr>\n",
       "      <th>10</th>\n",
       "      <td>Steam Achievements</td>\n",
       "      <td>5301</td>\n",
       "    </tr>\n",
       "    <tr>\n",
       "      <th>7</th>\n",
       "      <td>Steam Cloud</td>\n",
       "      <td>3802</td>\n",
       "    </tr>\n",
       "    <tr>\n",
       "      <th>11</th>\n",
       "      <td>Steam Trading Cards</td>\n",
       "      <td>3726</td>\n",
       "    </tr>\n",
       "    <tr>\n",
       "      <th>22</th>\n",
       "      <td>Full controller support</td>\n",
       "      <td>2627</td>\n",
       "    </tr>\n",
       "    <tr>\n",
       "      <th>0</th>\n",
       "      <td>Multi-player</td>\n",
       "      <td>2613</td>\n",
       "    </tr>\n",
       "    <tr>\n",
       "      <th>21</th>\n",
       "      <td>Co-op</td>\n",
       "      <td>1493</td>\n",
       "    </tr>\n",
       "    <tr>\n",
       "      <th>1</th>\n",
       "      <td>PvP</td>\n",
       "      <td>1402</td>\n",
       "    </tr>\n",
       "    <tr>\n",
       "      <th>13</th>\n",
       "      <td>Partial Controller Support</td>\n",
       "      <td>1332</td>\n",
       "    </tr>\n",
       "    <tr>\n",
       "      <th>2</th>\n",
       "      <td>Online PvP</td>\n",
       "      <td>1238</td>\n",
       "    </tr>\n",
       "    <tr>\n",
       "      <th>23</th>\n",
       "      <td>Steam Leaderboards</td>\n",
       "      <td>1075</td>\n",
       "    </tr>\n",
       "    <tr>\n",
       "      <th>25</th>\n",
       "      <td>Online Co-op</td>\n",
       "      <td>984</td>\n",
       "    </tr>\n",
       "    <tr>\n",
       "      <th>24</th>\n",
       "      <td>Remote Play on TV</td>\n",
       "      <td>972</td>\n",
       "    </tr>\n",
       "    <tr>\n",
       "      <th>5</th>\n",
       "      <td>Remote Play Together</td>\n",
       "      <td>876</td>\n",
       "    </tr>\n",
       "    <tr>\n",
       "      <th>28</th>\n",
       "      <td>Shared/Split Screen</td>\n",
       "      <td>695</td>\n",
       "    </tr>\n",
       "    <tr>\n",
       "      <th>19</th>\n",
       "      <td>Steam Workshop</td>\n",
       "      <td>651</td>\n",
       "    </tr>\n",
       "    <tr>\n",
       "      <th>9</th>\n",
       "      <td>Remote Play on Tablet</td>\n",
       "      <td>639</td>\n",
       "    </tr>\n",
       "    <tr>\n",
       "      <th>16</th>\n",
       "      <td>Stats</td>\n",
       "      <td>572</td>\n",
       "    </tr>\n",
       "    <tr>\n",
       "      <th>15</th>\n",
       "      <td>Cross-Platform Multiplayer</td>\n",
       "      <td>496</td>\n",
       "    </tr>\n",
       "    <tr>\n",
       "      <th>8</th>\n",
       "      <td>Remote Play on Phone</td>\n",
       "      <td>493</td>\n",
       "    </tr>\n",
       "    <tr>\n",
       "      <th>20</th>\n",
       "      <td>In-App Purchases</td>\n",
       "      <td>489</td>\n",
       "    </tr>\n",
       "    <tr>\n",
       "      <th>18</th>\n",
       "      <td>Includes level editor</td>\n",
       "      <td>477</td>\n",
       "    </tr>\n",
       "    <tr>\n",
       "      <th>3</th>\n",
       "      <td>Shared/Split Screen PvP</td>\n",
       "      <td>420</td>\n",
       "    </tr>\n",
       "    <tr>\n",
       "      <th>27</th>\n",
       "      <td>Shared/Split Screen Co-op</td>\n",
       "      <td>414</td>\n",
       "    </tr>\n",
       "    <tr>\n",
       "      <th>12</th>\n",
       "      <td>Captions available</td>\n",
       "      <td>322</td>\n",
       "    </tr>\n",
       "    <tr>\n",
       "      <th>31</th>\n",
       "      <td>MMO</td>\n",
       "      <td>232</td>\n",
       "    </tr>\n",
       "    <tr>\n",
       "      <th>29</th>\n",
       "      <td>LAN PvP</td>\n",
       "      <td>114</td>\n",
       "    </tr>\n",
       "    <tr>\n",
       "      <th>30</th>\n",
       "      <td>LAN Co-op</td>\n",
       "      <td>103</td>\n",
       "    </tr>\n",
       "    <tr>\n",
       "      <th>4</th>\n",
       "      <td>Valve Anti-Cheat enabled</td>\n",
       "      <td>94</td>\n",
       "    </tr>\n",
       "    <tr>\n",
       "      <th>17</th>\n",
       "      <td>Commentary available</td>\n",
       "      <td>74</td>\n",
       "    </tr>\n",
       "    <tr>\n",
       "      <th>35</th>\n",
       "      <td>VR Support</td>\n",
       "      <td>67</td>\n",
       "    </tr>\n",
       "    <tr>\n",
       "      <th>14</th>\n",
       "      <td>Includes Source SDK</td>\n",
       "      <td>27</td>\n",
       "    </tr>\n",
       "    <tr>\n",
       "      <th>26</th>\n",
       "      <td>SteamVR Collectibles</td>\n",
       "      <td>23</td>\n",
       "    </tr>\n",
       "    <tr>\n",
       "      <th>34</th>\n",
       "      <td>Steam Turn Notifications</td>\n",
       "      <td>22</td>\n",
       "    </tr>\n",
       "    <tr>\n",
       "      <th>33</th>\n",
       "      <td>Mods (require HL2)</td>\n",
       "      <td>2</td>\n",
       "    </tr>\n",
       "    <tr>\n",
       "      <th>32</th>\n",
       "      <td>Mods</td>\n",
       "      <td>2</td>\n",
       "    </tr>\n",
       "    <tr>\n",
       "      <th>36</th>\n",
       "      <td>VR Only</td>\n",
       "      <td>1</td>\n",
       "    </tr>\n",
       "    <tr>\n",
       "      <th>37</th>\n",
       "      <td>VR Supported</td>\n",
       "      <td>1</td>\n",
       "    </tr>\n",
       "  </tbody>\n",
       "</table>\n",
       "</div>"
      ],
      "text/plain": [
       "                      Category  Count\n",
       "6                Single-player   6908\n",
       "10          Steam Achievements   5301\n",
       "7                  Steam Cloud   3802\n",
       "11         Steam Trading Cards   3726\n",
       "22     Full controller support   2627\n",
       "0                 Multi-player   2613\n",
       "21                       Co-op   1493\n",
       "1                          PvP   1402\n",
       "13  Partial Controller Support   1332\n",
       "2                   Online PvP   1238\n",
       "23          Steam Leaderboards   1075\n",
       "25                Online Co-op    984\n",
       "24           Remote Play on TV    972\n",
       "5         Remote Play Together    876\n",
       "28         Shared/Split Screen    695\n",
       "19              Steam Workshop    651\n",
       "9        Remote Play on Tablet    639\n",
       "16                       Stats    572\n",
       "15  Cross-Platform Multiplayer    496\n",
       "8         Remote Play on Phone    493\n",
       "20            In-App Purchases    489\n",
       "18       Includes level editor    477\n",
       "3      Shared/Split Screen PvP    420\n",
       "27   Shared/Split Screen Co-op    414\n",
       "12          Captions available    322\n",
       "31                         MMO    232\n",
       "29                     LAN PvP    114\n",
       "30                   LAN Co-op    103\n",
       "4     Valve Anti-Cheat enabled     94\n",
       "17        Commentary available     74\n",
       "35                  VR Support     67\n",
       "14         Includes Source SDK     27\n",
       "26        SteamVR Collectibles     23\n",
       "34    Steam Turn Notifications     22\n",
       "33          Mods (require HL2)      2\n",
       "32                        Mods      2\n",
       "36                     VR Only      1\n",
       "37                VR Supported      1"
      ]
     },
     "execution_count": 33,
     "metadata": {},
     "output_type": "execute_result"
    }
   ],
   "source": [
    "category_df"
   ]
  },
  {
   "cell_type": "code",
   "execution_count": 49,
   "metadata": {},
   "outputs": [],
   "source": [
    "def split_EDA(df_ratings, N=163, K=10):\n",
    "    user2count = df_ratings.groupby(['item_id']).size().reset_index(name='count').sort_values(by='count')\n",
    "    item_ids = user2count['item_id'].to_numpy()\n",
    "    counts = user2count['count'].to_numpy()\n",
    "\n",
    "    hot_item_ids = item_ids[counts > N]\n",
    "    cold_item_ids = item_ids[(counts <= N) & (counts >= 4 * K)]\n",
    "\n",
    "    item_group = df_ratings.groupby('item_id')\n",
    "\n",
    "    train_base_list = []\n",
    "    for item_id in hot_item_ids:\n",
    "        df_hot = item_group.get_group(item_id).sort_values(by='date')\n",
    "        train_base_list.append(df_hot)\n",
    "\n",
    "    train_base = pd.concat(train_base_list, ignore_index=True)\n",
    "\n",
    "    train_warm_a_list, train_warm_b_list, train_warm_c_list,test_list = [], [], [], [] \n",
    "    \n",
    "    for item_id in cold_item_ids:\n",
    "        df_cold = item_group.get_group(item_id).sort_values(by='date')\n",
    "        df_cold = df_cold[df_cold['year'] >= 2020]  \n",
    "        train_warm_a_list.append(df_cold[:K])\n",
    "        train_warm_b_list.append(df_cold[K:2*K])\n",
    "        train_warm_c_list.append(df_cold[2*K:3*K])\n",
    "        #train_warm_d_list.append(df_cold[3*K:4*K])\n",
    "        test_list.append(df_cold[3*K:6*K])\n",
    "    \n",
    "    train_warm_a = pd.concat(train_warm_a_list, ignore_index=True)\n",
    "    train_warm_b = pd.concat(train_warm_b_list, ignore_index=True)\n",
    "    train_warm_c = pd.concat(train_warm_c_list, ignore_index=True)\n",
    "    #train_warm_d = pd.concat(train_warm_d_list, ignore_index=True)\n",
    "    test = pd.concat(test_list, ignore_index=True)\n",
    "    \n",
    "    return train_base,train_warm_a,train_warm_b,train_warm_c,test"
   ]
  },
  {
   "cell_type": "code",
   "execution_count": 26,
   "metadata": {},
   "outputs": [],
   "source": [
    "df_steam['date_release'] = pd.to_datetime(df_steam['date_release'])\n",
    "df_steam['year'] = df_steam['date_release'].dt.year"
   ]
  },
  {
   "cell_type": "code",
   "execution_count": 109,
   "metadata": {},
   "outputs": [],
   "source": [
    "train_warm_a,train_warm_b,train_warm_c,test = split_EDA(df_ratings=df_steam)"
   ]
  },
  {
   "cell_type": "code",
   "execution_count": 102,
   "metadata": {},
   "outputs": [
    {
     "data": {
      "text/plain": [
       "1161"
      ]
     },
     "execution_count": 102,
     "metadata": {},
     "output_type": "execute_result"
    }
   ],
   "source": [
    "test['item_id'].nunique()"
   ]
  },
  {
   "cell_type": "code",
   "execution_count": 107,
   "metadata": {},
   "outputs": [
    {
     "data": {
      "text/plain": [
       "0.8063667232597623"
      ]
     },
     "execution_count": 107,
     "metadata": {},
     "output_type": "execute_result"
    }
   ],
   "source": [
    "train_warm_d['is_recommended'].mean()"
   ]
  },
  {
   "cell_type": "code",
   "execution_count": 106,
   "metadata": {},
   "outputs": [
    {
     "data": {
      "text/plain": [
       "0.7974715710564767"
      ]
     },
     "execution_count": 106,
     "metadata": {},
     "output_type": "execute_result"
    }
   ],
   "source": [
    "test['is_recommended'].mean()"
   ]
  },
  {
   "cell_type": "code",
   "execution_count": 64,
   "metadata": {},
   "outputs": [
    {
     "data": {
      "text/plain": [
       "0.8422369958981669"
      ]
     },
     "execution_count": 64,
     "metadata": {},
     "output_type": "execute_result"
    }
   ],
   "source": [
    "old_df['is_recommended'].mean()"
   ]
  },
  {
   "cell_type": "markdown",
   "metadata": {},
   "source": [
    "---"
   ]
  },
  {
   "cell_type": "code",
   "execution_count": 19,
   "metadata": {},
   "outputs": [],
   "source": [
    "new2count['category'] = new2count.apply(lambda x: \n",
    "                          'Recent-Low-Interaction' if x['year'] >= 2020 else\n",
    "                          'Old-Low-Interaction' if x['year'] < 2020 else\n",
    "                          'Other', axis=1)\n"
   ]
  },
  {
   "cell_type": "code",
   "execution_count": 23,
   "metadata": {},
   "outputs": [
    {
     "name": "stdout",
     "output_type": "stream",
     "text": [
      "Shapiro Test for Recent-Low-Interaction: p-value = 2.1618002688946545e-39\n",
      "Shapiro Test for Old-Low-Interaction: p-value = 1.1034970729923781e-72\n"
     ]
    },
    {
     "name": "stderr",
     "output_type": "stream",
     "text": [
      "/opt/conda/lib/python3.10/site-packages/scipy/stats/_axis_nan_policy.py:586: UserWarning: scipy.stats.shapiro: For N > 5000, computed p-value may not be accurate. Current N is 9048.\n",
      "  res = hypotest_fun_out(*samples, **kwds)\n"
     ]
    }
   ],
   "source": [
    "import scipy.stats as stats\n",
    "import pprint\n",
    "\n",
    "recent_low = new2count[new2count['category'] == 'Recent-Low-Interaction']['rating_encoded']\n",
    "old_low = new2count[new2count['category'] == 'Old-Low-Interaction']['rating_encoded']\n",
    "\n",
    "# Shapiro-Wilk Test (정규성 검정)\n",
    "shapiro_recent = stats.shapiro(recent_low)\n",
    "shapiro_old = stats.shapiro(old_low)\n",
    "\n",
    "print(f\"Shapiro Test for Recent-Low-Interaction: p-value = {shapiro_recent.pvalue}\")\n",
    "print(f\"Shapiro Test for Old-Low-Interaction: p-value = {shapiro_old.pvalue}\")\n"
   ]
  },
  {
   "cell_type": "code",
   "execution_count": 24,
   "metadata": {},
   "outputs": [
    {
     "name": "stdout",
     "output_type": "stream",
     "text": [
      "{2018: {'P-value': 5.4330485528539285e-136, 'U-statistic': 16264108.0},\n",
      " 2019: {'P-value': 4.527443288238576e-164, 'U-statistic': 16658589.5},\n",
      " 2020: {'P-value': 3.484200948514346e-135, 'U-statistic': 14970314.0},\n",
      " 2021: {'P-value': 1.0651169449003688e-90, 'U-statistic': 11634759.0},\n",
      " 2022: {'P-value': 6.897759244176819e-47, 'U-statistic': 6556529.5}}\n"
     ]
    }
   ],
   "source": [
    "years = [2018, 2019, 2020, 2021, 2022]\n",
    "results = {}\n",
    "\n",
    "for year in years:\n",
    "    new2count['category'] = new2count.apply(lambda x: \n",
    "                          'Recent-Low-Interaction' if x['year'] >= year else\n",
    "                          'Old-Low-Interaction' if x['year'] < year else\n",
    "                          'Other', axis=1)\n",
    "\n",
    "    recent_low = new2count[new2count['category'] == 'Recent-Low-Interaction']['rating_encoded']\n",
    "    old_low = new2count[new2count['category'] == 'Old-Low-Interaction']['rating_encoded']\n",
    "    \n",
    "    \n",
    "    u_stat, p_value = stats.mannwhitneyu(recent_low, old_low, alternative='two-sided')\n",
    "\n",
    "    results[year] = {'U-statistic': u_stat, 'P-value': p_value}\n",
    "\n",
    "pprint.pprint(results)\n"
   ]
  },
  {
   "cell_type": "code",
   "execution_count": 173,
   "metadata": {},
   "outputs": [
    {
     "name": "stdout",
     "output_type": "stream",
     "text": [
      "{2018: {'P-value': 1.2925663395564463e-174, 'U-statistic': 30712573.5},\n",
      " 2019: {'P-value': 3.7454888565334696e-197, 'U-statistic': 30776015.0},\n",
      " 2020: {'P-value': 1.2465234058300836e-168, 'U-statistic': 27542972.5},\n",
      " 2021: {'P-value': 5.0208105415606577e-116, 'U-statistic': 21140633.5},\n",
      " 2022: {'P-value': 4.759251244071341e-57, 'U-statistic': 11650549.5}}\n"
     ]
    }
   ],
   "source": [
    "years = [2018, 2019, 2020, 2021, 2022]\n",
    "results = {}\n",
    "\n",
    "for year in years:\n",
    "    new2count['category'] = new2count.apply(lambda x: \n",
    "                          'Recent-Low-Interaction' if x['year'] >= year else\n",
    "                          'Old-Low-Interaction' if x['year'] < year else\n",
    "                          'Other', axis=1)\n",
    "\n",
    "    recent_low = new2count[new2count['category'] == 'Recent-Low-Interaction']['positive_ratio']\n",
    "    old_low = new2count[new2count['category'] == 'Old-Low-Interaction']['positive_ratio']\n",
    "    \n",
    "\n",
    "    u_stat, p_value = stats.mannwhitneyu(recent_low, old_low, alternative='two-sided')\n",
    "\n",
    "\n",
    "    results[year] = {'U-statistic': u_stat, 'P-value': p_value}\n",
    "\n",
    "pprint.pprint(results)\n"
   ]
  },
  {
   "cell_type": "code",
   "execution_count": 113,
   "metadata": {},
   "outputs": [
    {
     "name": "stdout",
     "output_type": "stream",
     "text": [
      "인기 아이템의 출시일시\n",
      "count   3716.0000\n",
      "mean    2016.7570\n",
      "std        3.7878\n",
      "min     1997.0000\n",
      "25%     2014.0000\n",
      "50%     2017.0000\n",
      "75%     2020.0000\n",
      "max     2023.0000\n",
      "Name: year, dtype: float64\n",
      "인기 없는 아이템의 출시일시\n",
      "count   13929.0000\n",
      "mean     2017.7175\n",
      "std         3.0926\n",
      "min      1997.0000\n",
      "25%      2016.0000\n",
      "50%      2018.0000\n",
      "75%      2020.0000\n",
      "max      2023.0000\n",
      "Name: year, dtype: float64\n"
     ]
    }
   ],
   "source": [
    "print('인기 아이템의 출시일시')\n",
    "print(old2count['year'].describe())\n",
    "print('인기 없는 아이템의 출시일시')\n",
    "print(new2count['year'].describe())"
   ]
  },
  {
   "cell_type": "markdown",
   "metadata": {},
   "source": [
    "---"
   ]
  },
  {
   "cell_type": "markdown",
   "metadata": {},
   "source": [
    "# 2. 데이터 scaling/encoding"
   ]
  },
  {
   "cell_type": "code",
   "execution_count": 25,
   "metadata": {},
   "outputs": [
    {
     "data": {
      "text/html": [
       "<div>\n",
       "<style scoped>\n",
       "    .dataframe tbody tr th:only-of-type {\n",
       "        vertical-align: middle;\n",
       "    }\n",
       "\n",
       "    .dataframe tbody tr th {\n",
       "        vertical-align: top;\n",
       "    }\n",
       "\n",
       "    .dataframe thead th {\n",
       "        text-align: right;\n",
       "    }\n",
       "</style>\n",
       "<table border=\"1\" class=\"dataframe\">\n",
       "  <thead>\n",
       "    <tr style=\"text-align: right;\">\n",
       "      <th></th>\n",
       "      <th>user_id</th>\n",
       "      <th>item_id</th>\n",
       "      <th>is_recommended</th>\n",
       "      <th>date</th>\n",
       "      <th>unix_date</th>\n",
       "      <th>hours</th>\n",
       "      <th>helpful</th>\n",
       "      <th>funny</th>\n",
       "    </tr>\n",
       "  </thead>\n",
       "  <tbody>\n",
       "    <tr>\n",
       "      <th>0</th>\n",
       "      <td>0</td>\n",
       "      <td>63710</td>\n",
       "      <td>0</td>\n",
       "      <td>2014-06-16</td>\n",
       "      <td>1402876800</td>\n",
       "      <td>2.0000</td>\n",
       "      <td>4</td>\n",
       "      <td>0</td>\n",
       "    </tr>\n",
       "    <tr>\n",
       "      <th>1</th>\n",
       "      <td>0</td>\n",
       "      <td>260230</td>\n",
       "      <td>0</td>\n",
       "      <td>2014-06-25</td>\n",
       "      <td>1403654400</td>\n",
       "      <td>5.5000</td>\n",
       "      <td>12</td>\n",
       "      <td>0</td>\n",
       "    </tr>\n",
       "    <tr>\n",
       "      <th>2</th>\n",
       "      <td>0</td>\n",
       "      <td>267060</td>\n",
       "      <td>0</td>\n",
       "      <td>2014-09-02</td>\n",
       "      <td>1409616000</td>\n",
       "      <td>11.5000</td>\n",
       "      <td>6</td>\n",
       "      <td>0</td>\n",
       "    </tr>\n",
       "    <tr>\n",
       "      <th>3</th>\n",
       "      <td>0</td>\n",
       "      <td>8850</td>\n",
       "      <td>1</td>\n",
       "      <td>2014-09-08</td>\n",
       "      <td>1410134400</td>\n",
       "      <td>61.5000</td>\n",
       "      <td>8</td>\n",
       "      <td>0</td>\n",
       "    </tr>\n",
       "    <tr>\n",
       "      <th>4</th>\n",
       "      <td>0</td>\n",
       "      <td>226960</td>\n",
       "      <td>0</td>\n",
       "      <td>2014-09-22</td>\n",
       "      <td>1411344000</td>\n",
       "      <td>1.0000</td>\n",
       "      <td>7</td>\n",
       "      <td>0</td>\n",
       "    </tr>\n",
       "    <tr>\n",
       "      <th>...</th>\n",
       "      <td>...</td>\n",
       "      <td>...</td>\n",
       "      <td>...</td>\n",
       "      <td>...</td>\n",
       "      <td>...</td>\n",
       "      <td>...</td>\n",
       "      <td>...</td>\n",
       "      <td>...</td>\n",
       "    </tr>\n",
       "    <tr>\n",
       "      <th>14529069</th>\n",
       "      <td>9999939</td>\n",
       "      <td>1147030</td>\n",
       "      <td>1</td>\n",
       "      <td>2021-10-21</td>\n",
       "      <td>1634774400</td>\n",
       "      <td>0.2000</td>\n",
       "      <td>0</td>\n",
       "      <td>0</td>\n",
       "    </tr>\n",
       "    <tr>\n",
       "      <th>14529070</th>\n",
       "      <td>9999939</td>\n",
       "      <td>1141030</td>\n",
       "      <td>1</td>\n",
       "      <td>2021-10-21</td>\n",
       "      <td>1634774400</td>\n",
       "      <td>2.0000</td>\n",
       "      <td>0</td>\n",
       "      <td>0</td>\n",
       "    </tr>\n",
       "    <tr>\n",
       "      <th>14529071</th>\n",
       "      <td>9999939</td>\n",
       "      <td>1468260</td>\n",
       "      <td>1</td>\n",
       "      <td>2021-11-24</td>\n",
       "      <td>1637712000</td>\n",
       "      <td>18.3000</td>\n",
       "      <td>0</td>\n",
       "      <td>0</td>\n",
       "    </tr>\n",
       "    <tr>\n",
       "      <th>14529072</th>\n",
       "      <td>9999939</td>\n",
       "      <td>1481400</td>\n",
       "      <td>1</td>\n",
       "      <td>2022-03-05</td>\n",
       "      <td>1646438400</td>\n",
       "      <td>0.7000</td>\n",
       "      <td>0</td>\n",
       "      <td>0</td>\n",
       "    </tr>\n",
       "    <tr>\n",
       "      <th>14529073</th>\n",
       "      <td>9999939</td>\n",
       "      <td>20900</td>\n",
       "      <td>1</td>\n",
       "      <td>2022-11-27</td>\n",
       "      <td>1669507200</td>\n",
       "      <td>23.9000</td>\n",
       "      <td>0</td>\n",
       "      <td>0</td>\n",
       "    </tr>\n",
       "  </tbody>\n",
       "</table>\n",
       "<p>14529074 rows × 8 columns</p>\n",
       "</div>"
      ],
      "text/plain": [
       "          user_id  item_id  is_recommended        date   unix_date   hours  \\\n",
       "0               0    63710               0  2014-06-16  1402876800  2.0000   \n",
       "1               0   260230               0  2014-06-25  1403654400  5.5000   \n",
       "2               0   267060               0  2014-09-02  1409616000 11.5000   \n",
       "3               0     8850               1  2014-09-08  1410134400 61.5000   \n",
       "4               0   226960               0  2014-09-22  1411344000  1.0000   \n",
       "...           ...      ...             ...         ...         ...     ...   \n",
       "14529069  9999939  1147030               1  2021-10-21  1634774400  0.2000   \n",
       "14529070  9999939  1141030               1  2021-10-21  1634774400  2.0000   \n",
       "14529071  9999939  1468260               1  2021-11-24  1637712000 18.3000   \n",
       "14529072  9999939  1481400               1  2022-03-05  1646438400  0.7000   \n",
       "14529073  9999939    20900               1  2022-11-27  1669507200 23.9000   \n",
       "\n",
       "          helpful  funny  \n",
       "0               4      0  \n",
       "1              12      0  \n",
       "2               6      0  \n",
       "3               8      0  \n",
       "4               7      0  \n",
       "...           ...    ...  \n",
       "14529069        0      0  \n",
       "14529070        0      0  \n",
       "14529071        0      0  \n",
       "14529072        0      0  \n",
       "14529073        0      0  \n",
       "\n",
       "[14529074 rows x 8 columns]"
      ]
     },
     "execution_count": 25,
     "metadata": {},
     "output_type": "execute_result"
    }
   ],
   "source": [
    "# date와 hours는 negative sampling으로 인해 사용 불가함\n",
    "recomd"
   ]
  },
  {
   "cell_type": "code",
   "execution_count": 34,
   "metadata": {},
   "outputs": [],
   "source": [
    "df_steam = recomd"
   ]
  },
  {
   "cell_type": "code",
   "execution_count": 35,
   "metadata": {},
   "outputs": [],
   "source": [
    "df_steam['interaction'] = df_steam['is_recommended'].astype(int)"
   ]
  },
  {
   "cell_type": "code",
   "execution_count": 36,
   "metadata": {},
   "outputs": [
    {
     "data": {
      "text/plain": [
       "interaction\n",
       "1    12144253\n",
       "0     2384821\n",
       "Name: count, dtype: int64"
      ]
     },
     "execution_count": 36,
     "metadata": {},
     "output_type": "execute_result"
    }
   ],
   "source": [
    "df_steam['interaction'].value_counts()"
   ]
  },
  {
   "cell_type": "code",
   "execution_count": 36,
   "metadata": {},
   "outputs": [],
   "source": [
    "# import numpy as np\n",
    "# import pandas as pd\n",
    "# from tqdm import tqdm\n",
    "\n",
    "# def negative_sampling(train_data):\n",
    "#     \"\"\"\n",
    "#     Memory-efficient Negative Sampling using vectorized operations.\n",
    "    \n",
    "#     Args:\n",
    "#         train_data (DataFrame): Data with columns ['user_id', 'item_id', 'interaction']\n",
    "#         negative_ratio (int): Number of negative samples per positive sample\n",
    "    \n",
    "#     Returns:\n",
    "#         final_train_data (DataFrame): Positive & Negative samples combined\n",
    "#     \"\"\"\n",
    "    \n",
    "#     # Positive 데이터 추출\n",
    "#     interacted_data = train_data\n",
    "#     positive_data_len = train_data['interaction'].sum()\n",
    "#     negative_data_len = len(train_data) - positive_data_len\n",
    "\n",
    "#     # 모든 유저와 아이템 목록 추출\n",
    "#     unique_users = interacted_data['user_id'].unique()\n",
    "#     all_items = set(train_data['item_id'].unique())  # Set 연산 최적화\n",
    "\n",
    "#     # Negative 샘플링\n",
    "#     negative_samples = []\n",
    "#     user_groups = interacted_data.groupby('user_id')['item_id'].apply(set).to_dict()  # 유저별 상호작용 아이템\n",
    "\n",
    "#     for user_id in tqdm(unique_users, desc=\"Generating Negative Samples\"):\n",
    "#         interacted_items = user_groups.get(user_id, set())\n",
    "\n",
    "#         # 해당 유저가 상호작용하지 않은 아이템 중 랜덤 샘플링\n",
    "#         non_interacted_items = list(all_items - interacted_items)\n",
    "#         num_samples = min(0, positive_data_len-negative_data_len)  # Negative 샘플 개수\n",
    "\n",
    "#         if num_samples > 0:\n",
    "#             sampled_items = np.random.choice(non_interacted_items, num_samples, replace=False)\n",
    "#             negative_samples.extend(zip([user_id] * num_samples, sampled_items, [0] * num_samples))\n",
    "\n",
    "#     # Negative 데이터프레임 생성\n",
    "#     negative_data = pd.DataFrame(negative_samples, columns=['user_id', 'item_id', 'interaction'])\n",
    "\n",
    "#     # Positive와 Negative 데이터 합치기\n",
    "#     final_train_data = pd.concat([interacted_data, negative_data], ignore_index=True)\n",
    "    \n",
    "#     print(\"Positive 데이터 개수:\", final_train_data['interaction'].value_counts()[1])\n",
    "#     print(\"Negative 데이터 개수:\", final_train_data['interaction'].value_counts()[0])\n",
    "\n",
    "#     # 데이터 섞기 (shuffle)\n",
    "#     final_train_data = final_train_data.sample(frac=1, random_state=42).reset_index(drop=True)\n",
    "\n",
    "#     return final_train_data\n"
   ]
  },
  {
   "cell_type": "code",
   "execution_count": 39,
   "metadata": {},
   "outputs": [],
   "source": [
    "# recomd['interaction'] = recomd['is_recommended'].astype(int)"
   ]
  },
  {
   "cell_type": "code",
   "execution_count": null,
   "metadata": {},
   "outputs": [],
   "source": [
    "# negative_sampled_df = negative_sampling(recomd)"
   ]
  },
  {
   "cell_type": "code",
   "execution_count": 37,
   "metadata": {},
   "outputs": [
    {
     "data": {
      "text/html": [
       "<div>\n",
       "<style scoped>\n",
       "    .dataframe tbody tr th:only-of-type {\n",
       "        vertical-align: middle;\n",
       "    }\n",
       "\n",
       "    .dataframe tbody tr th {\n",
       "        vertical-align: top;\n",
       "    }\n",
       "\n",
       "    .dataframe thead th {\n",
       "        text-align: right;\n",
       "    }\n",
       "</style>\n",
       "<table border=\"1\" class=\"dataframe\">\n",
       "  <thead>\n",
       "    <tr style=\"text-align: right;\">\n",
       "      <th></th>\n",
       "      <th>user_id</th>\n",
       "      <th>item_id</th>\n",
       "      <th>is_recommended</th>\n",
       "      <th>date</th>\n",
       "      <th>unix_date</th>\n",
       "      <th>hours</th>\n",
       "      <th>helpful</th>\n",
       "      <th>funny</th>\n",
       "      <th>interaction</th>\n",
       "      <th>title</th>\n",
       "      <th>date_release</th>\n",
       "      <th>win</th>\n",
       "      <th>mac</th>\n",
       "      <th>linux</th>\n",
       "      <th>positive_ratio</th>\n",
       "      <th>price_final</th>\n",
       "      <th>price_original</th>\n",
       "      <th>steam_deck</th>\n",
       "      <th>estimated_owners</th>\n",
       "      <th>peak_ccu</th>\n",
       "      <th>required_age</th>\n",
       "      <th>price</th>\n",
       "      <th>dlc_count</th>\n",
       "      <th>detailed_description</th>\n",
       "      <th>short_description</th>\n",
       "      <th>supported_languages</th>\n",
       "      <th>metacritic_score</th>\n",
       "      <th>positive</th>\n",
       "      <th>negative</th>\n",
       "      <th>notes</th>\n",
       "      <th>average_playtime_forever</th>\n",
       "      <th>average_playtime_2weeks</th>\n",
       "      <th>median_playtime_forever</th>\n",
       "      <th>median_playtime_2weeks</th>\n",
       "      <th>developers</th>\n",
       "      <th>publishers</th>\n",
       "      <th>categories</th>\n",
       "      <th>genres</th>\n",
       "      <th>description</th>\n",
       "      <th>tags_sum</th>\n",
       "      <th>rating_encoded</th>\n",
       "      <th>date_release_unix</th>\n",
       "      <th>estimated_owners_mid</th>\n",
       "      <th>review_count</th>\n",
       "    </tr>\n",
       "  </thead>\n",
       "  <tbody>\n",
       "    <tr>\n",
       "      <th>0</th>\n",
       "      <td>0</td>\n",
       "      <td>63710</td>\n",
       "      <td>0</td>\n",
       "      <td>2014-06-16</td>\n",
       "      <td>1402876800</td>\n",
       "      <td>2.0000</td>\n",
       "      <td>4</td>\n",
       "      <td>0</td>\n",
       "      <td>0</td>\n",
       "      <td>BIT.TRIP RUNNER</td>\n",
       "      <td>2011-02-28</td>\n",
       "      <td>1</td>\n",
       "      <td>1</td>\n",
       "      <td>0</td>\n",
       "      <td>87</td>\n",
       "      <td>9.9900</td>\n",
       "      <td>9.9900</td>\n",
       "      <td>1</td>\n",
       "      <td>500000 - 1000000</td>\n",
       "      <td>2.0000</td>\n",
       "      <td>0.0000</td>\n",
       "      <td>9.9900</td>\n",
       "      <td>0.0000</td>\n",
       "      <td>BIT.TRIP RUNNER is the fastest, most exhilarat...</td>\n",
       "      <td>CommanderVideo is back with BIT.TRIP RUNNER, t...</td>\n",
       "      <td>English</td>\n",
       "      <td>0.0000</td>\n",
       "      <td>3270.0000</td>\n",
       "      <td>530.0000</td>\n",
       "      <td>NaN</td>\n",
       "      <td>170.0000</td>\n",
       "      <td>0.0000</td>\n",
       "      <td>133.0000</td>\n",
       "      <td>0.0000</td>\n",
       "      <td>Gaijin Games</td>\n",
       "      <td>Gaijin Games</td>\n",
       "      <td>Single-player, Steam Achievements, Full contro...</td>\n",
       "      <td>Action, Indie</td>\n",
       "      <td>CommanderVideo is back with BIT.TRIP RUNNER, t...</td>\n",
       "      <td>2D, Action, Arcade, Casual, Colorful, Controll...</td>\n",
       "      <td>7</td>\n",
       "      <td>1298851200</td>\n",
       "      <td>750000</td>\n",
       "      <td>1278</td>\n",
       "    </tr>\n",
       "    <tr>\n",
       "      <th>1</th>\n",
       "      <td>0</td>\n",
       "      <td>260230</td>\n",
       "      <td>0</td>\n",
       "      <td>2014-06-25</td>\n",
       "      <td>1403654400</td>\n",
       "      <td>5.5000</td>\n",
       "      <td>12</td>\n",
       "      <td>0</td>\n",
       "      <td>0</td>\n",
       "      <td>Valiant Hearts: The Great War™ / Soldats Incon...</td>\n",
       "      <td>2014-06-25</td>\n",
       "      <td>1</td>\n",
       "      <td>0</td>\n",
       "      <td>0</td>\n",
       "      <td>95</td>\n",
       "      <td>14.9900</td>\n",
       "      <td>14.9900</td>\n",
       "      <td>1</td>\n",
       "      <td>500000 - 1000000</td>\n",
       "      <td>35.0000</td>\n",
       "      <td>0.0000</td>\n",
       "      <td>14.9900</td>\n",
       "      <td>0.0000</td>\n",
       "      <td>“CHARMING AND DEEPLY MOVING” – IGN “INTRIGUING...</td>\n",
       "      <td>Valiant Hearts : The Great War is the story of...</td>\n",
       "      <td>English, French, Italian, German, Spanish - Sp...</td>\n",
       "      <td>0.0000</td>\n",
       "      <td>20709.0000</td>\n",
       "      <td>941.0000</td>\n",
       "      <td>NaN</td>\n",
       "      <td>319.0000</td>\n",
       "      <td>0.0000</td>\n",
       "      <td>370.0000</td>\n",
       "      <td>0.0000</td>\n",
       "      <td>Ubisoft Montpellier</td>\n",
       "      <td>Ubisoft</td>\n",
       "      <td>Single-player</td>\n",
       "      <td>Adventure</td>\n",
       "      <td>Valiant Hearts : The Great War is the story of...</td>\n",
       "      <td>2D, Action, Adventure, Atmospheric, Great Soun...</td>\n",
       "      <td>8</td>\n",
       "      <td>1403654400</td>\n",
       "      <td>750000</td>\n",
       "      <td>5365</td>\n",
       "    </tr>\n",
       "  </tbody>\n",
       "</table>\n",
       "</div>"
      ],
      "text/plain": [
       "   user_id  item_id  is_recommended        date   unix_date  hours  helpful  \\\n",
       "0        0    63710               0  2014-06-16  1402876800 2.0000        4   \n",
       "1        0   260230               0  2014-06-25  1403654400 5.5000       12   \n",
       "\n",
       "   funny  interaction                                              title  \\\n",
       "0      0            0                                    BIT.TRIP RUNNER   \n",
       "1      0            0  Valiant Hearts: The Great War™ / Soldats Incon...   \n",
       "\n",
       "  date_release  win  mac  linux  positive_ratio  price_final  price_original  \\\n",
       "0   2011-02-28    1    1      0              87       9.9900          9.9900   \n",
       "1   2014-06-25    1    0      0              95      14.9900         14.9900   \n",
       "\n",
       "   steam_deck  estimated_owners  peak_ccu  required_age   price  dlc_count  \\\n",
       "0           1  500000 - 1000000    2.0000        0.0000  9.9900     0.0000   \n",
       "1           1  500000 - 1000000   35.0000        0.0000 14.9900     0.0000   \n",
       "\n",
       "                                detailed_description  \\\n",
       "0  BIT.TRIP RUNNER is the fastest, most exhilarat...   \n",
       "1  “CHARMING AND DEEPLY MOVING” – IGN “INTRIGUING...   \n",
       "\n",
       "                                   short_description  \\\n",
       "0  CommanderVideo is back with BIT.TRIP RUNNER, t...   \n",
       "1  Valiant Hearts : The Great War is the story of...   \n",
       "\n",
       "                                 supported_languages  metacritic_score  \\\n",
       "0                                            English            0.0000   \n",
       "1  English, French, Italian, German, Spanish - Sp...            0.0000   \n",
       "\n",
       "    positive  negative notes  average_playtime_forever  \\\n",
       "0  3270.0000  530.0000   NaN                  170.0000   \n",
       "1 20709.0000  941.0000   NaN                  319.0000   \n",
       "\n",
       "   average_playtime_2weeks  median_playtime_forever  median_playtime_2weeks  \\\n",
       "0                   0.0000                 133.0000                  0.0000   \n",
       "1                   0.0000                 370.0000                  0.0000   \n",
       "\n",
       "            developers    publishers  \\\n",
       "0         Gaijin Games  Gaijin Games   \n",
       "1  Ubisoft Montpellier       Ubisoft   \n",
       "\n",
       "                                          categories         genres  \\\n",
       "0  Single-player, Steam Achievements, Full contro...  Action, Indie   \n",
       "1                                      Single-player      Adventure   \n",
       "\n",
       "                                         description  \\\n",
       "0  CommanderVideo is back with BIT.TRIP RUNNER, t...   \n",
       "1  Valiant Hearts : The Great War is the story of...   \n",
       "\n",
       "                                            tags_sum  rating_encoded  \\\n",
       "0  2D, Action, Arcade, Casual, Colorful, Controll...               7   \n",
       "1  2D, Action, Adventure, Atmospheric, Great Soun...               8   \n",
       "\n",
       "   date_release_unix  estimated_owners_mid  review_count  \n",
       "0         1298851200                750000          1278  \n",
       "1         1403654400                750000          5365  "
      ]
     },
     "execution_count": 37,
     "metadata": {},
     "output_type": "execute_result"
    }
   ],
   "source": [
    "# Load user and item file, join with rating\n",
    "# df_user = pd.read_csv('users.csv')\n",
    "df_item = item\n",
    "# df_steam = df_steam.merge(df_user, on='user_id', how='left')\n",
    "df_steam = df_steam.merge(df_item, on='item_id', how='left')\n",
    "df_steam.head(2)"
   ]
  },
  {
   "cell_type": "code",
   "execution_count": 40,
   "metadata": {},
   "outputs": [
    {
     "data": {
      "text/plain": [
       "Index(['user_id', 'item_id', 'is_recommended', 'date', 'unix_date', 'hours',\n",
       "       'helpful', 'funny', 'interaction', 'title', 'date_release', 'win',\n",
       "       'mac', 'linux', 'positive_ratio', 'price_final', 'price_original',\n",
       "       'steam_deck', 'estimated_owners', 'peak_ccu', 'required_age', 'price',\n",
       "       'dlc_count', 'detailed_description', 'short_description',\n",
       "       'supported_languages', 'metacritic_score', 'positive', 'negative',\n",
       "       'notes', 'average_playtime_forever', 'average_playtime_2weeks',\n",
       "       'median_playtime_forever', 'median_playtime_2weeks', 'developers',\n",
       "       'publishers', 'categories', 'genres', 'description', 'tags_sum',\n",
       "       'rating_encoded', 'date_release_unix', 'estimated_owners_mid',\n",
       "       'review_count'],\n",
       "      dtype='object')"
      ]
     },
     "execution_count": 40,
     "metadata": {},
     "output_type": "execute_result"
    }
   ],
   "source": [
    "df_steam.columns"
   ]
  },
  {
   "cell_type": "code",
   "execution_count": 41,
   "metadata": {},
   "outputs": [
    {
     "data": {
      "text/plain": [
       "count   14529074.0000\n",
       "mean          63.5227\n",
       "std          132.7037\n",
       "min            0.0000\n",
       "25%            4.8000\n",
       "50%           15.9000\n",
       "75%           53.1000\n",
       "max         1000.0000\n",
       "Name: hours, dtype: float64"
      ]
     },
     "execution_count": 41,
     "metadata": {},
     "output_type": "execute_result"
    }
   ],
   "source": [
    "df_steam['hours'].describe()"
   ]
  },
  {
   "cell_type": "code",
   "execution_count": 46,
   "metadata": {},
   "outputs": [
    {
     "data": {
      "image/png": "[encoded data removed]",
      "text/plain": [
       "<Figure size 640x480 with 1 Axes>"
      ]
     },
     "metadata": {},
     "output_type": "display_data"
    }
   ],
   "source": [
    "df_steam['hours'].hist()\n",
    "plt.show()"
   ]
  },
  {
   "cell_type": "code",
   "execution_count": 42,
   "metadata": {},
   "outputs": [],
   "source": [
    "from sklearn.preprocessing import RobustScaler\n",
    "scaler = RobustScaler()\n",
    "df_steam['hours_scaled'] = scaler.fit_transform(df_steam[['hours']])"
   ]
  },
  {
   "cell_type": "code",
   "execution_count": 65,
   "metadata": {},
   "outputs": [
    {
     "data": {
      "text/plain": [
       "count   14529074.0000\n",
       "mean          63.5227\n",
       "std          132.7037\n",
       "min            0.0000\n",
       "25%            4.8000\n",
       "50%           15.9000\n",
       "75%           53.1000\n",
       "max         1000.0000\n",
       "Name: hours, dtype: float64"
      ]
     },
     "execution_count": 65,
     "metadata": {},
     "output_type": "execute_result"
    }
   ],
   "source": [
    "df_steam['hours'].describe()"
   ]
  },
  {
   "cell_type": "code",
   "execution_count": 44,
   "metadata": {},
   "outputs": [
    {
     "data": {
      "text/plain": [
       "count   14529074.0000\n",
       "mean           0.9860\n",
       "std            2.7475\n",
       "min           -0.3292\n",
       "25%           -0.2298\n",
       "50%            0.0000\n",
       "75%            0.7702\n",
       "max           20.3747\n",
       "Name: hours_scaled, dtype: float64"
      ]
     },
     "execution_count": 44,
     "metadata": {},
     "output_type": "execute_result"
    }
   ],
   "source": [
    "df_steam['hours_scaled'].describe()"
   ]
  },
  {
   "cell_type": "code",
   "execution_count": 45,
   "metadata": {},
   "outputs": [
    {
     "data": {
      "text/plain": [
       "count   14529074.0000\n",
       "mean           2.9226\n",
       "std            1.5731\n",
       "min            0.0000\n",
       "25%            1.7579\n",
       "50%            2.8273\n",
       "75%            3.9908\n",
       "max            6.9088\n",
       "Name: hours_log_scaled, dtype: float64"
      ]
     },
     "execution_count": 45,
     "metadata": {},
     "output_type": "execute_result"
    }
   ],
   "source": [
    "df_steam['hours_log_scaled'] = np.log1p(df_steam['hours'])\n",
    "\n",
    "df_steam['hours_log_scaled'].describe()\n"
   ]
  },
  {
   "cell_type": "code",
   "execution_count": 47,
   "metadata": {},
   "outputs": [],
   "source": [
    "# Preprocess hours - minmax scaling\n",
    "min_hours = df_steam['hours'].min()\n",
    "max_hours = df_steam['hours'].max()\n",
    "df_steam['min_max_hours'] = (df_steam['hours'] - min_hours) / (max_hours - min_hours)"
   ]
  },
  {
   "cell_type": "code",
   "execution_count": 48,
   "metadata": {},
   "outputs": [
    {
     "data": {
      "text/plain": [
       "count   14529074.0000\n",
       "mean           0.0635\n",
       "std            0.1327\n",
       "min            0.0000\n",
       "25%            0.0048\n",
       "50%            0.0159\n",
       "75%            0.0531\n",
       "max            1.0000\n",
       "Name: min_max_hours, dtype: float64"
      ]
     },
     "execution_count": 48,
     "metadata": {},
     "output_type": "execute_result"
    }
   ],
   "source": [
    "df_steam['min_max_hours'].describe()"
   ]
  },
  {
   "cell_type": "code",
   "execution_count": 51,
   "metadata": {},
   "outputs": [],
   "source": [
    "df_steam['date_release'] = pd.to_datetime(df_steam['date_release'])\n",
    "df_steam['year'] = df_steam['date_release'].dt.year # 데이터 스플릿을 위한 Year 변수"
   ]
  },
  {
   "cell_type": "code",
   "execution_count": 53,
   "metadata": {},
   "outputs": [],
   "source": [
    "# Preprocess date - minmax scaling\n",
    "df_steam['date'] = pd.to_datetime(df_steam['date'])\n",
    "df_steam['date'] = (df_steam['date'] - pd.Timestamp(\"1970-01-01\")).dt.days\n",
    "min_date = np.min(df_steam['date'])\n",
    "max_date = np.max(df_steam['date'])\n",
    "\n",
    "df_steam['date'] = df_steam['date'].map(lambda x: (x - min_date) / (max_date - min_date))\n",
    "df_steam = df_steam.sort_values(by='date')  # 시간순 정렬"
   ]
  },
  {
   "cell_type": "code",
   "execution_count": 54,
   "metadata": {},
   "outputs": [],
   "source": [
    "train_warm_a,train_warm_b,train_warm_c,test = split_EDA(df_ratings=df_steam)"
   ]
  },
  {
   "cell_type": "code",
   "execution_count": 68,
   "metadata": {},
   "outputs": [
    {
     "data": {
      "text/plain": [
       "count   69754.0000\n",
       "mean       15.3962\n",
       "std        55.4459\n",
       "min         0.0000\n",
       "25%         1.0000\n",
       "50%         3.6000\n",
       "75%        10.2000\n",
       "max       997.5000\n",
       "Name: hours, dtype: float64"
      ]
     },
     "execution_count": 68,
     "metadata": {},
     "output_type": "execute_result"
    }
   ],
   "source": [
    "test['hours'].describe()"
   ]
  },
  {
   "cell_type": "code",
   "execution_count": 65,
   "metadata": {},
   "outputs": [],
   "source": [
    "# # Preprocess titles - multi label encoding\n",
    "# tokenizer = RegexpTokenizer(r'\\w+')\n",
    "# titles = df_steam['title']\n",
    "# tokenized_titles = []\n",
    "# titles = [tokenizer.tokenize(str(title)) for title in list(titles)]\n",
    "# vocab = []\n",
    "# max_title_len = 0\n",
    "# for title in titles:\n",
    "#     vocab += title\n",
    "#     max_title_len = max_title_len if max_title_len > len(title) else len(title)\n",
    "# vocab = set(vocab)\n",
    "# word2idx = {word: idx for idx, word in enumerate(vocab)}\n",
    "# res_title = []\n",
    "# for title in titles:\n",
    "#     padding_title = [word2idx[word] for word in title]\n",
    "#     padding_title.extend([0 for i in range(max_title_len - len(title))])\n",
    "#     res_title.append(padding_title)\n",
    "# df_steam['title'] = res_title\n",
    "# df_steam['title']"
   ]
  },
  {
   "cell_type": "code",
   "execution_count": 66,
   "metadata": {},
   "outputs": [],
   "source": [
    "# Preprocess positive_ratio - minmax scaling\n",
    "df_steam['positive_ratio'] = df_steam['positive_ratio'].map(lambda x: x / 100)"
   ]
  },
  {
   "cell_type": "code",
   "execution_count": 67,
   "metadata": {},
   "outputs": [],
   "source": [
    "# Preprocess price_final & price_original - minmax scaling\n",
    "min_price_final = df_steam['price_final'].min()\n",
    "max_price_final = df_steam['price_final'].max()\n",
    "df_steam['price_final'] = (df_steam['price_final'] - min_price_final) / (max_price_final - min_price_final)\n",
    "\n",
    "min_price_original = df_steam['price_original'].min()\n",
    "max_price_original = df_steam['price_original'].max()\n",
    "df_steam['price_original'] = (df_steam['price_original'] - min_price_original) / (max_price_original - min_price_original)"
   ]
  },
  {
   "cell_type": "code",
   "execution_count": 68,
   "metadata": {},
   "outputs": [],
   "source": [
    "# Preprocess peak_ccu - minmax scaling\n",
    "min_peak_ccu = df_steam['peak_ccu'].min()\n",
    "max_peak_ccu = df_steam['peak_ccu'].max()\n",
    "df_steam['peak_ccu'] = (df_steam['peak_ccu'] - min_peak_ccu) / (max_peak_ccu - min_peak_ccu)"
   ]
  },
  {
   "cell_type": "code",
   "execution_count": 69,
   "metadata": {},
   "outputs": [],
   "source": [
    "# Preprocess required_age - binary encoding: over 16 or not\n",
    "df_steam[\"required_age\"].value_counts().sort_index()\n",
    "df_steam['required_age'] = df_steam['required_age'].map(lambda x: 1 if x >= 16 else 0)"
   ]
  },
  {
   "cell_type": "code",
   "execution_count": 70,
   "metadata": {},
   "outputs": [],
   "source": [
    "# Preprocess price - minmax scaling\n",
    "min_price = df_steam['price'].min()\n",
    "max_price = df_steam['price'].max()\n",
    "df_steam['price'] = (df_steam['price'] - min_price) / (max_price - min_price)"
   ]
  },
  {
   "cell_type": "code",
   "execution_count": null,
   "metadata": {},
   "outputs": [
    {
     "data": {
      "text/plain": [
       "0           [0, 0, 0, 0, 0, 0, 0, 0, 0, 0, 0, 0, 0, 0, 0, ...\n",
       "1           [0, 1, 2, 3, 4, 5, 6, 7, 8, 9, 10, 11, 0, 0, 0...\n",
       "2           [0, 1, 2, 3, 4, 5, 7, 12, 9, 9, 10, 11, 13, 0,...\n",
       "3           [0, 1, 3, 2, 4, 5, 0, 0, 0, 0, 0, 0, 0, 0, 0, ...\n",
       "4           [0, 0, 0, 0, 0, 0, 0, 0, 0, 0, 0, 0, 0, 0, 0, ...\n",
       "                                  ...                        \n",
       "14529069    [0, 0, 0, 0, 0, 0, 0, 0, 0, 0, 0, 0, 0, 0, 0, ...\n",
       "14529070    [0, 0, 0, 0, 0, 0, 0, 0, 0, 0, 0, 0, 0, 0, 0, ...\n",
       "14529071    [0, 0, 0, 0, 0, 0, 0, 0, 0, 0, 0, 0, 0, 0, 0, ...\n",
       "14529072    [0, 1, 2, 3, 4, 5, 13, 8, 9, 10, 11, 20, 7, 0,...\n",
       "14529073    [0, 1, 3, 4, 5, 2, 15, 11, 18, 8, 30, 0, 0, 0,...\n",
       "Name: supported_languages, Length: 14529074, dtype: object"
      ]
     },
     "execution_count": 71,
     "metadata": {},
     "output_type": "execute_result"
    }
   ],
   "source": [
    "'''\n",
    "# Preprocess supported_languages - multi label encoding\n",
    "df_steam.fillna({\"supported_languages\": \"\"}, inplace=True)\n",
    "supported_languages = df_steam['supported_languages']\n",
    "lang2idx = {}\n",
    "cnt = 0\n",
    "res_lang = []\n",
    "max_lang_len = 0\n",
    "for lang_str in supported_languages:\n",
    "    lang_list = [lang.strip() for part in lang_str.split(\",\") for lang in part.split(\"-\")]\n",
    "    max_lang_len = max(max_lang_len, len(lang_list))\n",
    "    for lang in lang_list:\n",
    "        if lang not in lang2idx:\n",
    "            lang2idx[lang] = cnt\n",
    "            cnt += 1\n",
    "    res_lang.append([lang2idx[lang] for lang in lang_list])\n",
    "for lang in res_lang:\n",
    "    lang.extend([0 for i in range(max_lang_len - len(lang))])\n",
    "df_steam['supported_languages'] = res_lang\n",
    "df_steam['supported_languages']\n",
    "'''"
   ]
  },
  {
   "cell_type": "code",
   "execution_count": 72,
   "metadata": {},
   "outputs": [],
   "source": [
    "# Preprocess metacritic_score - minmax scaling\n",
    "df_steam['metacritic_score'] = df_steam['metacritic_score'].map(lambda x: x / 100)\n"
   ]
  },
  {
   "cell_type": "code",
   "execution_count": 73,
   "metadata": {},
   "outputs": [],
   "source": [
    "df_steam['date_release'] = pd.to_datetime(df_steam['date_release'])\n",
    "df_steam['year'] = df_steam['date_release'].dt.year"
   ]
  },
  {
   "cell_type": "code",
   "execution_count": 74,
   "metadata": {},
   "outputs": [
    {
     "data": {
      "text/plain": [
       "[<matplotlib.lines.Line2D at 0x7f17c81c7430>]"
      ]
     },
     "execution_count": 74,
     "metadata": {},
     "output_type": "execute_result"
    },
    {
     "data": {
      "image/png": "[encoded data removed]",
      "text/plain": [
       "<Figure size 640x480 with 1 Axes>"
      ]
     },
     "metadata": {},
     "output_type": "display_data"
    }
   ],
   "source": [
    "# plot item counts vs item\n",
    "user2count = df_steam.groupby(['item_id']).size().reset_index(name='count').sort_values(by='count')\n",
    "item_ids = list(user2count['item_id'])\n",
    "counts = np.array(user2count['count'])\n",
    "plt.plot(np.arange(len(counts)), counts)"
   ]
  },
  {
   "cell_type": "code",
   "execution_count": 75,
   "metadata": {},
   "outputs": [],
   "source": [
    "# Preprocess count\n",
    "df_steam = df_steam.join(user2count.set_index('item_id'), on='item_id')\n",
    "min_count = np.min(df_steam['count'])\n",
    "max_count = np.max(df_steam['count'])\n",
    "df_steam['count'] = df_steam['count'].map(lambda x: (x - min_count) / (max_count - min_count))"
   ]
  },
  {
   "cell_type": "code",
   "execution_count": 76,
   "metadata": {},
   "outputs": [],
   "source": [
    "# Preprocess date_release - minmax scaling\n",
    "df_steam['date_release'] = (df_steam['date_release'] - pd.Timestamp(\"1970-01-01\")).dt.days\n",
    "min_date = np.min(df_steam['date_release'])\n",
    "max_date = np.max(df_steam['date_release'])\n",
    "\n",
    "df_steam['date_release'] = df_steam['date_release'].map(lambda x: (x - min_date) / (max_date - min_date))"
   ]
  },
  {
   "cell_type": "code",
   "execution_count": 77,
   "metadata": {},
   "outputs": [],
   "source": [
    "# Preprocess date - minmax scaling\n",
    "df_steam['date'] = pd.to_datetime(df_steam['date'])\n",
    "df_steam['date'] = (df_steam['date'] - pd.Timestamp(\"1970-01-01\")).dt.days\n",
    "min_date = np.min(df_steam['date'])\n",
    "max_date = np.max(df_steam['date'])\n",
    "\n",
    "df_steam['date'] = df_steam['date'].map(lambda x: (x - min_date) / (max_date - min_date))\n",
    "df_steam = df_steam.sort_values(by='date')  # 시간순 정렬"
   ]
  },
  {
   "cell_type": "code",
   "execution_count": 79,
   "metadata": {},
   "outputs": [
    {
     "data": {
      "text/plain": [
       "[('user_id', 680812, 'spr'),\n",
       " ('item_id', 37141, 'spr'),\n",
       " ('hours', -1, 'ctn'),\n",
       " ('date_release', -1, 'ctn'),\n",
       " ('positive_ratio', -1, 'ctn'),\n",
       " ('price_final', -1, 'ctn'),\n",
       " ('price_original', -1, 'ctn'),\n",
       " ('peak_ccu', -1, 'ctn'),\n",
       " ('required_age', 2, 'spr'),\n",
       " ('price', -1, 'ctn'),\n",
       " ('metacritic_score', -1, 'ctn'),\n",
       " ('date', -1, 'ctn'),\n",
       " ('interaction', 2, 'label'),\n",
       " ('count', -1, 'ctn')]"
      ]
     },
     "execution_count": 79,
     "metadata": {},
     "output_type": "execute_result"
    }
   ],
   "source": [
    "# define unique function\n",
    "def _unique(sample, fname):\n",
    "    tmp_df = pd.DataFrame()\n",
    "    tmp_df[fname] = sample[fname].unique()\n",
    "    num = len(tmp_df)\n",
    "    tmp_df['tmp_feature'] = range(num)\n",
    "    sample = sample.join(tmp_df.set_index(fname), on=fname)\n",
    "    sample.drop(fname, axis=1, inplace=True)\n",
    "    sample = sample.rename(columns = {\"tmp_feature\": fname})\n",
    "    return num, sample\n",
    "\n",
    "num_user, df_steam = _unique(df_steam, 'user_id')\n",
    "num_app, df_steam = _unique(df_steam, 'item_id')\n",
    "\n",
    "# Reorder columns\n",
    "orders = ['user_id', 'item_id', 'hours', 'date_release', 'positive_ratio', 'price_final', 'price_original', 'peak_ccu', 'required_age', 'price', 'metacritic_score', 'date', 'interaction', 'count','year']\n",
    "df_steam = df_steam[orders]\n",
    "description = [\n",
    "    ('user_id', num_user, 'spr'),  # 변환된 유저 ID\n",
    "    ('item_id', num_app, 'spr'),  # 변환된 게임(아이템) ID\n",
    "    ('hours', -1, 'ctn'),  # 플레이 시간\n",
    "    ('date_release', -1, 'ctn'),  # 출시일\n",
    "    ('positive_ratio', -1, 'ctn'),  # 긍정적인 평가 비율\n",
    "    ('price_final', -1, 'ctn'),  # 최종 가격\n",
    "    ('price_original', -1, 'ctn'),  # 원래 가격\n",
    "    ('peak_ccu', -1, 'ctn'),  # 최대 동시 접속자 수\n",
    "    ('required_age', 1 + np.max(df_steam[\"required_age\"]), 'spr'),  # 필요한 나이\n",
    "    ('price', -1, 'ctn'),  # 가격\n",
    "    # ('supported_languages', 1 + np.max(list(df_steam[\"supported_languages\"])), 'seq'),  # 지원되는 언어\n",
    "    ('metacritic_score', -1, 'ctn'),  # 메타크리틱 점수\n",
    "    ('date', -1, 'ctn'),  # 정규화된 날짜\n",
    "    ('interaction', 2, 'label'),  # 클릭 여부\n",
    "    ('count', -1, 'ctn'),  # 리뷰 수\n",
    "]\n",
    "description\n"
   ]
  },
  {
   "cell_type": "code",
   "execution_count": 80,
   "metadata": {},
   "outputs": [
    {
     "data": {
      "text/html": [
       "<div>\n",
       "<style scoped>\n",
       "    .dataframe tbody tr th:only-of-type {\n",
       "        vertical-align: middle;\n",
       "    }\n",
       "\n",
       "    .dataframe tbody tr th {\n",
       "        vertical-align: top;\n",
       "    }\n",
       "\n",
       "    .dataframe thead th {\n",
       "        text-align: right;\n",
       "    }\n",
       "</style>\n",
       "<table border=\"1\" class=\"dataframe\">\n",
       "  <thead>\n",
       "    <tr style=\"text-align: right;\">\n",
       "      <th></th>\n",
       "      <th>user_id</th>\n",
       "      <th>item_id</th>\n",
       "      <th>hours</th>\n",
       "      <th>date_release</th>\n",
       "      <th>positive_ratio</th>\n",
       "      <th>price_final</th>\n",
       "      <th>price_original</th>\n",
       "      <th>peak_ccu</th>\n",
       "      <th>required_age</th>\n",
       "      <th>price</th>\n",
       "      <th>metacritic_score</th>\n",
       "      <th>date</th>\n",
       "      <th>interaction</th>\n",
       "      <th>count</th>\n",
       "      <th>year</th>\n",
       "    </tr>\n",
       "  </thead>\n",
       "  <tbody>\n",
       "    <tr>\n",
       "      <th>12739758</th>\n",
       "      <td>0</td>\n",
       "      <td>0</td>\n",
       "      <td>0.4288</td>\n",
       "      <td>0.5087</td>\n",
       "      <td>0.9600</td>\n",
       "      <td>0.0370</td>\n",
       "      <td>0.0000</td>\n",
       "      <td>0.0070</td>\n",
       "      <td>1</td>\n",
       "      <td>0.0370</td>\n",
       "      <td>0.8400</td>\n",
       "      <td>0.0000</td>\n",
       "      <td>1</td>\n",
       "      <td>0.5185</td>\n",
       "      <td>2010</td>\n",
       "    </tr>\n",
       "    <tr>\n",
       "      <th>1096052</th>\n",
       "      <td>1</td>\n",
       "      <td>1</td>\n",
       "      <td>0.6228</td>\n",
       "      <td>0.3930</td>\n",
       "      <td>0.9300</td>\n",
       "      <td>0.0000</td>\n",
       "      <td>0.0000</td>\n",
       "      <td>0.1305</td>\n",
       "      <td>0</td>\n",
       "      <td>0.0000</td>\n",
       "      <td>0.9200</td>\n",
       "      <td>0.0000</td>\n",
       "      <td>1</td>\n",
       "      <td>1.0000</td>\n",
       "      <td>2007</td>\n",
       "    </tr>\n",
       "  </tbody>\n",
       "</table>\n",
       "</div>"
      ],
      "text/plain": [
       "          user_id  item_id  hours  date_release  positive_ratio  price_final  \\\n",
       "12739758        0        0 0.4288        0.5087          0.9600       0.0370   \n",
       "1096052         1        1 0.6228        0.3930          0.9300       0.0000   \n",
       "\n",
       "          price_original  peak_ccu  required_age  price  metacritic_score  \\\n",
       "12739758          0.0000    0.0070             1 0.0370            0.8400   \n",
       "1096052           0.0000    0.1305             0 0.0000            0.9200   \n",
       "\n",
       "           date  interaction  count  year  \n",
       "12739758 0.0000            1 0.5185  2010  \n",
       "1096052  0.0000            1 1.0000  2007  "
      ]
     },
     "execution_count": 80,
     "metadata": {},
     "output_type": "execute_result"
    }
   ],
   "source": [
    "df_steam.head(2)"
   ]
  },
  {
   "cell_type": "code",
   "execution_count": null,
   "metadata": {},
   "outputs": [],
   "source": []
  },
  {
   "cell_type": "markdown",
   "metadata": {},
   "source": [
    "# 3. 데이터 Split"
   ]
  },
  {
   "cell_type": "code",
   "execution_count": 81,
   "metadata": {},
   "outputs": [],
   "source": [
    "def split_2(df_ratings, description, N=163, K=10):\n",
    "    user2count = df_ratings.groupby(['item_id']).size().reset_index(name='count').sort_values(by='count')\n",
    "    item_ids = user2count['item_id'].to_numpy()\n",
    "    counts = user2count['count'].to_numpy()\n",
    "\n",
    "    hot_item_ids = item_ids[counts > N]\n",
    "    cold_item_ids = item_ids[(counts <= N) & (counts >= 3 * K)]\n",
    "\n",
    "    item_group = df_ratings.groupby('item_id')\n",
    "\n",
    "    train_base_list = []\n",
    "    for item_id in hot_item_ids:\n",
    "        df_hot = item_group.get_group(item_id).sort_values(by='date')\n",
    "        train_base_list.append(df_hot)\n",
    "\n",
    "    train_base = pd.concat(train_base_list, ignore_index=True)\n",
    "\n",
    "    train_warm_a_list, train_warm_b_list, train_warm_c_list, test_list = [], [], [], []\n",
    "    \n",
    "    for item_id in cold_item_ids:\n",
    "        df_cold = item_group.get_group(item_id).sort_values(by='date')\n",
    "        df_cold = df_cold[df_cold['year'] >= 2020]  \n",
    "        train_warm_a_list.append(df_cold[:K])\n",
    "        train_warm_b_list.append(df_cold[K:2*K])\n",
    "        train_warm_c_list.append(df_cold[2*K:3*K])\n",
    "        test_list.append(df_cold[3*K:])\n",
    "    \n",
    "    train_warm_a = pd.concat(train_warm_a_list, ignore_index=True)\n",
    "    train_warm_b = pd.concat(train_warm_b_list, ignore_index=True)\n",
    "    train_warm_c = pd.concat(train_warm_c_list, ignore_index=True)\n",
    "    test = pd.concat(test_list, ignore_index=True)\n",
    "\n",
    "    save_dic = {\n",
    "        'train_base': train_base.sort_values('date'),\n",
    "        'train_warm_a': train_warm_a.sort_values('date'),\n",
    "        'train_warm_b': train_warm_b.sort_values('date'),\n",
    "        'train_warm_c': train_warm_c.sort_values('date'),\n",
    "        'test': test.sort_values('date'),\n",
    "        'description': description\n",
    "    }\n",
    "\n",
    "    for name, df in save_dic.items():\n",
    "        print(\"{} size: {}\".format(name, len(df)))\n",
    "\n",
    "    with open('./emb_warm_split_preprocess.pkl', 'bw+') as f:\n",
    "        pickle.dump(save_dic, f)\n"
   ]
  },
  {
   "cell_type": "code",
   "execution_count": null,
   "metadata": {},
   "outputs": [],
   "source": []
  }
 ],
 "metadata": {
  "kernelspec": {
   "display_name": "base",
   "language": "python",
   "name": "python3"
  },
  "language_info": {
   "codemirror_mode": {
    "name": "ipython",
    "version": 3
   },
   "file_extension": ".py",
   "mimetype": "text/x-python",
   "name": "python",
   "nbconvert_exporter": "python",
   "pygments_lexer": "ipython3",
   "version": "3.10.13"
  }
 },
 "nbformat": 4,
 "nbformat_minor": 2
}
