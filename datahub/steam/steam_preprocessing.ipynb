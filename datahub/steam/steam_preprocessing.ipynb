{
 "cells": [
  {
   "cell_type": "markdown",
   "metadata": {},
   "source": [
    "# 코드 설명\n",
    "1.데이터 불러오기는 안돌려도 됩니다! 바로 밑에 3개 cell이랑 2.데이터 scaling/encoding부터 쭉 돌리면 됩니다."
   ]
  },
  {
   "cell_type": "code",
   "execution_count": 31,
   "metadata": {},
   "outputs": [],
   "source": [
    "import os\n",
    "\n",
    "import numpy as np\n",
    "import random\n",
    "import pandas as pd\n",
    "from tqdm import tqdm\n",
    "import pickle\n",
    "from nltk.tokenize import RegexpTokenizer\n",
    "\n",
    "import matplotlib.pyplot as plt\n",
    "%matplotlib inline\n",
    "\n",
    "# pandas options\n",
    "pd.set_option('mode.copy_on_write', True)  # pandas 2.0\n",
    "pd.set_option('display.max_columns', 100)\n",
    "pd.options.display.float_format = '{:.4f}'.format  # pd.reset_option('display.float_format')\n",
    "\n",
    "# NumPy options\n",
    "np.set_printoptions(precision = 2, suppress=True)  # suppress scientific notation"
   ]
  },
  {
   "cell_type": "code",
   "execution_count": 3,
   "metadata": {},
   "outputs": [],
   "source": [
    "recomd = pd.read_csv('recommendations.csv')"
   ]
  },
  {
   "cell_type": "code",
   "execution_count": 4,
   "metadata": {},
   "outputs": [],
   "source": [
    "recomd.rename(columns={\"app_id\": \"item_id\"}, inplace=True)"
   ]
  },
  {
   "cell_type": "markdown",
   "metadata": {},
   "source": [
    "# 1. 데이터 불러오기"
   ]
  },
  {
   "cell_type": "code",
   "execution_count": 3,
   "metadata": {},
   "outputs": [
    {
     "data": {
      "text/plain": [
       "13781059"
      ]
     },
     "execution_count": 3,
     "metadata": {},
     "output_type": "execute_result"
    }
   ],
   "source": [
    "recomd[\"user_id\"].nunique() "
   ]
  },
  {
   "cell_type": "code",
   "execution_count": 5,
   "metadata": {},
   "outputs": [],
   "source": [
    "item_group = recomd.sort_values(by=['item_id','date'])"
   ]
  },
  {
   "cell_type": "code",
   "execution_count": 6,
   "metadata": {},
   "outputs": [
    {
     "data": {
      "image/png": "[encoded data removed]",
      "text/plain": [
       "<Figure size 640x480 with 1 Axes>"
      ]
     },
     "metadata": {},
     "output_type": "display_data"
    }
   ],
   "source": [
    "item_count = recomd.groupby('item_id').size().reset_index(name = 'count')\n",
    "item_count['count'].hist()\n",
    "plt.show()"
   ]
  },
  {
   "cell_type": "code",
   "execution_count": 7,
   "metadata": {},
   "outputs": [
    {
     "name": "stdout",
     "output_type": "stream",
     "text": [
      "임계값 (상위 20%): 274.0\n"
     ]
    }
   ],
   "source": [
    "# 상위 20% 아이템\n",
    "threshold = item_count['count'].quantile(0.8)\n",
    "print(f\"임계값 (상위 20%): {threshold}\")"
   ]
  },
  {
   "cell_type": "code",
   "execution_count": 8,
   "metadata": {},
   "outputs": [],
   "source": [
    "# Old Items와 New Items 분리 - 상위 20% 기준으로\n",
    "item_count['category'] = item_count['count'].apply(lambda x: 'Old' if x >= threshold else 'New')\n",
    "\n",
    "old_items = item_count[item_count['category'] == 'Old']\n",
    "new_items = item_count[item_count['category'] == 'New']"
   ]
  },
  {
   "cell_type": "code",
   "execution_count": 9,
   "metadata": {},
   "outputs": [
    {
     "data": {
      "text/plain": [
       "category\n",
       "New    30080\n",
       "Old     7530\n",
       "Name: count, dtype: int64"
      ]
     },
     "execution_count": 9,
     "metadata": {},
     "output_type": "execute_result"
    }
   ],
   "source": [
    "item_count['category'].value_counts()"
   ]
  },
  {
   "cell_type": "code",
   "execution_count": 10,
   "metadata": {},
   "outputs": [],
   "source": [
    "new_ids = new_items['item_id']\n",
    "new_df  = item_group[item_group['item_id'].isin(new_ids)]\n",
    "\n",
    "old_ids = old_items['item_id']\n",
    "old_df = item_group[item_group['item_id'].isin(old_ids)]"
   ]
  },
  {
   "cell_type": "code",
   "execution_count": 11,
   "metadata": {},
   "outputs": [
    {
     "name": "stderr",
     "output_type": "stream",
     "text": [
      "Processing New Items: 100%|██████████| 30080/30080 [00:16<00:00, 1780.26it/s]\n"
     ]
    }
   ],
   "source": [
    "# Grouped Data 생성\n",
    "new_item_groups = new_df.groupby('item_id')\n",
    "\n",
    "# 웜업 단계 크기 K 설정\n",
    "K = 10\n",
    "\n",
    "def split_group_safe(data, K):\n",
    "    \"\"\"\n",
    "    데이터를 K 크기로 분리합니다.\n",
    "    데이터가 부족하면 빈 DataFrame을 반환합니다.\n",
    "    \"\"\"\n",
    "    warm_a = data.iloc[:K] if len(data) >= K else pd.DataFrame()\n",
    "    warm_b = data.iloc[K:2*K] if len(data) >= 2*K else pd.DataFrame()\n",
    "    warm_c = data.iloc[2*K:3*K] if len(data) >= 3*K else pd.DataFrame()\n",
    "    test_set = data.iloc[3*K:] if len(data) > 3*K else pd.DataFrame()\n",
    "    return warm_a, warm_b, warm_c, test_set\n",
    "\n",
    "# 웜업 단계 분리 및 유효한 아이템 필터링\n",
    "warmup_splits = {}\n",
    "\n",
    "for item_id, item_data in tqdm(new_item_groups, desc=\"Processing New Items\"):\n",
    "    warm_a, warm_b, warm_c, test_set = split_group_safe(item_data, K)\n",
    "    \n",
    "    # 모든 세트에 데이터가 있는 경우에만 추가\n",
    "    if all(not split.empty for split in [warm_a, warm_b, warm_c, test_set]):\n",
    "        warmup_splits[item_id] = {\n",
    "            'warm_a': warm_a,\n",
    "            'warm_b': warm_b,\n",
    "            'warm_c': warm_c,\n",
    "            'test_set': test_set\n",
    "        }\n"
   ]
  },
  {
   "cell_type": "code",
   "execution_count": 12,
   "metadata": {},
   "outputs": [
    {
     "name": "stderr",
     "output_type": "stream",
     "text": [
      "processing: 100%|██████████| 13249/13249 [00:25<00:00, 525.92it/s]\n"
     ]
    }
   ],
   "source": [
    "# 단계별 데이터를 저장할 리스트\n",
    "warm_a_list = []\n",
    "warm_b_list = []\n",
    "warm_c_list = []\n",
    "test_set_list = []\n",
    "\n",
    "# warmup_splits에서 데이터 추출\n",
    "for item_id, splits in tqdm(warmup_splits.items(),desc='processing'):\n",
    "    # 각 단계의 데이터를 추출하고 아이템 ID 추가\n",
    "    warm_a = splits['warm_a'].copy()\n",
    "    warm_a['stage'] = 'warm_a'\n",
    "    warm_a_list.append(warm_a)\n",
    "\n",
    "    warm_b = splits['warm_b'].copy()\n",
    "    warm_b['stage'] = 'warm_b'\n",
    "    warm_b_list.append(warm_b)\n",
    "\n",
    "    warm_c = splits['warm_c'].copy()\n",
    "    warm_c['stage'] = 'warm_c'\n",
    "    warm_c_list.append(warm_c)\n",
    "\n",
    "    test_set = splits['test_set'].copy()\n",
    "    test_set['stage'] = 'test_set'\n",
    "    test_set_list.append(test_set)\n",
    "\n",
    "# 각각의 데이터프레임으로 병합\n",
    "warm_a = pd.concat(warm_a_list, ignore_index=True)\n",
    "warm_b = pd.concat(warm_b_list, ignore_index=True)\n",
    "warm_c = pd.concat(warm_c_list, ignore_index=True)\n",
    "test_set = pd.concat(test_set_list, ignore_index=True)\n"
   ]
  },
  {
   "cell_type": "code",
   "execution_count": 13,
   "metadata": {},
   "outputs": [
    {
     "name": "stdout",
     "output_type": "stream",
     "text": [
      "Old DataFrame\n",
      "총 데이터 개수: 39639864\n",
      "고유 item_id 개수: 7530\n",
      "고유 user_id 개수: 13670645\n",
      "----------------------------------------\n",
      "Warm A\n",
      "총 데이터 개수: 132490\n",
      "고유 item_id 개수: 13249\n",
      "고유 user_id 개수: 86204\n",
      "----------------------------------------\n",
      "Warm B\n",
      "총 데이터 개수: 132490\n",
      "고유 item_id 개수: 13249\n",
      "고유 user_id 개수: 93580\n",
      "----------------------------------------\n",
      "Warm C\n",
      "총 데이터 개수: 132490\n",
      "고유 item_id 개수: 13249\n",
      "고유 user_id 개수: 95731\n",
      "----------------------------------------\n",
      "Test Set\n",
      "총 데이터 개수: 894438\n",
      "고유 item_id 개수: 13249\n",
      "고유 user_id 개수: 500296\n",
      "----------------------------------------\n"
     ]
    }
   ],
   "source": [
    "print(\"Old DataFrame\")\n",
    "print(\"총 데이터 개수:\", len(old_df))\n",
    "print(\"고유 item_id 개수:\", old_df['item_id'].nunique())\n",
    "print(\"고유 user_id 개수:\", old_df['user_id'].nunique())\n",
    "print(\"-\" * 40)\n",
    "\n",
    "print(\"Warm A\")\n",
    "print(\"총 데이터 개수:\", len(warm_a))\n",
    "print(\"고유 item_id 개수:\", warm_a['item_id'].nunique())\n",
    "print(\"고유 user_id 개수:\", warm_a['user_id'].nunique())\n",
    "print(\"-\" * 40)\n",
    "\n",
    "print(\"Warm B\")\n",
    "print(\"총 데이터 개수:\", len(warm_b))\n",
    "print(\"고유 item_id 개수:\", warm_b['item_id'].nunique())\n",
    "print(\"고유 user_id 개수:\", warm_b['user_id'].nunique())\n",
    "print(\"-\" * 40)\n",
    "\n",
    "print(\"Warm C\")\n",
    "print(\"총 데이터 개수:\", len(warm_c))\n",
    "print(\"고유 item_id 개수:\", warm_c['item_id'].nunique())\n",
    "print(\"고유 user_id 개수:\", warm_c['user_id'].nunique())\n",
    "print(\"-\" * 40)\n",
    "\n",
    "print(\"Test Set\")\n",
    "print(\"총 데이터 개수:\", len(test_set))\n",
    "print(\"고유 item_id 개수:\", test_set['item_id'].nunique())\n",
    "print(\"고유 user_id 개수:\", test_set['user_id'].nunique())\n",
    "print(\"-\" * 40)\n"
   ]
  },
  {
   "cell_type": "markdown",
   "metadata": {},
   "source": [
    "---"
   ]
  },
  {
   "cell_type": "markdown",
   "metadata": {},
   "source": [
    "# 2. 데이터 scaling/encoding"
   ]
  },
  {
   "cell_type": "code",
   "execution_count": 38,
   "metadata": {},
   "outputs": [
    {
     "data": {
      "text/html": [
       "<div>\n",
       "<style scoped>\n",
       "    .dataframe tbody tr th:only-of-type {\n",
       "        vertical-align: middle;\n",
       "    }\n",
       "\n",
       "    .dataframe tbody tr th {\n",
       "        vertical-align: top;\n",
       "    }\n",
       "\n",
       "    .dataframe thead th {\n",
       "        text-align: right;\n",
       "    }\n",
       "</style>\n",
       "<table border=\"1\" class=\"dataframe\">\n",
       "  <thead>\n",
       "    <tr style=\"text-align: right;\">\n",
       "      <th></th>\n",
       "      <th>item_id</th>\n",
       "      <th>helpful</th>\n",
       "      <th>funny</th>\n",
       "      <th>date</th>\n",
       "      <th>is_recommended</th>\n",
       "      <th>hours</th>\n",
       "      <th>user_id</th>\n",
       "      <th>review_id</th>\n",
       "    </tr>\n",
       "  </thead>\n",
       "  <tbody>\n",
       "    <tr>\n",
       "      <th>0</th>\n",
       "      <td>975370</td>\n",
       "      <td>0</td>\n",
       "      <td>0</td>\n",
       "      <td>2022-12-12</td>\n",
       "      <td>True</td>\n",
       "      <td>36.3000</td>\n",
       "      <td>51580</td>\n",
       "      <td>0</td>\n",
       "    </tr>\n",
       "    <tr>\n",
       "      <th>1</th>\n",
       "      <td>304390</td>\n",
       "      <td>4</td>\n",
       "      <td>0</td>\n",
       "      <td>2017-02-17</td>\n",
       "      <td>False</td>\n",
       "      <td>11.5000</td>\n",
       "      <td>2586</td>\n",
       "      <td>1</td>\n",
       "    </tr>\n",
       "    <tr>\n",
       "      <th>2</th>\n",
       "      <td>1085660</td>\n",
       "      <td>2</td>\n",
       "      <td>0</td>\n",
       "      <td>2019-11-17</td>\n",
       "      <td>True</td>\n",
       "      <td>336.5000</td>\n",
       "      <td>253880</td>\n",
       "      <td>2</td>\n",
       "    </tr>\n",
       "    <tr>\n",
       "      <th>3</th>\n",
       "      <td>703080</td>\n",
       "      <td>0</td>\n",
       "      <td>0</td>\n",
       "      <td>2022-09-23</td>\n",
       "      <td>True</td>\n",
       "      <td>27.4000</td>\n",
       "      <td>259432</td>\n",
       "      <td>3</td>\n",
       "    </tr>\n",
       "    <tr>\n",
       "      <th>4</th>\n",
       "      <td>526870</td>\n",
       "      <td>0</td>\n",
       "      <td>0</td>\n",
       "      <td>2021-01-10</td>\n",
       "      <td>True</td>\n",
       "      <td>7.9000</td>\n",
       "      <td>23869</td>\n",
       "      <td>4</td>\n",
       "    </tr>\n",
       "    <tr>\n",
       "      <th>...</th>\n",
       "      <td>...</td>\n",
       "      <td>...</td>\n",
       "      <td>...</td>\n",
       "      <td>...</td>\n",
       "      <td>...</td>\n",
       "      <td>...</td>\n",
       "      <td>...</td>\n",
       "      <td>...</td>\n",
       "    </tr>\n",
       "    <tr>\n",
       "      <th>41154789</th>\n",
       "      <td>633230</td>\n",
       "      <td>0</td>\n",
       "      <td>0</td>\n",
       "      <td>2021-02-15</td>\n",
       "      <td>True</td>\n",
       "      <td>41.0000</td>\n",
       "      <td>1606890</td>\n",
       "      <td>41154789</td>\n",
       "    </tr>\n",
       "    <tr>\n",
       "      <th>41154790</th>\n",
       "      <td>758870</td>\n",
       "      <td>8</td>\n",
       "      <td>0</td>\n",
       "      <td>2019-07-18</td>\n",
       "      <td>False</td>\n",
       "      <td>8.0000</td>\n",
       "      <td>1786254</td>\n",
       "      <td>41154790</td>\n",
       "    </tr>\n",
       "    <tr>\n",
       "      <th>41154791</th>\n",
       "      <td>696170</td>\n",
       "      <td>3</td>\n",
       "      <td>10</td>\n",
       "      <td>2018-03-26</td>\n",
       "      <td>False</td>\n",
       "      <td>2.0000</td>\n",
       "      <td>6370324</td>\n",
       "      <td>41154791</td>\n",
       "    </tr>\n",
       "    <tr>\n",
       "      <th>41154792</th>\n",
       "      <td>696170</td>\n",
       "      <td>0</td>\n",
       "      <td>0</td>\n",
       "      <td>2018-06-11</td>\n",
       "      <td>True</td>\n",
       "      <td>4.0000</td>\n",
       "      <td>1044289</td>\n",
       "      <td>41154792</td>\n",
       "    </tr>\n",
       "    <tr>\n",
       "      <th>41154793</th>\n",
       "      <td>1089980</td>\n",
       "      <td>2</td>\n",
       "      <td>0</td>\n",
       "      <td>2020-09-16</td>\n",
       "      <td>True</td>\n",
       "      <td>14.0000</td>\n",
       "      <td>13971935</td>\n",
       "      <td>41154793</td>\n",
       "    </tr>\n",
       "  </tbody>\n",
       "</table>\n",
       "<p>41154794 rows × 8 columns</p>\n",
       "</div>"
      ],
      "text/plain": [
       "          item_id  helpful  funny        date  is_recommended    hours  \\\n",
       "0          975370        0      0  2022-12-12            True  36.3000   \n",
       "1          304390        4      0  2017-02-17           False  11.5000   \n",
       "2         1085660        2      0  2019-11-17            True 336.5000   \n",
       "3          703080        0      0  2022-09-23            True  27.4000   \n",
       "4          526870        0      0  2021-01-10            True   7.9000   \n",
       "...           ...      ...    ...         ...             ...      ...   \n",
       "41154789   633230        0      0  2021-02-15            True  41.0000   \n",
       "41154790   758870        8      0  2019-07-18           False   8.0000   \n",
       "41154791   696170        3     10  2018-03-26           False   2.0000   \n",
       "41154792   696170        0      0  2018-06-11            True   4.0000   \n",
       "41154793  1089980        2      0  2020-09-16            True  14.0000   \n",
       "\n",
       "           user_id  review_id  \n",
       "0            51580          0  \n",
       "1             2586          1  \n",
       "2           253880          2  \n",
       "3           259432          3  \n",
       "4            23869          4  \n",
       "...            ...        ...  \n",
       "41154789   1606890   41154789  \n",
       "41154790   1786254   41154790  \n",
       "41154791   6370324   41154791  \n",
       "41154792   1044289   41154792  \n",
       "41154793  13971935   41154793  \n",
       "\n",
       "[41154794 rows x 8 columns]"
      ]
     },
     "execution_count": 38,
     "metadata": {},
     "output_type": "execute_result"
    }
   ],
   "source": [
    "# date와 hours는 negative sampling으로 인해 사용 불가함\n",
    "recomd"
   ]
  },
  {
   "cell_type": "code",
   "execution_count": 5,
   "metadata": {},
   "outputs": [],
   "source": [
    "df_steam = recomd"
   ]
  },
  {
   "cell_type": "code",
   "execution_count": 17,
   "metadata": {},
   "outputs": [],
   "source": [
    "df_steam['interaction'] = df_steam['is_recommended'].astype(int)"
   ]
  },
  {
   "cell_type": "code",
   "execution_count": 18,
   "metadata": {},
   "outputs": [
    {
     "data": {
      "text/plain": [
       "interaction\n",
       "1    35304398\n",
       "0     5850396\n",
       "Name: count, dtype: int64"
      ]
     },
     "execution_count": 18,
     "metadata": {},
     "output_type": "execute_result"
    }
   ],
   "source": [
    "df_steam['interaction'].value_counts()"
   ]
  },
  {
   "cell_type": "code",
   "execution_count": 36,
   "metadata": {},
   "outputs": [],
   "source": [
    "# import numpy as np\n",
    "# import pandas as pd\n",
    "# from tqdm import tqdm\n",
    "\n",
    "# def negative_sampling(train_data):\n",
    "#     \"\"\"\n",
    "#     Memory-efficient Negative Sampling using vectorized operations.\n",
    "    \n",
    "#     Args:\n",
    "#         train_data (DataFrame): Data with columns ['user_id', 'item_id', 'interaction']\n",
    "#         negative_ratio (int): Number of negative samples per positive sample\n",
    "    \n",
    "#     Returns:\n",
    "#         final_train_data (DataFrame): Positive & Negative samples combined\n",
    "#     \"\"\"\n",
    "    \n",
    "#     # Positive 데이터 추출\n",
    "#     interacted_data = train_data\n",
    "#     positive_data_len = train_data['interaction'].sum()\n",
    "#     negative_data_len = len(train_data) - positive_data_len\n",
    "\n",
    "#     # 모든 유저와 아이템 목록 추출\n",
    "#     unique_users = interacted_data['user_id'].unique()\n",
    "#     all_items = set(train_data['item_id'].unique())  # Set 연산 최적화\n",
    "\n",
    "#     # Negative 샘플링\n",
    "#     negative_samples = []\n",
    "#     user_groups = interacted_data.groupby('user_id')['item_id'].apply(set).to_dict()  # 유저별 상호작용 아이템\n",
    "\n",
    "#     for user_id in tqdm(unique_users, desc=\"Generating Negative Samples\"):\n",
    "#         interacted_items = user_groups.get(user_id, set())\n",
    "\n",
    "#         # 해당 유저가 상호작용하지 않은 아이템 중 랜덤 샘플링\n",
    "#         non_interacted_items = list(all_items - interacted_items)\n",
    "#         num_samples = min(0, positive_data_len-negative_data_len)  # Negative 샘플 개수\n",
    "\n",
    "#         if num_samples > 0:\n",
    "#             sampled_items = np.random.choice(non_interacted_items, num_samples, replace=False)\n",
    "#             negative_samples.extend(zip([user_id] * num_samples, sampled_items, [0] * num_samples))\n",
    "\n",
    "#     # Negative 데이터프레임 생성\n",
    "#     negative_data = pd.DataFrame(negative_samples, columns=['user_id', 'item_id', 'interaction'])\n",
    "\n",
    "#     # Positive와 Negative 데이터 합치기\n",
    "#     final_train_data = pd.concat([interacted_data, negative_data], ignore_index=True)\n",
    "    \n",
    "#     print(\"Positive 데이터 개수:\", final_train_data['interaction'].value_counts()[1])\n",
    "#     print(\"Negative 데이터 개수:\", final_train_data['interaction'].value_counts()[0])\n",
    "\n",
    "#     # 데이터 섞기 (shuffle)\n",
    "#     final_train_data = final_train_data.sample(frac=1, random_state=42).reset_index(drop=True)\n",
    "\n",
    "#     return final_train_data\n"
   ]
  },
  {
   "cell_type": "code",
   "execution_count": 39,
   "metadata": {},
   "outputs": [],
   "source": [
    "# recomd['interaction'] = recomd['is_recommended'].astype(int)"
   ]
  },
  {
   "cell_type": "code",
   "execution_count": null,
   "metadata": {},
   "outputs": [],
   "source": [
    "# negative_sampled_df = negative_sampling(recomd)"
   ]
  },
  {
   "cell_type": "code",
   "execution_count": 6,
   "metadata": {},
   "outputs": [
    {
     "data": {
      "text/html": [
       "<div>\n",
       "<style scoped>\n",
       "    .dataframe tbody tr th:only-of-type {\n",
       "        vertical-align: middle;\n",
       "    }\n",
       "\n",
       "    .dataframe tbody tr th {\n",
       "        vertical-align: top;\n",
       "    }\n",
       "\n",
       "    .dataframe thead th {\n",
       "        text-align: right;\n",
       "    }\n",
       "</style>\n",
       "<table border=\"1\" class=\"dataframe\">\n",
       "  <thead>\n",
       "    <tr style=\"text-align: right;\">\n",
       "      <th></th>\n",
       "      <th>item_id</th>\n",
       "      <th>helpful</th>\n",
       "      <th>funny</th>\n",
       "      <th>date</th>\n",
       "      <th>is_recommended</th>\n",
       "      <th>hours</th>\n",
       "      <th>user_id</th>\n",
       "      <th>review_id</th>\n",
       "      <th>title</th>\n",
       "      <th>date_release</th>\n",
       "      <th>win</th>\n",
       "      <th>mac</th>\n",
       "      <th>linux</th>\n",
       "      <th>positive_ratio</th>\n",
       "      <th>price_final</th>\n",
       "      <th>price_original</th>\n",
       "      <th>steam_deck</th>\n",
       "      <th>estimated_owners</th>\n",
       "      <th>peak_ccu</th>\n",
       "      <th>required_age</th>\n",
       "      <th>price</th>\n",
       "      <th>dlc_count</th>\n",
       "      <th>detailed_description</th>\n",
       "      <th>short_description</th>\n",
       "      <th>supported_languages</th>\n",
       "      <th>metacritic_score</th>\n",
       "      <th>positive</th>\n",
       "      <th>negative</th>\n",
       "      <th>notes</th>\n",
       "      <th>average_playtime_forever</th>\n",
       "      <th>average_playtime_2weeks</th>\n",
       "      <th>median_playtime_forever</th>\n",
       "      <th>median_playtime_2weeks</th>\n",
       "      <th>developers</th>\n",
       "      <th>publishers</th>\n",
       "      <th>categories</th>\n",
       "      <th>genres</th>\n",
       "      <th>description</th>\n",
       "      <th>tags_sum</th>\n",
       "      <th>rating_encoded</th>\n",
       "      <th>date_release_unix</th>\n",
       "      <th>estimated_owners_mid</th>\n",
       "      <th>review_count</th>\n",
       "    </tr>\n",
       "  </thead>\n",
       "  <tbody>\n",
       "    <tr>\n",
       "      <th>0</th>\n",
       "      <td>975370</td>\n",
       "      <td>0</td>\n",
       "      <td>0</td>\n",
       "      <td>2022-12-12</td>\n",
       "      <td>True</td>\n",
       "      <td>36.3000</td>\n",
       "      <td>51580</td>\n",
       "      <td>0</td>\n",
       "      <td>Dwarf Fortress</td>\n",
       "      <td>2022-12-06</td>\n",
       "      <td>1.0000</td>\n",
       "      <td>0.0000</td>\n",
       "      <td>0.0000</td>\n",
       "      <td>95.0000</td>\n",
       "      <td>30.0000</td>\n",
       "      <td>0.0000</td>\n",
       "      <td>1.0000</td>\n",
       "      <td>500000 - 1000000</td>\n",
       "      <td>28026.0000</td>\n",
       "      <td>0.0000</td>\n",
       "      <td>29.9900</td>\n",
       "      <td>1.0000</td>\n",
       "      <td>Prepare for the deepest, most intricate simula...</td>\n",
       "      <td>The deepest, most intricate simulation of a wo...</td>\n",
       "      <td>English</td>\n",
       "      <td>93.0000</td>\n",
       "      <td>9616.0000</td>\n",
       "      <td>328.0000</td>\n",
       "      <td>Dwarf Fortress contains textual descriptions o...</td>\n",
       "      <td>681.0000</td>\n",
       "      <td>681.0000</td>\n",
       "      <td>548.0000</td>\n",
       "      <td>548.0000</td>\n",
       "      <td>Bay 12 Games</td>\n",
       "      <td>Kitfox Games</td>\n",
       "      <td>Single-player, Steam Workshop</td>\n",
       "      <td>RPG, Simulation, Strategy</td>\n",
       "      <td>NaN</td>\n",
       "      <td>2D, Difficult, Fantasy, Indie, Pixel Graphics,...</td>\n",
       "      <td>8.0000</td>\n",
       "      <td>1670284800.0000</td>\n",
       "      <td>750000.0000</td>\n",
       "      <td>4714.0000</td>\n",
       "    </tr>\n",
       "    <tr>\n",
       "      <th>1</th>\n",
       "      <td>304390</td>\n",
       "      <td>4</td>\n",
       "      <td>0</td>\n",
       "      <td>2017-02-17</td>\n",
       "      <td>False</td>\n",
       "      <td>11.5000</td>\n",
       "      <td>2586</td>\n",
       "      <td>1</td>\n",
       "      <td>FOR HONOR™</td>\n",
       "      <td>2017-02-13</td>\n",
       "      <td>1.0000</td>\n",
       "      <td>0.0000</td>\n",
       "      <td>0.0000</td>\n",
       "      <td>69.0000</td>\n",
       "      <td>15.0000</td>\n",
       "      <td>0.0000</td>\n",
       "      <td>1.0000</td>\n",
       "      <td>2000000 - 5000000</td>\n",
       "      <td>4552.0000</td>\n",
       "      <td>17.0000</td>\n",
       "      <td>14.9900</td>\n",
       "      <td>11.0000</td>\n",
       "      <td>Edition Comparison Grid Starter Edition Starte...</td>\n",
       "      <td>Carve a path of destruction through an intense...</td>\n",
       "      <td>English, French, Italian, German, Spanish - Sp...</td>\n",
       "      <td>76.0000</td>\n",
       "      <td>80877.0000</td>\n",
       "      <td>37476.0000</td>\n",
       "      <td>NaN</td>\n",
       "      <td>2585.0000</td>\n",
       "      <td>174.0000</td>\n",
       "      <td>594.0000</td>\n",
       "      <td>219.0000</td>\n",
       "      <td>Ubisoft Montreal, Ubisoft Quebec, Ubisoft Toro...</td>\n",
       "      <td>Ubisoft</td>\n",
       "      <td>Single-player, Multi-player, PvP, Online PvP, ...</td>\n",
       "      <td>Action</td>\n",
       "      <td>NaN</td>\n",
       "      <td>Action, Atmospheric, Co-op, Fantasy, Gore, Mul...</td>\n",
       "      <td>4.0000</td>\n",
       "      <td>1486944000.0000</td>\n",
       "      <td>3500000.0000</td>\n",
       "      <td>23097.0000</td>\n",
       "    </tr>\n",
       "  </tbody>\n",
       "</table>\n",
       "</div>"
      ],
      "text/plain": [
       "   item_id  helpful  funny        date  is_recommended   hours  user_id  \\\n",
       "0   975370        0      0  2022-12-12            True 36.3000    51580   \n",
       "1   304390        4      0  2017-02-17           False 11.5000     2586   \n",
       "\n",
       "   review_id           title date_release    win    mac  linux  \\\n",
       "0          0  Dwarf Fortress   2022-12-06 1.0000 0.0000 0.0000   \n",
       "1          1      FOR HONOR™   2017-02-13 1.0000 0.0000 0.0000   \n",
       "\n",
       "   positive_ratio  price_final  price_original  steam_deck   estimated_owners  \\\n",
       "0         95.0000      30.0000          0.0000      1.0000   500000 - 1000000   \n",
       "1         69.0000      15.0000          0.0000      1.0000  2000000 - 5000000   \n",
       "\n",
       "    peak_ccu  required_age   price  dlc_count  \\\n",
       "0 28026.0000        0.0000 29.9900     1.0000   \n",
       "1  4552.0000       17.0000 14.9900    11.0000   \n",
       "\n",
       "                                detailed_description  \\\n",
       "0  Prepare for the deepest, most intricate simula...   \n",
       "1  Edition Comparison Grid Starter Edition Starte...   \n",
       "\n",
       "                                   short_description  \\\n",
       "0  The deepest, most intricate simulation of a wo...   \n",
       "1  Carve a path of destruction through an intense...   \n",
       "\n",
       "                                 supported_languages  metacritic_score  \\\n",
       "0                                            English           93.0000   \n",
       "1  English, French, Italian, German, Spanish - Sp...           76.0000   \n",
       "\n",
       "    positive   negative                                              notes  \\\n",
       "0  9616.0000   328.0000  Dwarf Fortress contains textual descriptions o...   \n",
       "1 80877.0000 37476.0000                                                NaN   \n",
       "\n",
       "   average_playtime_forever  average_playtime_2weeks  median_playtime_forever  \\\n",
       "0                  681.0000                 681.0000                 548.0000   \n",
       "1                 2585.0000                 174.0000                 594.0000   \n",
       "\n",
       "   median_playtime_2weeks                                         developers  \\\n",
       "0                548.0000                                       Bay 12 Games   \n",
       "1                219.0000  Ubisoft Montreal, Ubisoft Quebec, Ubisoft Toro...   \n",
       "\n",
       "     publishers                                         categories  \\\n",
       "0  Kitfox Games                      Single-player, Steam Workshop   \n",
       "1       Ubisoft  Single-player, Multi-player, PvP, Online PvP, ...   \n",
       "\n",
       "                      genres description  \\\n",
       "0  RPG, Simulation, Strategy         NaN   \n",
       "1                     Action         NaN   \n",
       "\n",
       "                                            tags_sum  rating_encoded  \\\n",
       "0  2D, Difficult, Fantasy, Indie, Pixel Graphics,...          8.0000   \n",
       "1  Action, Atmospheric, Co-op, Fantasy, Gore, Mul...          4.0000   \n",
       "\n",
       "   date_release_unix  estimated_owners_mid  review_count  \n",
       "0    1670284800.0000           750000.0000     4714.0000  \n",
       "1    1486944000.0000          3500000.0000    23097.0000  "
      ]
     },
     "execution_count": 6,
     "metadata": {},
     "output_type": "execute_result"
    }
   ],
   "source": [
    "# Load user and item file, join with rating\n",
    "# df_user = pd.read_csv('users.csv')\n",
    "df_item = pd.read_csv('item.csv')\n",
    "# df_steam = df_steam.merge(df_user, on='user_id', how='left')\n",
    "df_steam = df_steam.merge(df_item, on='item_id', how='left')\n",
    "df_steam.head(2)"
   ]
  },
  {
   "cell_type": "code",
   "execution_count": 7,
   "metadata": {},
   "outputs": [
    {
     "data": {
      "text/plain": [
       "Index(['item_id', 'helpful', 'funny', 'date', 'is_recommended', 'hours',\n",
       "       'user_id', 'review_id', 'title', 'date_release', 'win', 'mac', 'linux',\n",
       "       'positive_ratio', 'price_final', 'price_original', 'steam_deck',\n",
       "       'estimated_owners', 'peak_ccu', 'required_age', 'price', 'dlc_count',\n",
       "       'detailed_description', 'short_description', 'supported_languages',\n",
       "       'metacritic_score', 'positive', 'negative', 'notes',\n",
       "       'average_playtime_forever', 'average_playtime_2weeks',\n",
       "       'median_playtime_forever', 'median_playtime_2weeks', 'developers',\n",
       "       'publishers', 'categories', 'genres', 'description', 'tags_sum',\n",
       "       'rating_encoded', 'date_release_unix', 'estimated_owners_mid',\n",
       "       'review_count'],\n",
       "      dtype='object')"
      ]
     },
     "execution_count": 7,
     "metadata": {},
     "output_type": "execute_result"
    }
   ],
   "source": [
    "df_steam.columns"
   ]
  },
  {
   "cell_type": "code",
   "execution_count": 8,
   "metadata": {},
   "outputs": [],
   "source": [
    "# Preprocess hours - minmax scaling\n",
    "min_hours = df_steam['hours'].min()\n",
    "max_hours = df_steam['hours'].max()\n",
    "df_steam['hours'] = (df_steam['hours'] - min_hours) / (max_hours - min_hours)"
   ]
  },
  {
   "cell_type": "code",
   "execution_count": 9,
   "metadata": {},
   "outputs": [],
   "source": [
    "# # Preprocess titles - multi label encoding\n",
    "# tokenizer = RegexpTokenizer(r'\\w+')\n",
    "# titles = df_steam['title']\n",
    "# tokenized_titles = []\n",
    "# titles = [tokenizer.tokenize(str(title)) for title in list(titles)]\n",
    "# vocab = []\n",
    "# max_title_len = 0\n",
    "# for title in titles:\n",
    "#     vocab += title\n",
    "#     max_title_len = max_title_len if max_title_len > len(title) else len(title)\n",
    "# vocab = set(vocab)\n",
    "# word2idx = {word: idx for idx, word in enumerate(vocab)}\n",
    "# res_title = []\n",
    "# for title in titles:\n",
    "#     padding_title = [word2idx[word] for word in title]\n",
    "#     padding_title.extend([0 for i in range(max_title_len - len(title))])\n",
    "#     res_title.append(padding_title)\n",
    "# df_steam['title'] = res_title\n",
    "# df_steam['title']"
   ]
  },
  {
   "cell_type": "code",
   "execution_count": 10,
   "metadata": {},
   "outputs": [],
   "source": [
    "# Preprocess date_release - minmax scaling\n",
    "df_steam['date_release'] = pd.to_datetime(df_steam['date_release'])\n",
    "df_steam['date_release'] = (df_steam['date_release'] - pd.Timestamp(\"1970-01-01\")).dt.days\n",
    "min_date = np.min(df_steam['date_release'])\n",
    "max_date = np.max(df_steam['date_release'])\n",
    "\n",
    "df_steam['date_release'] = df_steam['date_release'].map(lambda x: (x - min_date) / (max_date - min_date))"
   ]
  },
  {
   "cell_type": "code",
   "execution_count": 11,
   "metadata": {},
   "outputs": [],
   "source": [
    "# Preprocess positive_ratio - minmax scaling\n",
    "df_steam['positive_ratio'] = df_steam['positive_ratio'].map(lambda x: x / 100)"
   ]
  },
  {
   "cell_type": "code",
   "execution_count": 12,
   "metadata": {},
   "outputs": [],
   "source": [
    "# Preprocess price_final & price_original - minmax scaling\n",
    "min_price_final = df_steam['price_final'].min()\n",
    "max_price_final = df_steam['price_final'].max()\n",
    "df_steam['price_final'] = (df_steam['price_final'] - min_price_final) / (max_price_final - min_price_final)\n",
    "\n",
    "min_price_original = df_steam['price_original'].min()\n",
    "max_price_original = df_steam['price_original'].max()\n",
    "df_steam['price_original'] = (df_steam['price_original'] - min_price_original) / (max_price_original - min_price_original)"
   ]
  },
  {
   "cell_type": "code",
   "execution_count": 13,
   "metadata": {},
   "outputs": [],
   "source": [
    "# Preprocess peak_ccu - minmax scaling\n",
    "min_peak_ccu = df_steam['peak_ccu'].min()\n",
    "max_peak_ccu = df_steam['peak_ccu'].max()\n",
    "df_steam['peak_ccu'] = (df_steam['peak_ccu'] - min_peak_ccu) / (max_peak_ccu - min_peak_ccu)"
   ]
  },
  {
   "cell_type": "code",
   "execution_count": 14,
   "metadata": {},
   "outputs": [],
   "source": [
    "# Preprocess required_age - binary encoding: over 16 or not\n",
    "df_steam[\"required_age\"].value_counts().sort_index()\n",
    "df_steam['required_age'] = df_steam['required_age'].map(lambda x: 1 if x >= 16 else 0)"
   ]
  },
  {
   "cell_type": "code",
   "execution_count": 15,
   "metadata": {},
   "outputs": [],
   "source": [
    "# Preprocess price - minmax scaling\n",
    "min_price = df_steam['price'].min()\n",
    "max_price = df_steam['price'].max()\n",
    "df_steam['price'] = (df_steam['price'] - min_price) / (max_price - min_price)"
   ]
  },
  {
   "cell_type": "code",
   "execution_count": null,
   "metadata": {},
   "outputs": [],
   "source": [
    "# Preprocess supported_languages - multi label encoding\n",
    "df_steam.fillna({\"supported_languages\": \"\"}, inplace=True)\n",
    "supported_languages = df_steam['supported_languages']\n",
    "lang2idx = {}\n",
    "cnt = 0\n",
    "res_lang = []\n",
    "max_lang_len = 0\n",
    "for lang_str in supported_languages:\n",
    "    lang_list = [lang.strip() for part in lang_str.split(\",\") for lang in part.split(\"-\")]\n",
    "    max_lang_len = max(max_lang_len, len(lang_list))\n",
    "    for lang in lang_list:\n",
    "        if lang not in lang2idx:\n",
    "            lang2idx[lang] = cnt\n",
    "            cnt += 1\n",
    "    res_lang.append([lang2idx[lang] for lang in lang_list])\n",
    "for lang in res_lang:\n",
    "    lang.extend([0 for i in range(max_lang_len - len(lang))])\n",
    "df_steam['supported_languages'] = res_lang\n",
    "df_steam['supported_languages']"
   ]
  },
  {
   "cell_type": "code",
   "execution_count": 16,
   "metadata": {},
   "outputs": [],
   "source": [
    "# Preprocess metacritic_score - minmax scaling\n",
    "df_steam['metacritic_score'] = df_steam['metacritic_score'].map(lambda x: x / 100)\n"
   ]
  },
  {
   "cell_type": "code",
   "execution_count": null,
   "metadata": {},
   "outputs": [
    {
     "data": {
      "text/plain": [
       "[('user_id', 13781059, 'spr'),\n",
       " ('item_id', 37610, 'spr'),\n",
       " ('hours', -1, 'ctn'),\n",
       " ('date_release', -1, 'ctn'),\n",
       " ('positive_ratio', -1, 'ctn'),\n",
       " ('price_final', -1, 'ctn'),\n",
       " ('price_original', -1, 'ctn'),\n",
       " ('peak_ccu', -1, 'ctn'),\n",
       " ('required_age', 2, 'spr'),\n",
       " ('price', -1, 'ctn'),\n",
       " ('metacritic_score', -1, 'ctn'),\n",
       " ('date', -1, 'ctn'),\n",
       " ('interaction', 2, 'label'),\n",
       " ('count', -1, 'ctn')]"
      ]
     },
     "execution_count": 20,
     "metadata": {},
     "output_type": "execute_result"
    }
   ],
   "source": [
    "# define unique function\n",
    "def _unique(sample, fname):\n",
    "    tmp_df = pd.DataFrame()\n",
    "    tmp_df[fname] = sample[fname].unique()\n",
    "    num = len(tmp_df)\n",
    "    tmp_df['tmp_feature'] = range(num)\n",
    "    sample = sample.join(tmp_df.set_index(fname), on=fname)\n",
    "    sample.drop(fname, axis=1, inplace=True)\n",
    "    sample = sample.rename(columns = {\"tmp_feature\": fname})\n",
    "    return num, sample\n",
    "\n",
    "num_user, df_steam = _unique(df_steam, 'user_id')\n",
    "num_app, df_steam = _unique(df_steam, 'item_id')\n",
    "\n",
    "# Reorder columns\n",
    "orders = ['user_id', 'item_id', 'hours', 'date_release', 'positive_ratio', 'price_final', 'price_original', 'peak_ccu', 'required_age', 'price', 'metacritic_score', 'date', 'interaction', 'count']\n",
    "df_steam = df_steam[orders]\n",
    "description = [\n",
    "    ('user_id', num_user, 'spr'),  # 변환된 유저 ID\n",
    "    ('item_id', num_app, 'spr'),  # 변환된 게임(아이템) ID\n",
    "    ('hours', -1, 'ctn'),  # 플레이 시간\n",
    "    ('date_release', -1, 'ctn'),  # 출시일\n",
    "    ('positive_ratio', -1, 'ctn'),  # 긍정적인 평가 비율\n",
    "    ('price_final', -1, 'ctn'),  # 최종 가격\n",
    "    ('price_original', -1, 'ctn'),  # 원래 가격\n",
    "    ('peak_ccu', -1, 'ctn'),  # 최대 동시 접속자 수\n",
    "    ('required_age', 1 + np.max(df_steam[\"required_age\"]), 'spr'),  # 필요한 나이\n",
    "    ('price', -1, 'ctn'),  # 가격\n",
    "    # ('supported_languages', 1 + np.max(list(df_steam[\"supported_languages\"])), 'seq'),  # 지원되는 언어\n",
    "    ('metacritic_score', -1, 'ctn'),  # 메타크리틱 점수\n",
    "    ('date', -1, 'ctn'),  # 정규화된 날짜\n",
    "    ('interaction', 2, 'label'),  # 클릭 여부\n",
    "    ('count', -1, 'ctn'),  # 리뷰 수\n",
    "]\n",
    "description\n"
   ]
  },
  {
   "cell_type": "code",
   "execution_count": 21,
   "metadata": {},
   "outputs": [],
   "source": [
    "# Preprocess date - minmax scaling\n",
    "df_steam['date'] = pd.to_datetime(df_steam['date'])\n",
    "df_steam['date'] = (df_steam['date'] - pd.Timestamp(\"1970-01-01\")).dt.days\n",
    "min_date = np.min(df_steam['date'])\n",
    "max_date = np.max(df_steam['date'])\n",
    "\n",
    "df_steam['date'] = df_steam['date'].map(lambda x: (x - min_date) / (max_date - min_date))\n",
    "df_steam = df_steam.sort_values(by='date')  # 시간순 정렬"
   ]
  },
  {
   "cell_type": "code",
   "execution_count": 23,
   "metadata": {},
   "outputs": [
    {
     "data": {
      "text/plain": [
       "[<matplotlib.lines.Line2D at 0x7f52039f3310>]"
      ]
     },
     "execution_count": 23,
     "metadata": {},
     "output_type": "execute_result"
    },
    {
     "data": {
      "image/png": "[encoded data removed]",
      "text/plain": [
       "<Figure size 640x480 with 1 Axes>"
      ]
     },
     "metadata": {},
     "output_type": "display_data"
    }
   ],
   "source": [
    "# plot item counts vs item\n",
    "user2count = df_steam.groupby(['item_id']).size().reset_index(name='count').sort_values(by='count')\n",
    "item_ids = list(user2count['item_id'])\n",
    "counts = np.array(user2count['count'])\n",
    "plt.plot(np.arange(len(counts)), counts)"
   ]
  },
  {
   "cell_type": "code",
   "execution_count": 24,
   "metadata": {},
   "outputs": [],
   "source": [
    "# Preprocess count\n",
    "df_steam = df_steam.join(user2count.set_index('item_id'), on='item_id')\n",
    "min_count = np.min(df_steam['count'])\n",
    "max_count = np.max(df_steam['count'])\n",
    "df_steam['count'] = df_steam['count'].map(lambda x: (x - min_count) / (max_count - min_count))"
   ]
  },
  {
   "cell_type": "code",
   "execution_count": 28,
   "metadata": {},
   "outputs": [
    {
     "data": {
      "text/html": [
       "<div>\n",
       "<style scoped>\n",
       "    .dataframe tbody tr th:only-of-type {\n",
       "        vertical-align: middle;\n",
       "    }\n",
       "\n",
       "    .dataframe tbody tr th {\n",
       "        vertical-align: top;\n",
       "    }\n",
       "\n",
       "    .dataframe thead th {\n",
       "        text-align: right;\n",
       "    }\n",
       "</style>\n",
       "<table border=\"1\" class=\"dataframe\">\n",
       "  <thead>\n",
       "    <tr style=\"text-align: right;\">\n",
       "      <th></th>\n",
       "      <th>user_id</th>\n",
       "      <th>item_id</th>\n",
       "      <th>hours</th>\n",
       "      <th>date_release</th>\n",
       "      <th>positive_ratio</th>\n",
       "      <th>price_final</th>\n",
       "      <th>price_original</th>\n",
       "      <th>peak_ccu</th>\n",
       "      <th>required_age</th>\n",
       "      <th>price</th>\n",
       "      <th>metacritic_score</th>\n",
       "      <th>date</th>\n",
       "      <th>interaction</th>\n",
       "      <th>count</th>\n",
       "    </tr>\n",
       "  </thead>\n",
       "  <tbody>\n",
       "    <tr>\n",
       "      <th>27047335</th>\n",
       "      <td>4178238</td>\n",
       "      <td>261</td>\n",
       "      <td>0.0255</td>\n",
       "      <td>0.4409</td>\n",
       "      <td>0.9200</td>\n",
       "      <td>0.0740</td>\n",
       "      <td>0.0740</td>\n",
       "      <td>0.0002</td>\n",
       "      <td>0</td>\n",
       "      <td>0.0740</td>\n",
       "      <td>0.8600</td>\n",
       "      <td>0.0000</td>\n",
       "      <td>1</td>\n",
       "      <td>0.0574</td>\n",
       "    </tr>\n",
       "    <tr>\n",
       "      <th>28831996</th>\n",
       "      <td>3383410</td>\n",
       "      <td>9760</td>\n",
       "      <td>0.0157</td>\n",
       "      <td>0.4839</td>\n",
       "      <td>0.7000</td>\n",
       "      <td>0.0555</td>\n",
       "      <td>0.0000</td>\n",
       "      <td>0.0000</td>\n",
       "      <td>0</td>\n",
       "      <td>0.0000</td>\n",
       "      <td>0.0000</td>\n",
       "      <td>0.0000</td>\n",
       "      <td>1</td>\n",
       "      <td>0.0026</td>\n",
       "    </tr>\n",
       "  </tbody>\n",
       "</table>\n",
       "</div>"
      ],
      "text/plain": [
       "          user_id  item_id  hours  date_release  positive_ratio  price_final  \\\n",
       "27047335  4178238      261 0.0255        0.4409          0.9200       0.0740   \n",
       "28831996  3383410     9760 0.0157        0.4839          0.7000       0.0555   \n",
       "\n",
       "          price_original  peak_ccu  required_age  price  metacritic_score  \\\n",
       "27047335          0.0740    0.0002             0 0.0740            0.8600   \n",
       "28831996          0.0000    0.0000             0 0.0000            0.0000   \n",
       "\n",
       "           date  interaction  count  \n",
       "27047335 0.0000            1 0.0574  \n",
       "28831996 0.0000            1 0.0026  "
      ]
     },
     "execution_count": 28,
     "metadata": {},
     "output_type": "execute_result"
    }
   ],
   "source": [
    "df_steam.head(2)"
   ]
  },
  {
   "cell_type": "markdown",
   "metadata": {},
   "source": [
    "# 3. 데이터 Split"
   ]
  },
  {
   "cell_type": "code",
   "execution_count": 29,
   "metadata": {},
   "outputs": [],
   "source": [
    "def split_2(df_ratings, description, N=274, K=10):\n",
    "    user2count = df_ratings.groupby(['item_id']).size().reset_index(name='count').sort_values(by='count')\n",
    "    item_ids = user2count['item_id'].to_numpy()\n",
    "    counts = user2count['count'].to_numpy()\n",
    "\n",
    "    hot_item_ids = item_ids[counts > N]\n",
    "    cold_item_ids = item_ids[(counts <= N) & (counts >= 3 * K)]\n",
    "\n",
    "    item_group = df_ratings.groupby('item_id')\n",
    "\n",
    "    train_base_list = []\n",
    "    for item_id in hot_item_ids:\n",
    "        df_hot = item_group.get_group(item_id).sort_values(by='date')\n",
    "        train_base_list.append(df_hot)\n",
    "\n",
    "    train_base = pd.concat(train_base_list, ignore_index=True)\n",
    "\n",
    "    train_warm_a_list, train_warm_b_list, train_warm_c_list, test_list = [], [], [], []\n",
    "    \n",
    "    for item_id in cold_item_ids:\n",
    "        df_cold = item_group.get_group(item_id).sort_values(by='date')\n",
    "        train_warm_a_list.append(df_cold[:K])\n",
    "        train_warm_b_list.append(df_cold[K:2*K])\n",
    "        train_warm_c_list.append(df_cold[2*K:3*K])\n",
    "        test_list.append(df_cold[3*K:])\n",
    "    \n",
    "    train_warm_a = pd.concat(train_warm_a_list, ignore_index=True)\n",
    "    train_warm_b = pd.concat(train_warm_b_list, ignore_index=True)\n",
    "    train_warm_c = pd.concat(train_warm_c_list, ignore_index=True)\n",
    "    test = pd.concat(test_list, ignore_index=True)\n",
    "\n",
    "    save_dic = {\n",
    "        'train_base': train_base.sort_values('date'),\n",
    "        'train_warm_a': train_warm_a.sort_values('date'),\n",
    "        'train_warm_b': train_warm_b.sort_values('date'),\n",
    "        'train_warm_c': train_warm_c.sort_values('date'),\n",
    "        'test': test.sort_values('date'),\n",
    "        'description': description\n",
    "    }\n",
    "\n",
    "    for name, df in save_dic.items():\n",
    "        print(\"{} size: {}\".format(name, len(df)))\n",
    "\n",
    "    with open('./emb_warm_split_preprocess.pkl', 'bw+') as f:\n",
    "        pickle.dump(save_dic, f)\n"
   ]
  },
  {
   "cell_type": "code",
   "execution_count": 30,
   "metadata": {},
   "outputs": [
    {
     "name": "stdout",
     "output_type": "stream",
     "text": [
      "train_base size: 39636576\n",
      "train_warm_a size: 135630\n",
      "train_warm_b size: 135630\n",
      "train_warm_c size: 135630\n",
      "test size: 897366\n",
      "description size: 14\n"
     ]
    }
   ],
   "source": [
    "split_2(df_steam, description)"
   ]
  },
  {
   "cell_type": "code",
   "execution_count": 43,
   "metadata": {},
   "outputs": [
    {
     "name": "stderr",
     "output_type": "stream",
     "text": [
      "100%|██████████| 7518/7518 [00:21<00:00, 353.31it/s] \n"
     ]
    },
    {
     "ename": "",
     "evalue": "",
     "output_type": "error",
     "traceback": [
      "\u001b[1;31m현재 셀 또는 이전 셀에서 코드를 실행하는 동안 Kernel이 충돌했습니다. \n",
      "\u001b[1;31m셀의 코드를 검토하여 가능한 오류 원인을 식별하세요. \n",
      "\u001b[1;31m자세한 내용을 보려면 <a href='https://aka.ms/vscodeJupyterKernelCrash'>여기</a>를 클릭하세요. \n",
      "\u001b[1;31m자세한 내용은 Jupyter <a href='command:jupyter.viewOutput'>로그</a>를 참조하세요."
     ]
    }
   ],
   "source": [
    "# Get training data for Meta-Embedding method\n",
    "with open('./emb_warm_split_preprocess.pkl', 'rb') as f:\n",
    "    data = pickle.load(f)\n",
    "\n",
    "df_base = data['train_base']\n",
    "item2group = df_base.groupby('item_id')\n",
    "\n",
    "train_a_list, train_b_list, train_c_list, train_d_list = [], [], [], []\n",
    "\n",
    "for item_id, df_group in tqdm(item2group):\n",
    "    l, e = df_group.shape[0], df_group.shape[0] // 4     \n",
    "    train_a_list.append(df_group.iloc[0:e])\n",
    "    train_b_list.append(df_group.iloc[e: 2 * e])\n",
    "    train_c_list.append(df_group.iloc[2 * e: 3 * e])\n",
    "    train_d_list.append(df_group.iloc[3 * e: 4 * e]) \n",
    "\n",
    "train_a = pd.concat(train_a_list, ignore_index=True)\n",
    "train_b = pd.concat(train_b_list, ignore_index=True)\n",
    "train_c = pd.concat(train_c_list, ignore_index=True)\n",
    "train_d = pd.concat(train_d_list, ignore_index=True)\n",
    "\n",
    "shuffle_idx = np.random.permutation(train_a.shape[0])\n",
    "train_a = train_a.iloc[shuffle_idx]\n",
    "train_b = train_b.iloc[shuffle_idx]\n",
    "train_c = train_c.iloc[shuffle_idx]\n",
    "train_d = train_d.iloc[shuffle_idx]\n",
    "\n",
    "data[\"metaE_a\"] = train_a\n",
    "data[\"metaE_b\"] = train_b\n",
    "data[\"metaE_c\"] = train_c\n",
    "data[\"metaE_d\"] = train_d\n",
    "\n",
    "with open('./steam_data.pkl', 'wb') as f:\n",
    "    pickle.dump(data, f)\n"
   ]
  },
  {
   "cell_type": "code",
   "execution_count": 24,
   "metadata": {},
   "outputs": [
    {
     "name": "stdout",
     "output_type": "stream",
     "text": [
      "데이터 타입: <class 'dict'>\n",
      "데이터 크기: 10\n",
      "데이터 키 목록: dict_keys(['train_base', 'train_warm_a', 'train_warm_b', 'train_warm_c', 'test', 'description', 'metaE_a', 'metaE_b', 'metaE_c', 'metaE_d'])\n"
     ]
    },
    {
     "ename": "",
     "evalue": "",
     "output_type": "error",
     "traceback": [
      "\u001b[1;31m현재 셀 또는 이전 셀에서 코드를 실행하는 동안 Kernel이 충돌했습니다. \n",
      "\u001b[1;31m셀의 코드를 검토하여 가능한 오류 원인을 식별하세요. \n",
      "\u001b[1;31m자세한 내용을 보려면 <a href='https://aka.ms/vscodeJupyterKernelCrash'>여기</a>를 클릭하세요. \n",
      "\u001b[1;31m자세한 내용은 Jupyter <a href='command:jupyter.viewOutput'>로그</a>를 참조하세요."
     ]
    }
   ],
   "source": [
    "print(\"데이터 타입:\", type(data))\n",
    "print(\"데이터 크기:\", len(data) if isinstance(data, dict) else \"Not a dict\")\n",
    "print(\"데이터 키 목록:\", data.keys() if isinstance(data, dict) else \"Not a dict\")\n"
   ]
  }
 ],
 "metadata": {
  "kernelspec": {
   "display_name": "base",
   "language": "python",
   "name": "python3"
  },
  "language_info": {
   "codemirror_mode": {
    "name": "ipython",
    "version": 3
   },
   "file_extension": ".py",
   "mimetype": "text/x-python",
   "name": "python",
   "nbconvert_exporter": "python",
   "pygments_lexer": "ipython3",
   "version": "3.10.13"
  }
 },
 "nbformat": 4,
 "nbformat_minor": 2
}
