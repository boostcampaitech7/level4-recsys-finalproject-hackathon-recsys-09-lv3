{
 "cells": [
  {
   "cell_type": "markdown",
   "metadata": {},
   "source": [
    "# 코드 설명\n",
    "\n",
    "0.EDA랑 1.데이터 불러오기는 안돌려도 됩니다! \n",
    "바로 밑에 3개 cell이랑 2.데이터 scaling/encoding부터 쭉 돌리면 됩니다."
   ]
  },
  {
   "cell_type": "code",
   "execution_count": 1,
   "metadata": {},
   "outputs": [],
   "source": [
    "import os\n",
    "\n",
    "import numpy as np\n",
    "import random\n",
    "import pandas as pd\n",
    "import ast\n",
    "from tqdm import tqdm\n",
    "import pickle\n",
    "import io\n",
    "from nltk.tokenize import RegexpTokenizer\n",
    "\n",
    "import matplotlib.pyplot as plt\n",
    "%matplotlib inline\n",
    "\n",
    "# pandas options\n",
    "pd.set_option('mode.copy_on_write', True)  # pandas 2.0\n",
    "pd.set_option('display.max_columns', 100)\n",
    "pd.options.display.float_format = '{:.4f}'.format  # pd.reset_option('display.float_format')\n",
    "\n",
    "# NumPy options\n",
    "np.set_printoptions(precision = 2, suppress=True)  # suppress scientific notation"
   ]
  },
  {
   "cell_type": "code",
   "execution_count": 143,
   "metadata": {},
   "outputs": [],
   "source": [
    "recomd = pd.read_csv('inter.csv')"
   ]
  },
  {
   "cell_type": "code",
   "execution_count": 144,
   "metadata": {},
   "outputs": [],
   "source": [
    "recomd.rename(columns={\"app_id\": \"item_id\"}, inplace=True)"
   ]
  },
  {
   "cell_type": "markdown",
   "metadata": {},
   "source": [
    "# 0. EDA"
   ]
  },
  {
   "cell_type": "code",
   "execution_count": 45,
   "metadata": {},
   "outputs": [],
   "source": [
    "recomd2 = pd.read_csv('recommendations.csv')"
   ]
  },
  {
   "cell_type": "code",
   "execution_count": 50,
   "metadata": {},
   "outputs": [],
   "source": [
    "recomd2.rename(columns={\"app_id\": \"item_id\"}, inplace=True)"
   ]
  },
  {
   "cell_type": "code",
   "execution_count": 46,
   "metadata": {},
   "outputs": [
    {
     "data": {
      "text/plain": [
       "((14529074, 9), (41154794, 8))"
      ]
     },
     "execution_count": 46,
     "metadata": {},
     "output_type": "execute_result"
    }
   ],
   "source": [
    "recomd.shape, recomd2.shape"
   ]
  },
  {
   "cell_type": "code",
   "execution_count": 48,
   "metadata": {},
   "outputs": [
    {
     "data": {
      "text/plain": [
       "(680812, 13781059)"
      ]
     },
     "execution_count": 48,
     "metadata": {},
     "output_type": "execute_result"
    }
   ],
   "source": [
    "recomd[\"user_id\"].nunique(), recomd2[\"user_id\"].nunique()"
   ]
  },
  {
   "cell_type": "code",
   "execution_count": 51,
   "metadata": {},
   "outputs": [
    {
     "data": {
      "text/plain": [
       "(37141, 37610)"
      ]
     },
     "execution_count": 51,
     "metadata": {},
     "output_type": "execute_result"
    }
   ],
   "source": [
    "recomd[\"item_id\"].nunique(), recomd2[\"item_id\"].nunique()"
   ]
  },
  {
   "cell_type": "code",
   "execution_count": 55,
   "metadata": {},
   "outputs": [
    {
     "data": {
      "text/plain": [
       "interaction\n",
       "1    12144253\n",
       "0     2384821\n",
       "Name: count, dtype: int64"
      ]
     },
     "execution_count": 55,
     "metadata": {},
     "output_type": "execute_result"
    }
   ],
   "source": [
    "recomd['interaction'].value_counts()"
   ]
  },
  {
   "cell_type": "code",
   "execution_count": 58,
   "metadata": {},
   "outputs": [
    {
     "data": {
      "text/plain": [
       "interaction\n",
       "1    35304398\n",
       "0     5850396\n",
       "Name: count, dtype: int64"
      ]
     },
     "execution_count": 58,
     "metadata": {},
     "output_type": "execute_result"
    }
   ],
   "source": [
    "recomd2['interaction'].value_counts()"
   ]
  },
  {
   "cell_type": "code",
   "execution_count": null,
   "metadata": {},
   "outputs": [],
   "source": [
    "df_item = pd.read_csv('item.csv')\n",
    "recomd2 = recomd2.merge(df_item, on='item_id', how='left')"
   ]
  },
  {
   "cell_type": "code",
   "execution_count": 54,
   "metadata": {},
   "outputs": [
    {
     "data": {
      "text/plain": [
       "item_id                            0\n",
       "helpful                            0\n",
       "funny                              0\n",
       "date                               0\n",
       "is_recommended                     0\n",
       "hours                              0\n",
       "user_id                            0\n",
       "review_id                          0\n",
       "title                         151993\n",
       "date_release                  151993\n",
       "win                           151993\n",
       "mac                           151993\n",
       "linux                         151993\n",
       "positive_ratio                151993\n",
       "price_final                   151993\n",
       "price_original                151993\n",
       "steam_deck                    151993\n",
       "estimated_owners              151993\n",
       "peak_ccu                      151993\n",
       "required_age                  151993\n",
       "price                         151993\n",
       "dlc_count                     151993\n",
       "detailed_description          174527\n",
       "short_description             152023\n",
       "supported_languages           152101\n",
       "metacritic_score              151993\n",
       "positive                      151993\n",
       "negative                      151993\n",
       "notes                       35330181\n",
       "average_playtime_forever      151993\n",
       "average_playtime_2weeks       151993\n",
       "median_playtime_forever       151993\n",
       "median_playtime_2weeks        151993\n",
       "developers                    174403\n",
       "publishers                    254317\n",
       "categories                    265883\n",
       "genres                        200832\n",
       "description                 20929812\n",
       "tags_sum                      300219\n",
       "rating_encoded                151993\n",
       "date_release_unix             151993\n",
       "estimated_owners_mid          151993\n",
       "review_count                  151993\n",
       "dtype: int64"
      ]
     },
     "execution_count": 54,
     "metadata": {},
     "output_type": "execute_result"
    }
   ],
   "source": [
    "recomd2.isna().sum()"
   ]
  },
  {
   "cell_type": "markdown",
   "metadata": {},
   "source": [
    "# 1. 데이터 불러오기"
   ]
  },
  {
   "cell_type": "code",
   "execution_count": 7,
   "metadata": {},
   "outputs": [
    {
     "data": {
      "text/plain": [
       "13781059"
      ]
     },
     "execution_count": 7,
     "metadata": {},
     "output_type": "execute_result"
    }
   ],
   "source": [
    "recomd[\"user_id\"].nunique() "
   ]
  },
  {
   "cell_type": "code",
   "execution_count": 5,
   "metadata": {},
   "outputs": [],
   "source": [
    "item_group = recomd.sort_values(by=['item_id','date'])"
   ]
  },
  {
   "cell_type": "code",
   "execution_count": 6,
   "metadata": {},
   "outputs": [
    {
     "data": {
      "image/png": "[encoded data removed]",
      "text/plain": [
       "<Figure size 640x480 with 1 Axes>"
      ]
     },
     "metadata": {},
     "output_type": "display_data"
    }
   ],
   "source": [
    "item_count = recomd.groupby('item_id').size().reset_index(name = 'count')\n",
    "item_count['count'].hist()\n",
    "plt.show()"
   ]
  },
  {
   "cell_type": "code",
   "execution_count": 7,
   "metadata": {},
   "outputs": [
    {
     "name": "stdout",
     "output_type": "stream",
     "text": [
      "임계값 (상위 20%): 274.0\n"
     ]
    }
   ],
   "source": [
    "# 상위 20% 아이템\n",
    "threshold = item_count['count'].quantile(0.8)\n",
    "print(f\"임계값 (상위 20%): {threshold}\")"
   ]
  },
  {
   "cell_type": "code",
   "execution_count": 8,
   "metadata": {},
   "outputs": [],
   "source": [
    "# Old Items와 New Items 분리 - 상위 20% 기준으로\n",
    "item_count['category'] = item_count['count'].apply(lambda x: 'Old' if x >= threshold else 'New')\n",
    "\n",
    "old_items = item_count[item_count['category'] == 'Old']\n",
    "new_items = item_count[item_count['category'] == 'New']"
   ]
  },
  {
   "cell_type": "code",
   "execution_count": 9,
   "metadata": {},
   "outputs": [
    {
     "data": {
      "text/plain": [
       "category\n",
       "New    30080\n",
       "Old     7530\n",
       "Name: count, dtype: int64"
      ]
     },
     "execution_count": 9,
     "metadata": {},
     "output_type": "execute_result"
    }
   ],
   "source": [
    "item_count['category'].value_counts()"
   ]
  },
  {
   "cell_type": "code",
   "execution_count": 10,
   "metadata": {},
   "outputs": [],
   "source": [
    "new_ids = new_items['item_id']\n",
    "new_df  = item_group[item_group['item_id'].isin(new_ids)]\n",
    "\n",
    "old_ids = old_items['item_id']\n",
    "old_df = item_group[item_group['item_id'].isin(old_ids)]"
   ]
  },
  {
   "cell_type": "code",
   "execution_count": 11,
   "metadata": {},
   "outputs": [
    {
     "name": "stderr",
     "output_type": "stream",
     "text": [
      "Processing New Items: 100%|██████████| 30080/30080 [00:16<00:00, 1780.26it/s]\n"
     ]
    }
   ],
   "source": [
    "# Grouped Data 생성\n",
    "new_item_groups = new_df.groupby('item_id')\n",
    "\n",
    "# 웜업 단계 크기 K 설정\n",
    "K = 10\n",
    "\n",
    "def split_group_safe(data, K):\n",
    "    \"\"\"\n",
    "    데이터를 K 크기로 분리합니다.\n",
    "    데이터가 부족하면 빈 DataFrame을 반환합니다.\n",
    "    \"\"\"\n",
    "    warm_a = data.iloc[:K] if len(data) >= K else pd.DataFrame()\n",
    "    warm_b = data.iloc[K:2*K] if len(data) >= 2*K else pd.DataFrame()\n",
    "    warm_c = data.iloc[2*K:3*K] if len(data) >= 3*K else pd.DataFrame()\n",
    "    test_set = data.iloc[3*K:] if len(data) > 3*K else pd.DataFrame()\n",
    "    return warm_a, warm_b, warm_c, test_set\n",
    "\n",
    "# 웜업 단계 분리 및 유효한 아이템 필터링\n",
    "warmup_splits = {}\n",
    "\n",
    "for item_id, item_data in tqdm(new_item_groups, desc=\"Processing New Items\"):\n",
    "    warm_a, warm_b, warm_c, test_set = split_group_safe(item_data, K)\n",
    "    \n",
    "    # 모든 세트에 데이터가 있는 경우에만 추가\n",
    "    if all(not split.empty for split in [warm_a, warm_b, warm_c, test_set]):\n",
    "        warmup_splits[item_id] = {\n",
    "            'warm_a': warm_a,\n",
    "            'warm_b': warm_b,\n",
    "            'warm_c': warm_c,\n",
    "            'test_set': test_set\n",
    "        }\n"
   ]
  },
  {
   "cell_type": "code",
   "execution_count": 12,
   "metadata": {},
   "outputs": [
    {
     "name": "stderr",
     "output_type": "stream",
     "text": [
      "processing: 100%|██████████| 13249/13249 [00:25<00:00, 525.92it/s]\n"
     ]
    }
   ],
   "source": [
    "# 단계별 데이터를 저장할 리스트\n",
    "warm_a_list = []\n",
    "warm_b_list = []\n",
    "warm_c_list = []\n",
    "test_set_list = []\n",
    "\n",
    "# warmup_splits에서 데이터 추출\n",
    "for item_id, splits in tqdm(warmup_splits.items(),desc='processing'):\n",
    "    # 각 단계의 데이터를 추출하고 아이템 ID 추가\n",
    "    warm_a = splits['warm_a'].copy()\n",
    "    warm_a['stage'] = 'warm_a'\n",
    "    warm_a_list.append(warm_a)\n",
    "\n",
    "    warm_b = splits['warm_b'].copy()\n",
    "    warm_b['stage'] = 'warm_b'\n",
    "    warm_b_list.append(warm_b)\n",
    "\n",
    "    warm_c = splits['warm_c'].copy()\n",
    "    warm_c['stage'] = 'warm_c'\n",
    "    warm_c_list.append(warm_c)\n",
    "\n",
    "    test_set = splits['test_set'].copy()\n",
    "    test_set['stage'] = 'test_set'\n",
    "    test_set_list.append(test_set)\n",
    "\n",
    "# 각각의 데이터프레임으로 병합\n",
    "warm_a = pd.concat(warm_a_list, ignore_index=True)\n",
    "warm_b = pd.concat(warm_b_list, ignore_index=True)\n",
    "warm_c = pd.concat(warm_c_list, ignore_index=True)\n",
    "test_set = pd.concat(test_set_list, ignore_index=True)\n"
   ]
  },
  {
   "cell_type": "code",
   "execution_count": 13,
   "metadata": {},
   "outputs": [
    {
     "name": "stdout",
     "output_type": "stream",
     "text": [
      "Old DataFrame\n",
      "총 데이터 개수: 39639864\n",
      "고유 item_id 개수: 7530\n",
      "고유 user_id 개수: 13670645\n",
      "----------------------------------------\n",
      "Warm A\n",
      "총 데이터 개수: 132490\n",
      "고유 item_id 개수: 13249\n",
      "고유 user_id 개수: 86204\n",
      "----------------------------------------\n",
      "Warm B\n",
      "총 데이터 개수: 132490\n",
      "고유 item_id 개수: 13249\n",
      "고유 user_id 개수: 93580\n",
      "----------------------------------------\n",
      "Warm C\n",
      "총 데이터 개수: 132490\n",
      "고유 item_id 개수: 13249\n",
      "고유 user_id 개수: 95731\n",
      "----------------------------------------\n",
      "Test Set\n",
      "총 데이터 개수: 894438\n",
      "고유 item_id 개수: 13249\n",
      "고유 user_id 개수: 500296\n",
      "----------------------------------------\n"
     ]
    }
   ],
   "source": [
    "print(\"Old DataFrame\")\n",
    "print(\"총 데이터 개수:\", len(old_df))\n",
    "print(\"고유 item_id 개수:\", old_df['item_id'].nunique())\n",
    "print(\"고유 user_id 개수:\", old_df['user_id'].nunique())\n",
    "print(\"-\" * 40)\n",
    "\n",
    "print(\"Warm A\")\n",
    "print(\"총 데이터 개수:\", len(warm_a))\n",
    "print(\"고유 item_id 개수:\", warm_a['item_id'].nunique())\n",
    "print(\"고유 user_id 개수:\", warm_a['user_id'].nunique())\n",
    "print(\"-\" * 40)\n",
    "\n",
    "print(\"Warm B\")\n",
    "print(\"총 데이터 개수:\", len(warm_b))\n",
    "print(\"고유 item_id 개수:\", warm_b['item_id'].nunique())\n",
    "print(\"고유 user_id 개수:\", warm_b['user_id'].nunique())\n",
    "print(\"-\" * 40)\n",
    "\n",
    "print(\"Warm C\")\n",
    "print(\"총 데이터 개수:\", len(warm_c))\n",
    "print(\"고유 item_id 개수:\", warm_c['item_id'].nunique())\n",
    "print(\"고유 user_id 개수:\", warm_c['user_id'].nunique())\n",
    "print(\"-\" * 40)\n",
    "\n",
    "print(\"Test Set\")\n",
    "print(\"총 데이터 개수:\", len(test_set))\n",
    "print(\"고유 item_id 개수:\", test_set['item_id'].nunique())\n",
    "print(\"고유 user_id 개수:\", test_set['user_id'].nunique())\n",
    "print(\"-\" * 40)\n"
   ]
  },
  {
   "cell_type": "markdown",
   "metadata": {},
   "source": [
    "---"
   ]
  },
  {
   "cell_type": "markdown",
   "metadata": {},
   "source": [
    "# 2. 데이터 scaling/encoding"
   ]
  },
  {
   "cell_type": "code",
   "execution_count": 145,
   "metadata": {},
   "outputs": [
    {
     "data": {
      "text/html": [
       "<div>\n",
       "<style scoped>\n",
       "    .dataframe tbody tr th:only-of-type {\n",
       "        vertical-align: middle;\n",
       "    }\n",
       "\n",
       "    .dataframe tbody tr th {\n",
       "        vertical-align: top;\n",
       "    }\n",
       "\n",
       "    .dataframe thead th {\n",
       "        text-align: right;\n",
       "    }\n",
       "</style>\n",
       "<table border=\"1\" class=\"dataframe\">\n",
       "  <thead>\n",
       "    <tr style=\"text-align: right;\">\n",
       "      <th></th>\n",
       "      <th>user_id</th>\n",
       "      <th>item_id</th>\n",
       "      <th>is_recommended</th>\n",
       "      <th>date</th>\n",
       "      <th>unix_date</th>\n",
       "      <th>hours</th>\n",
       "      <th>helpful</th>\n",
       "      <th>funny</th>\n",
       "    </tr>\n",
       "  </thead>\n",
       "  <tbody>\n",
       "    <tr>\n",
       "      <th>0</th>\n",
       "      <td>0</td>\n",
       "      <td>63710</td>\n",
       "      <td>0</td>\n",
       "      <td>2014-06-16</td>\n",
       "      <td>1402876800</td>\n",
       "      <td>2.0000</td>\n",
       "      <td>4</td>\n",
       "      <td>0</td>\n",
       "    </tr>\n",
       "    <tr>\n",
       "      <th>1</th>\n",
       "      <td>0</td>\n",
       "      <td>260230</td>\n",
       "      <td>0</td>\n",
       "      <td>2014-06-25</td>\n",
       "      <td>1403654400</td>\n",
       "      <td>5.5000</td>\n",
       "      <td>12</td>\n",
       "      <td>0</td>\n",
       "    </tr>\n",
       "    <tr>\n",
       "      <th>2</th>\n",
       "      <td>0</td>\n",
       "      <td>267060</td>\n",
       "      <td>0</td>\n",
       "      <td>2014-09-02</td>\n",
       "      <td>1409616000</td>\n",
       "      <td>11.5000</td>\n",
       "      <td>6</td>\n",
       "      <td>0</td>\n",
       "    </tr>\n",
       "    <tr>\n",
       "      <th>3</th>\n",
       "      <td>0</td>\n",
       "      <td>8850</td>\n",
       "      <td>1</td>\n",
       "      <td>2014-09-08</td>\n",
       "      <td>1410134400</td>\n",
       "      <td>61.5000</td>\n",
       "      <td>8</td>\n",
       "      <td>0</td>\n",
       "    </tr>\n",
       "    <tr>\n",
       "      <th>4</th>\n",
       "      <td>0</td>\n",
       "      <td>226960</td>\n",
       "      <td>0</td>\n",
       "      <td>2014-09-22</td>\n",
       "      <td>1411344000</td>\n",
       "      <td>1.0000</td>\n",
       "      <td>7</td>\n",
       "      <td>0</td>\n",
       "    </tr>\n",
       "    <tr>\n",
       "      <th>...</th>\n",
       "      <td>...</td>\n",
       "      <td>...</td>\n",
       "      <td>...</td>\n",
       "      <td>...</td>\n",
       "      <td>...</td>\n",
       "      <td>...</td>\n",
       "      <td>...</td>\n",
       "      <td>...</td>\n",
       "    </tr>\n",
       "    <tr>\n",
       "      <th>14529069</th>\n",
       "      <td>9999939</td>\n",
       "      <td>1147030</td>\n",
       "      <td>1</td>\n",
       "      <td>2021-10-21</td>\n",
       "      <td>1634774400</td>\n",
       "      <td>0.2000</td>\n",
       "      <td>0</td>\n",
       "      <td>0</td>\n",
       "    </tr>\n",
       "    <tr>\n",
       "      <th>14529070</th>\n",
       "      <td>9999939</td>\n",
       "      <td>1141030</td>\n",
       "      <td>1</td>\n",
       "      <td>2021-10-21</td>\n",
       "      <td>1634774400</td>\n",
       "      <td>2.0000</td>\n",
       "      <td>0</td>\n",
       "      <td>0</td>\n",
       "    </tr>\n",
       "    <tr>\n",
       "      <th>14529071</th>\n",
       "      <td>9999939</td>\n",
       "      <td>1468260</td>\n",
       "      <td>1</td>\n",
       "      <td>2021-11-24</td>\n",
       "      <td>1637712000</td>\n",
       "      <td>18.3000</td>\n",
       "      <td>0</td>\n",
       "      <td>0</td>\n",
       "    </tr>\n",
       "    <tr>\n",
       "      <th>14529072</th>\n",
       "      <td>9999939</td>\n",
       "      <td>1481400</td>\n",
       "      <td>1</td>\n",
       "      <td>2022-03-05</td>\n",
       "      <td>1646438400</td>\n",
       "      <td>0.7000</td>\n",
       "      <td>0</td>\n",
       "      <td>0</td>\n",
       "    </tr>\n",
       "    <tr>\n",
       "      <th>14529073</th>\n",
       "      <td>9999939</td>\n",
       "      <td>20900</td>\n",
       "      <td>1</td>\n",
       "      <td>2022-11-27</td>\n",
       "      <td>1669507200</td>\n",
       "      <td>23.9000</td>\n",
       "      <td>0</td>\n",
       "      <td>0</td>\n",
       "    </tr>\n",
       "  </tbody>\n",
       "</table>\n",
       "<p>14529074 rows × 8 columns</p>\n",
       "</div>"
      ],
      "text/plain": [
       "          user_id  item_id  is_recommended        date   unix_date   hours  \\\n",
       "0               0    63710               0  2014-06-16  1402876800  2.0000   \n",
       "1               0   260230               0  2014-06-25  1403654400  5.5000   \n",
       "2               0   267060               0  2014-09-02  1409616000 11.5000   \n",
       "3               0     8850               1  2014-09-08  1410134400 61.5000   \n",
       "4               0   226960               0  2014-09-22  1411344000  1.0000   \n",
       "...           ...      ...             ...         ...         ...     ...   \n",
       "14529069  9999939  1147030               1  2021-10-21  1634774400  0.2000   \n",
       "14529070  9999939  1141030               1  2021-10-21  1634774400  2.0000   \n",
       "14529071  9999939  1468260               1  2021-11-24  1637712000 18.3000   \n",
       "14529072  9999939  1481400               1  2022-03-05  1646438400  0.7000   \n",
       "14529073  9999939    20900               1  2022-11-27  1669507200 23.9000   \n",
       "\n",
       "          helpful  funny  \n",
       "0               4      0  \n",
       "1              12      0  \n",
       "2               6      0  \n",
       "3               8      0  \n",
       "4               7      0  \n",
       "...           ...    ...  \n",
       "14529069        0      0  \n",
       "14529070        0      0  \n",
       "14529071        0      0  \n",
       "14529072        0      0  \n",
       "14529073        0      0  \n",
       "\n",
       "[14529074 rows x 8 columns]"
      ]
     },
     "execution_count": 145,
     "metadata": {},
     "output_type": "execute_result"
    }
   ],
   "source": [
    "# date와 hours는 negative sampling한다면 사용 불가\n",
    "recomd"
   ]
  },
  {
   "cell_type": "code",
   "execution_count": 146,
   "metadata": {},
   "outputs": [],
   "source": [
    "df_steam = recomd"
   ]
  },
  {
   "cell_type": "code",
   "execution_count": 147,
   "metadata": {},
   "outputs": [],
   "source": [
    "df_steam['interaction'] = df_steam['is_recommended'].astype(int)"
   ]
  },
  {
   "cell_type": "code",
   "execution_count": 148,
   "metadata": {},
   "outputs": [
    {
     "data": {
      "text/plain": [
       "interaction\n",
       "1    12144253\n",
       "0     2384821\n",
       "Name: count, dtype: int64"
      ]
     },
     "execution_count": 148,
     "metadata": {},
     "output_type": "execute_result"
    }
   ],
   "source": [
    "df_steam['interaction'].value_counts()"
   ]
  },
  {
   "cell_type": "code",
   "execution_count": 149,
   "metadata": {},
   "outputs": [],
   "source": [
    "# import numpy as np\n",
    "# import pandas as pd\n",
    "# from tqdm import tqdm\n",
    "\n",
    "# def negative_sampling(train_data):\n",
    "#     \"\"\"\n",
    "#     Memory-efficient Negative Sampling using vectorized operations.\n",
    "    \n",
    "#     Args:\n",
    "#         train_data (DataFrame): Data with columns ['user_id', 'item_id', 'interaction']\n",
    "#         negative_ratio (int): Number of negative samples per positive sample\n",
    "    \n",
    "#     Returns:\n",
    "#         final_train_data (DataFrame): Positive & Negative samples combined\n",
    "#     \"\"\"\n",
    "    \n",
    "#     # Positive 데이터 추출\n",
    "#     interacted_data = train_data\n",
    "#     positive_data_len = train_data['interaction'].sum()\n",
    "#     negative_data_len = len(train_data) - positive_data_len\n",
    "\n",
    "#     # 모든 유저와 아이템 목록 추출\n",
    "#     unique_users = interacted_data['user_id'].unique()\n",
    "#     all_items = set(train_data['item_id'].unique())  # Set 연산 최적화\n",
    "\n",
    "#     # Negative 샘플링\n",
    "#     negative_samples = []\n",
    "#     user_groups = interacted_data.groupby('user_id')['item_id'].apply(set).to_dict()  # 유저별 상호작용 아이템\n",
    "\n",
    "#     for user_id in tqdm(unique_users, desc=\"Generating Negative Samples\"):\n",
    "#         interacted_items = user_groups.get(user_id, set())\n",
    "\n",
    "#         # 해당 유저가 상호작용하지 않은 아이템 중 랜덤 샘플링\n",
    "#         non_interacted_items = list(all_items - interacted_items)\n",
    "#         num_samples = min(0, positive_data_len-negative_data_len)  # Negative 샘플 개수\n",
    "\n",
    "#         if num_samples > 0:\n",
    "#             sampled_items = np.random.choice(non_interacted_items, num_samples, replace=False)\n",
    "#             negative_samples.extend(zip([user_id] * num_samples, sampled_items, [0] * num_samples))\n",
    "\n",
    "#     # Negative 데이터프레임 생성\n",
    "#     negative_data = pd.DataFrame(negative_samples, columns=['user_id', 'item_id', 'interaction'])\n",
    "\n",
    "#     # Positive와 Negative 데이터 합치기\n",
    "#     final_train_data = pd.concat([interacted_data, negative_data], ignore_index=True)\n",
    "    \n",
    "#     print(\"Positive 데이터 개수:\", final_train_data['interaction'].value_counts()[1])\n",
    "#     print(\"Negative 데이터 개수:\", final_train_data['interaction'].value_counts()[0])\n",
    "\n",
    "#     # 데이터 섞기 (shuffle)\n",
    "#     final_train_data = final_train_data.sample(frac=1, random_state=42).reset_index(drop=True)\n",
    "\n",
    "#     return final_train_data\n"
   ]
  },
  {
   "cell_type": "code",
   "execution_count": 150,
   "metadata": {},
   "outputs": [],
   "source": [
    "# recomd['interaction'] = recomd['is_recommended'].astype(int)"
   ]
  },
  {
   "cell_type": "code",
   "execution_count": 151,
   "metadata": {},
   "outputs": [],
   "source": [
    "# negative_sampled_df = negative_sampling(recomd)"
   ]
  },
  {
   "cell_type": "code",
   "execution_count": 152,
   "metadata": {},
   "outputs": [
    {
     "data": {
      "text/html": [
       "<div>\n",
       "<style scoped>\n",
       "    .dataframe tbody tr th:only-of-type {\n",
       "        vertical-align: middle;\n",
       "    }\n",
       "\n",
       "    .dataframe tbody tr th {\n",
       "        vertical-align: top;\n",
       "    }\n",
       "\n",
       "    .dataframe thead th {\n",
       "        text-align: right;\n",
       "    }\n",
       "</style>\n",
       "<table border=\"1\" class=\"dataframe\">\n",
       "  <thead>\n",
       "    <tr style=\"text-align: right;\">\n",
       "      <th></th>\n",
       "      <th>user_id</th>\n",
       "      <th>item_id</th>\n",
       "      <th>is_recommended</th>\n",
       "      <th>date</th>\n",
       "      <th>unix_date</th>\n",
       "      <th>hours</th>\n",
       "      <th>helpful</th>\n",
       "      <th>funny</th>\n",
       "      <th>interaction</th>\n",
       "      <th>title</th>\n",
       "      <th>date_release</th>\n",
       "      <th>win</th>\n",
       "      <th>mac</th>\n",
       "      <th>linux</th>\n",
       "      <th>positive_ratio</th>\n",
       "      <th>price_final</th>\n",
       "      <th>price_original</th>\n",
       "      <th>steam_deck</th>\n",
       "      <th>estimated_owners</th>\n",
       "      <th>peak_ccu</th>\n",
       "      <th>required_age</th>\n",
       "      <th>price</th>\n",
       "      <th>dlc_count</th>\n",
       "      <th>detailed_description</th>\n",
       "      <th>short_description</th>\n",
       "      <th>supported_languages</th>\n",
       "      <th>metacritic_score</th>\n",
       "      <th>positive</th>\n",
       "      <th>negative</th>\n",
       "      <th>notes</th>\n",
       "      <th>average_playtime_forever</th>\n",
       "      <th>average_playtime_2weeks</th>\n",
       "      <th>median_playtime_forever</th>\n",
       "      <th>median_playtime_2weeks</th>\n",
       "      <th>developers</th>\n",
       "      <th>publishers</th>\n",
       "      <th>categories</th>\n",
       "      <th>genres</th>\n",
       "      <th>description</th>\n",
       "      <th>tags_sum</th>\n",
       "      <th>rating_encoded</th>\n",
       "      <th>date_release_unix</th>\n",
       "      <th>estimated_owners_mid</th>\n",
       "      <th>review_count</th>\n",
       "    </tr>\n",
       "  </thead>\n",
       "  <tbody>\n",
       "    <tr>\n",
       "      <th>0</th>\n",
       "      <td>0</td>\n",
       "      <td>63710</td>\n",
       "      <td>0</td>\n",
       "      <td>2014-06-16</td>\n",
       "      <td>1402876800</td>\n",
       "      <td>2.0000</td>\n",
       "      <td>4</td>\n",
       "      <td>0</td>\n",
       "      <td>0</td>\n",
       "      <td>BIT.TRIP RUNNER</td>\n",
       "      <td>2011-02-28</td>\n",
       "      <td>1</td>\n",
       "      <td>1</td>\n",
       "      <td>0</td>\n",
       "      <td>87</td>\n",
       "      <td>9.9900</td>\n",
       "      <td>9.9900</td>\n",
       "      <td>1</td>\n",
       "      <td>500000 - 1000000</td>\n",
       "      <td>2.0000</td>\n",
       "      <td>0.0000</td>\n",
       "      <td>9.9900</td>\n",
       "      <td>0.0000</td>\n",
       "      <td>BIT.TRIP RUNNER is the fastest, most exhilarat...</td>\n",
       "      <td>CommanderVideo is back with BIT.TRIP RUNNER, t...</td>\n",
       "      <td>English</td>\n",
       "      <td>0.0000</td>\n",
       "      <td>3270.0000</td>\n",
       "      <td>530.0000</td>\n",
       "      <td>NaN</td>\n",
       "      <td>170.0000</td>\n",
       "      <td>0.0000</td>\n",
       "      <td>133.0000</td>\n",
       "      <td>0.0000</td>\n",
       "      <td>Gaijin Games</td>\n",
       "      <td>Gaijin Games</td>\n",
       "      <td>Single-player, Steam Achievements, Full contro...</td>\n",
       "      <td>Action, Indie</td>\n",
       "      <td>CommanderVideo is back with BIT.TRIP RUNNER, t...</td>\n",
       "      <td>2D, Action, Arcade, Casual, Colorful, Controll...</td>\n",
       "      <td>7</td>\n",
       "      <td>1298851200</td>\n",
       "      <td>750000</td>\n",
       "      <td>1278</td>\n",
       "    </tr>\n",
       "    <tr>\n",
       "      <th>1</th>\n",
       "      <td>0</td>\n",
       "      <td>260230</td>\n",
       "      <td>0</td>\n",
       "      <td>2014-06-25</td>\n",
       "      <td>1403654400</td>\n",
       "      <td>5.5000</td>\n",
       "      <td>12</td>\n",
       "      <td>0</td>\n",
       "      <td>0</td>\n",
       "      <td>Valiant Hearts: The Great War™ / Soldats Incon...</td>\n",
       "      <td>2014-06-25</td>\n",
       "      <td>1</td>\n",
       "      <td>0</td>\n",
       "      <td>0</td>\n",
       "      <td>95</td>\n",
       "      <td>14.9900</td>\n",
       "      <td>14.9900</td>\n",
       "      <td>1</td>\n",
       "      <td>500000 - 1000000</td>\n",
       "      <td>35.0000</td>\n",
       "      <td>0.0000</td>\n",
       "      <td>14.9900</td>\n",
       "      <td>0.0000</td>\n",
       "      <td>“CHARMING AND DEEPLY MOVING” – IGN “INTRIGUING...</td>\n",
       "      <td>Valiant Hearts : The Great War is the story of...</td>\n",
       "      <td>English, French, Italian, German, Spanish - Sp...</td>\n",
       "      <td>0.0000</td>\n",
       "      <td>20709.0000</td>\n",
       "      <td>941.0000</td>\n",
       "      <td>NaN</td>\n",
       "      <td>319.0000</td>\n",
       "      <td>0.0000</td>\n",
       "      <td>370.0000</td>\n",
       "      <td>0.0000</td>\n",
       "      <td>Ubisoft Montpellier</td>\n",
       "      <td>Ubisoft</td>\n",
       "      <td>Single-player</td>\n",
       "      <td>Adventure</td>\n",
       "      <td>Valiant Hearts : The Great War is the story of...</td>\n",
       "      <td>2D, Action, Adventure, Atmospheric, Great Soun...</td>\n",
       "      <td>8</td>\n",
       "      <td>1403654400</td>\n",
       "      <td>750000</td>\n",
       "      <td>5365</td>\n",
       "    </tr>\n",
       "  </tbody>\n",
       "</table>\n",
       "</div>"
      ],
      "text/plain": [
       "   user_id  item_id  is_recommended        date   unix_date  hours  helpful  \\\n",
       "0        0    63710               0  2014-06-16  1402876800 2.0000        4   \n",
       "1        0   260230               0  2014-06-25  1403654400 5.5000       12   \n",
       "\n",
       "   funny  interaction                                              title  \\\n",
       "0      0            0                                    BIT.TRIP RUNNER   \n",
       "1      0            0  Valiant Hearts: The Great War™ / Soldats Incon...   \n",
       "\n",
       "  date_release  win  mac  linux  positive_ratio  price_final  price_original  \\\n",
       "0   2011-02-28    1    1      0              87       9.9900          9.9900   \n",
       "1   2014-06-25    1    0      0              95      14.9900         14.9900   \n",
       "\n",
       "   steam_deck  estimated_owners  peak_ccu  required_age   price  dlc_count  \\\n",
       "0           1  500000 - 1000000    2.0000        0.0000  9.9900     0.0000   \n",
       "1           1  500000 - 1000000   35.0000        0.0000 14.9900     0.0000   \n",
       "\n",
       "                                detailed_description  \\\n",
       "0  BIT.TRIP RUNNER is the fastest, most exhilarat...   \n",
       "1  “CHARMING AND DEEPLY MOVING” – IGN “INTRIGUING...   \n",
       "\n",
       "                                   short_description  \\\n",
       "0  CommanderVideo is back with BIT.TRIP RUNNER, t...   \n",
       "1  Valiant Hearts : The Great War is the story of...   \n",
       "\n",
       "                                 supported_languages  metacritic_score  \\\n",
       "0                                            English            0.0000   \n",
       "1  English, French, Italian, German, Spanish - Sp...            0.0000   \n",
       "\n",
       "    positive  negative notes  average_playtime_forever  \\\n",
       "0  3270.0000  530.0000   NaN                  170.0000   \n",
       "1 20709.0000  941.0000   NaN                  319.0000   \n",
       "\n",
       "   average_playtime_2weeks  median_playtime_forever  median_playtime_2weeks  \\\n",
       "0                   0.0000                 133.0000                  0.0000   \n",
       "1                   0.0000                 370.0000                  0.0000   \n",
       "\n",
       "            developers    publishers  \\\n",
       "0         Gaijin Games  Gaijin Games   \n",
       "1  Ubisoft Montpellier       Ubisoft   \n",
       "\n",
       "                                          categories         genres  \\\n",
       "0  Single-player, Steam Achievements, Full contro...  Action, Indie   \n",
       "1                                      Single-player      Adventure   \n",
       "\n",
       "                                         description  \\\n",
       "0  CommanderVideo is back with BIT.TRIP RUNNER, t...   \n",
       "1  Valiant Hearts : The Great War is the story of...   \n",
       "\n",
       "                                            tags_sum  rating_encoded  \\\n",
       "0  2D, Action, Arcade, Casual, Colorful, Controll...               7   \n",
       "1  2D, Action, Adventure, Atmospheric, Great Soun...               8   \n",
       "\n",
       "   date_release_unix  estimated_owners_mid  review_count  \n",
       "0         1298851200                750000          1278  \n",
       "1         1403654400                750000          5365  "
      ]
     },
     "execution_count": 152,
     "metadata": {},
     "output_type": "execute_result"
    }
   ],
   "source": [
    "# Load user and item file, join with rating\n",
    "# df_user = pd.read_csv('users.csv')\n",
    "df_item = pd.read_csv('item.csv')\n",
    "# df_steam = df_steam.merge(df_user, on='user_id', how='left')\n",
    "df_steam = df_steam.merge(df_item, on='item_id', how='left')\n",
    "df_steam.head(2)"
   ]
  },
  {
   "cell_type": "code",
   "execution_count": 153,
   "metadata": {},
   "outputs": [
    {
     "data": {
      "text/plain": [
       "Index(['user_id', 'item_id', 'is_recommended', 'date', 'unix_date', 'hours',\n",
       "       'helpful', 'funny', 'interaction', 'title', 'date_release', 'win',\n",
       "       'mac', 'linux', 'positive_ratio', 'price_final', 'price_original',\n",
       "       'steam_deck', 'estimated_owners', 'peak_ccu', 'required_age', 'price',\n",
       "       'dlc_count', 'detailed_description', 'short_description',\n",
       "       'supported_languages', 'metacritic_score', 'positive', 'negative',\n",
       "       'notes', 'average_playtime_forever', 'average_playtime_2weeks',\n",
       "       'median_playtime_forever', 'median_playtime_2weeks', 'developers',\n",
       "       'publishers', 'categories', 'genres', 'description', 'tags_sum',\n",
       "       'rating_encoded', 'date_release_unix', 'estimated_owners_mid',\n",
       "       'review_count'],\n",
       "      dtype='object')"
      ]
     },
     "execution_count": 153,
     "metadata": {},
     "output_type": "execute_result"
    }
   ],
   "source": [
    "df_steam.columns"
   ]
  },
  {
   "cell_type": "code",
   "execution_count": 154,
   "metadata": {},
   "outputs": [],
   "source": [
    "# Preprocess hours - minmax scaling\n",
    "min_hours = df_steam['hours'].min()\n",
    "max_hours = df_steam['hours'].max()\n",
    "df_steam['hours'] = (df_steam['hours'] - min_hours) / (max_hours - min_hours)"
   ]
  },
  {
   "cell_type": "code",
   "execution_count": 155,
   "metadata": {},
   "outputs": [],
   "source": [
    "# # Preprocess titles - multi label encoding\n",
    "# tokenizer = RegexpTokenizer(r'\\w+')\n",
    "# titles = df_steam['title']\n",
    "# tokenized_titles = []\n",
    "# titles = [tokenizer.tokenize(str(title)) for title in list(titles)]\n",
    "# vocab = []\n",
    "# max_title_len = 0\n",
    "# for title in titles:\n",
    "#     vocab += title\n",
    "#     max_title_len = max_title_len if max_title_len > len(title) else len(title)\n",
    "# vocab = set(vocab)\n",
    "# word2idx = {word: idx for idx, word in enumerate(vocab)}\n",
    "# res_title = []\n",
    "# for title in titles:\n",
    "#     padding_title = [word2idx[word] for word in title]\n",
    "#     padding_title.extend([0 for i in range(max_title_len - len(title))])\n",
    "#     res_title.append(padding_title)\n",
    "# df_steam['title'] = res_title\n",
    "# df_steam['title']"
   ]
  },
  {
   "cell_type": "code",
   "execution_count": 156,
   "metadata": {},
   "outputs": [],
   "source": [
    "# Preprocess date_release - minmax scaling\n",
    "df_steam['date_release'] = pd.to_datetime(df_steam['date_release'])\n",
    "df_steam['date_release'] = (df_steam['date_release'] - pd.Timestamp(\"1970-01-01\")).dt.days\n",
    "min_date = np.min(df_steam['date_release'])\n",
    "max_date = np.max(df_steam['date_release'])\n",
    "\n",
    "df_steam['date_release'] = df_steam['date_release'].map(lambda x: (x - min_date) / (max_date - min_date))"
   ]
  },
  {
   "cell_type": "code",
   "execution_count": 157,
   "metadata": {},
   "outputs": [],
   "source": [
    "# Preprocess positive_ratio - minmax scaling\n",
    "df_steam['positive_ratio'] = df_steam['positive_ratio'].map(lambda x: x / 100)"
   ]
  },
  {
   "cell_type": "code",
   "execution_count": 158,
   "metadata": {},
   "outputs": [],
   "source": [
    "# Preprocess price_final & price_original - minmax scaling\n",
    "min_price_final = df_steam['price_final'].min()\n",
    "max_price_final = df_steam['price_final'].max()\n",
    "df_steam['price_final'] = (df_steam['price_final'] - min_price_final) / (max_price_final - min_price_final)\n",
    "\n",
    "min_price_original = df_steam['price_original'].min()\n",
    "max_price_original = df_steam['price_original'].max()\n",
    "df_steam['price_original'] = (df_steam['price_original'] - min_price_original) / (max_price_original - min_price_original)"
   ]
  },
  {
   "cell_type": "code",
   "execution_count": 159,
   "metadata": {},
   "outputs": [],
   "source": [
    "# Preprocess peak_ccu - minmax scaling\n",
    "min_peak_ccu = df_steam['peak_ccu'].min()\n",
    "max_peak_ccu = df_steam['peak_ccu'].max()\n",
    "df_steam['peak_ccu'] = (df_steam['peak_ccu'] - min_peak_ccu) / (max_peak_ccu - min_peak_ccu)"
   ]
  },
  {
   "cell_type": "code",
   "execution_count": 160,
   "metadata": {},
   "outputs": [],
   "source": [
    "# Preprocess required_age - binary encoding: over 16 or not\n",
    "df_steam[\"required_age\"].value_counts().sort_index()\n",
    "df_steam['required_age'] = df_steam['required_age'].map(lambda x: 1 if x >= 16 else 0)"
   ]
  },
  {
   "cell_type": "code",
   "execution_count": 161,
   "metadata": {},
   "outputs": [],
   "source": [
    "# Preprocess price - minmax scaling\n",
    "min_price = df_steam['price'].min()\n",
    "max_price = df_steam['price'].max()\n",
    "df_steam['price'] = (df_steam['price'] - min_price) / (max_price - min_price)"
   ]
  },
  {
   "cell_type": "code",
   "execution_count": 162,
   "metadata": {},
   "outputs": [],
   "source": [
    "# # Preprocess supported_languages - multi label encoding\n",
    "# df_steam.fillna({\"supported_languages\": \"\"}, inplace=True)\n",
    "# supported_languages = df_steam['supported_languages']\n",
    "# lang2idx = {}\n",
    "# cnt = 0\n",
    "# res_lang = []\n",
    "# max_lang_len = 0\n",
    "# for lang_str in supported_languages:\n",
    "#     lang_list = [lang.strip() for part in lang_str.split(\",\") for lang in part.split(\"-\")]\n",
    "#     max_lang_len = max(max_lang_len, len(lang_list))\n",
    "#     for lang in lang_list:\n",
    "#         if lang not in lang2idx:\n",
    "#             lang2idx[lang] = cnt\n",
    "#             cnt += 1\n",
    "#     res_lang.append([lang2idx[lang] for lang in lang_list])\n",
    "# for lang in res_lang:\n",
    "#     lang.extend([0 for i in range(max_lang_len - len(lang))])\n",
    "# df_steam['supported_languages'] = res_lang\n",
    "# df_steam['supported_languages']"
   ]
  },
  {
   "cell_type": "code",
   "execution_count": 163,
   "metadata": {},
   "outputs": [],
   "source": [
    "# Preprocess metacritic_score - minmax scaling\n",
    "df_steam['metacritic_score'] = df_steam['metacritic_score'].map(lambda x: x / 100)"
   ]
  },
  {
   "cell_type": "code",
   "execution_count": 164,
   "metadata": {},
   "outputs": [],
   "source": [
    "# Preprocess date - minmax scaling\n",
    "df_steam['date'] = pd.to_datetime(df_steam['date'])\n",
    "df_steam['date'] = (df_steam['date'] - pd.Timestamp(\"1970-01-01\")).dt.days\n",
    "min_date = np.min(df_steam['date'])\n",
    "max_date = np.max(df_steam['date'])\n",
    "\n",
    "df_steam['date'] = df_steam['date'].map(lambda x: (x - min_date) / (max_date - min_date))\n",
    "df_steam = df_steam.sort_values(by='date')  # 시간순 정렬"
   ]
  },
  {
   "cell_type": "code",
   "execution_count": 165,
   "metadata": {},
   "outputs": [
    {
     "data": {
      "text/plain": [
       "[<matplotlib.lines.Line2D at 0x7fe252e9ca00>]"
      ]
     },
     "execution_count": 165,
     "metadata": {},
     "output_type": "execute_result"
    },
    {
     "data": {
      "image/png": "[encoded data removed]",
      "text/plain": [
       "<Figure size 640x480 with 1 Axes>"
      ]
     },
     "metadata": {},
     "output_type": "display_data"
    }
   ],
   "source": [
    "# plot item counts vs item\n",
    "user2count = df_steam.groupby(['item_id']).size().reset_index(name='count').sort_values(by='count')\n",
    "item_ids = list(user2count['item_id'])\n",
    "counts = np.array(user2count['count'])\n",
    "plt.plot(np.arange(len(counts)), counts)"
   ]
  },
  {
   "cell_type": "code",
   "execution_count": 166,
   "metadata": {},
   "outputs": [],
   "source": [
    "# Preprocess count\n",
    "df_steam = df_steam.join(user2count.set_index('item_id'), on='item_id')\n",
    "min_count = np.min(df_steam['count'])\n",
    "max_count = np.max(df_steam['count'])\n",
    "df_steam['count'] = df_steam['count'].map(lambda x: (x - min_count) / (max_count - min_count))"
   ]
  },
  {
   "cell_type": "code",
   "execution_count": 167,
   "metadata": {},
   "outputs": [],
   "source": [
    "# # Join with text embedding\n",
    "# with open('./item_embeddings.pkl', 'rb') as f:\n",
    "#     data = pickle.load(f)\n",
    "# data['tag_embedding'] = data['tag_embedding'].apply(lambda x: x.tolist())\n",
    "# data[\"category_embedding\"] = data[\"category_embedding\"].apply(lambda x: x.tolist())\n",
    "# data[\"combined_embedding\"] = data[\"combined_embedding\"].apply(lambda x: x.tolist())\n",
    "\n",
    "# df_steam = df_steam.merge(data, on='item_id', how='left')"
   ]
  },
  {
   "cell_type": "code",
   "execution_count": 168,
   "metadata": {},
   "outputs": [
    {
     "data": {
      "text/html": [
       "<div>\n",
       "<style scoped>\n",
       "    .dataframe tbody tr th:only-of-type {\n",
       "        vertical-align: middle;\n",
       "    }\n",
       "\n",
       "    .dataframe tbody tr th {\n",
       "        vertical-align: top;\n",
       "    }\n",
       "\n",
       "    .dataframe thead th {\n",
       "        text-align: right;\n",
       "    }\n",
       "</style>\n",
       "<table border=\"1\" class=\"dataframe\">\n",
       "  <thead>\n",
       "    <tr style=\"text-align: right;\">\n",
       "      <th></th>\n",
       "      <th>user_id</th>\n",
       "      <th>item_id</th>\n",
       "      <th>is_recommended</th>\n",
       "      <th>date</th>\n",
       "      <th>unix_date</th>\n",
       "      <th>hours</th>\n",
       "      <th>helpful</th>\n",
       "      <th>funny</th>\n",
       "      <th>interaction</th>\n",
       "      <th>title</th>\n",
       "      <th>date_release</th>\n",
       "      <th>win</th>\n",
       "      <th>mac</th>\n",
       "      <th>linux</th>\n",
       "      <th>positive_ratio</th>\n",
       "      <th>price_final</th>\n",
       "      <th>price_original</th>\n",
       "      <th>steam_deck</th>\n",
       "      <th>estimated_owners</th>\n",
       "      <th>peak_ccu</th>\n",
       "      <th>required_age</th>\n",
       "      <th>price</th>\n",
       "      <th>dlc_count</th>\n",
       "      <th>detailed_description</th>\n",
       "      <th>short_description</th>\n",
       "      <th>supported_languages</th>\n",
       "      <th>metacritic_score</th>\n",
       "      <th>positive</th>\n",
       "      <th>negative</th>\n",
       "      <th>notes</th>\n",
       "      <th>average_playtime_forever</th>\n",
       "      <th>average_playtime_2weeks</th>\n",
       "      <th>median_playtime_forever</th>\n",
       "      <th>median_playtime_2weeks</th>\n",
       "      <th>developers</th>\n",
       "      <th>publishers</th>\n",
       "      <th>categories</th>\n",
       "      <th>genres</th>\n",
       "      <th>description</th>\n",
       "      <th>tags_sum</th>\n",
       "      <th>rating_encoded</th>\n",
       "      <th>date_release_unix</th>\n",
       "      <th>estimated_owners_mid</th>\n",
       "      <th>review_count</th>\n",
       "      <th>count</th>\n",
       "      <th>combined_embedding</th>\n",
       "      <th>tag_embedding</th>\n",
       "      <th>category_embedding</th>\n",
       "    </tr>\n",
       "  </thead>\n",
       "  <tbody>\n",
       "    <tr>\n",
       "      <th>0</th>\n",
       "      <td>8474772</td>\n",
       "      <td>22380</td>\n",
       "      <td>1</td>\n",
       "      <td>0.0000</td>\n",
       "      <td>1287100800</td>\n",
       "      <td>0.4288</td>\n",
       "      <td>2</td>\n",
       "      <td>0</td>\n",
       "      <td>1</td>\n",
       "      <td>Fallout: New Vegas</td>\n",
       "      <td>0.5087</td>\n",
       "      <td>1</td>\n",
       "      <td>0</td>\n",
       "      <td>0</td>\n",
       "      <td>0.9600</td>\n",
       "      <td>0.0370</td>\n",
       "      <td>0.0000</td>\n",
       "      <td>1</td>\n",
       "      <td>2000000 - 5000000</td>\n",
       "      <td>0.0070</td>\n",
       "      <td>1</td>\n",
       "      <td>0.0370</td>\n",
       "      <td>7.0000</td>\n",
       "      <td>Welcome to Vegas. New Vegas. It’s the kind of ...</td>\n",
       "      <td>Welcome to Vegas. New Vegas. Enjoy your stay!</td>\n",
       "      <td>English, French, German, Italian, Spanish - Spain</td>\n",
       "      <td>0.8400</td>\n",
       "      <td>154845.0000</td>\n",
       "      <td>5667.0000</td>\n",
       "      <td>NaN</td>\n",
       "      <td>3044.0000</td>\n",
       "      <td>112.0000</td>\n",
       "      <td>976.0000</td>\n",
       "      <td>153.0000</td>\n",
       "      <td>Obsidian Entertainment</td>\n",
       "      <td>Bethesda Softworks</td>\n",
       "      <td>Single-player, Steam Achievements, Partial Con...</td>\n",
       "      <td>Action, RPG</td>\n",
       "      <td>NaN</td>\n",
       "      <td>Action, Adventure, Atmospheric, Exploration, F...</td>\n",
       "      <td>8</td>\n",
       "      <td>1287446400</td>\n",
       "      <td>3500000</td>\n",
       "      <td>35446</td>\n",
       "      <td>0.5185</td>\n",
       "      <td>[0.04676687344908714, -0.10566429793834686, 0....</td>\n",
       "      <td>[-0.5121199488639832, -0.12097563594579697, -0...</td>\n",
       "      <td>[0.4960460066795349, 0.07515629380941391, 0.05...</td>\n",
       "    </tr>\n",
       "    <tr>\n",
       "      <th>1</th>\n",
       "      <td>11064475</td>\n",
       "      <td>440</td>\n",
       "      <td>1</td>\n",
       "      <td>0.0000</td>\n",
       "      <td>1287100800</td>\n",
       "      <td>0.6228</td>\n",
       "      <td>2</td>\n",
       "      <td>0</td>\n",
       "      <td>1</td>\n",
       "      <td>Team Fortress 2</td>\n",
       "      <td>0.3930</td>\n",
       "      <td>1</td>\n",
       "      <td>1</td>\n",
       "      <td>1</td>\n",
       "      <td>0.9300</td>\n",
       "      <td>0.0000</td>\n",
       "      <td>0.0000</td>\n",
       "      <td>1</td>\n",
       "      <td>50000000 - 100000000</td>\n",
       "      <td>0.1305</td>\n",
       "      <td>0</td>\n",
       "      <td>0.0000</td>\n",
       "      <td>1.0000</td>\n",
       "      <td>\"The most fun you can have online\" - PC Gamer ...</td>\n",
       "      <td>Nine distinct classes provide a broad range of...</td>\n",
       "      <td>English, Danish, Dutch, Finnish, French, Germa...</td>\n",
       "      <td>0.9200</td>\n",
       "      <td>823693.0000</td>\n",
       "      <td>56683.0000</td>\n",
       "      <td>Includes cartoon violence and gore.</td>\n",
       "      <td>9916.0000</td>\n",
       "      <td>2299.0000</td>\n",
       "      <td>370.0000</td>\n",
       "      <td>694.0000</td>\n",
       "      <td>Valve</td>\n",
       "      <td>Valve</td>\n",
       "      <td>Multi-player, Cross-Platform Multiplayer, Stea...</td>\n",
       "      <td>Action, Free to Play</td>\n",
       "      <td>NaN</td>\n",
       "      <td>Action, Co-op, Comedy, FPS, First-Person, Free...</td>\n",
       "      <td>7</td>\n",
       "      <td>1191974400</td>\n",
       "      <td>75000000</td>\n",
       "      <td>68366</td>\n",
       "      <td>1.0000</td>\n",
       "      <td>[0.12863539159297943, -0.07096611708402634, -0...</td>\n",
       "      <td>[-0.10960102081298828, 0.08488725125789642, 0....</td>\n",
       "      <td>[0.3045477271080017, 0.25805172324180603, 0.11...</td>\n",
       "    </tr>\n",
       "  </tbody>\n",
       "</table>\n",
       "</div>"
      ],
      "text/plain": [
       "    user_id  item_id  is_recommended   date   unix_date  hours  helpful  \\\n",
       "0   8474772    22380               1 0.0000  1287100800 0.4288        2   \n",
       "1  11064475      440               1 0.0000  1287100800 0.6228        2   \n",
       "\n",
       "   funny  interaction               title  date_release  win  mac  linux  \\\n",
       "0      0            1  Fallout: New Vegas        0.5087    1    0      0   \n",
       "1      0            1     Team Fortress 2        0.3930    1    1      1   \n",
       "\n",
       "   positive_ratio  price_final  price_original  steam_deck  \\\n",
       "0          0.9600       0.0370          0.0000           1   \n",
       "1          0.9300       0.0000          0.0000           1   \n",
       "\n",
       "       estimated_owners  peak_ccu  required_age  price  dlc_count  \\\n",
       "0     2000000 - 5000000    0.0070             1 0.0370     7.0000   \n",
       "1  50000000 - 100000000    0.1305             0 0.0000     1.0000   \n",
       "\n",
       "                                detailed_description  \\\n",
       "0  Welcome to Vegas. New Vegas. It’s the kind of ...   \n",
       "1  \"The most fun you can have online\" - PC Gamer ...   \n",
       "\n",
       "                                   short_description  \\\n",
       "0      Welcome to Vegas. New Vegas. Enjoy your stay!   \n",
       "1  Nine distinct classes provide a broad range of...   \n",
       "\n",
       "                                 supported_languages  metacritic_score  \\\n",
       "0  English, French, German, Italian, Spanish - Spain            0.8400   \n",
       "1  English, Danish, Dutch, Finnish, French, Germa...            0.9200   \n",
       "\n",
       "     positive   negative                                notes  \\\n",
       "0 154845.0000  5667.0000                                  NaN   \n",
       "1 823693.0000 56683.0000  Includes cartoon violence and gore.   \n",
       "\n",
       "   average_playtime_forever  average_playtime_2weeks  median_playtime_forever  \\\n",
       "0                 3044.0000                 112.0000                 976.0000   \n",
       "1                 9916.0000                2299.0000                 370.0000   \n",
       "\n",
       "   median_playtime_2weeks              developers          publishers  \\\n",
       "0                153.0000  Obsidian Entertainment  Bethesda Softworks   \n",
       "1                694.0000                   Valve               Valve   \n",
       "\n",
       "                                          categories                genres  \\\n",
       "0  Single-player, Steam Achievements, Partial Con...           Action, RPG   \n",
       "1  Multi-player, Cross-Platform Multiplayer, Stea...  Action, Free to Play   \n",
       "\n",
       "  description                                           tags_sum  \\\n",
       "0         NaN  Action, Adventure, Atmospheric, Exploration, F...   \n",
       "1         NaN  Action, Co-op, Comedy, FPS, First-Person, Free...   \n",
       "\n",
       "   rating_encoded  date_release_unix  estimated_owners_mid  review_count  \\\n",
       "0               8         1287446400               3500000         35446   \n",
       "1               7         1191974400              75000000         68366   \n",
       "\n",
       "   count                                 combined_embedding  \\\n",
       "0 0.5185  [0.04676687344908714, -0.10566429793834686, 0....   \n",
       "1 1.0000  [0.12863539159297943, -0.07096611708402634, -0...   \n",
       "\n",
       "                                       tag_embedding  \\\n",
       "0  [-0.5121199488639832, -0.12097563594579697, -0...   \n",
       "1  [-0.10960102081298828, 0.08488725125789642, 0....   \n",
       "\n",
       "                                  category_embedding  \n",
       "0  [0.4960460066795349, 0.07515629380941391, 0.05...  \n",
       "1  [0.3045477271080017, 0.25805172324180603, 0.11...  "
      ]
     },
     "execution_count": 168,
     "metadata": {},
     "output_type": "execute_result"
    }
   ],
   "source": [
    "df_steam.head(2)"
   ]
  },
  {
   "cell_type": "code",
   "execution_count": null,
   "metadata": {},
   "outputs": [
    {
     "data": {
      "text/plain": [
       "[('user_id', 680812, 'spr'),\n",
       " ('item_id', 37141, 'spr'),\n",
       " ('hours', -1, 'ctn'),\n",
       " ('date_release', -1, 'ctn'),\n",
       " ('positive_ratio', -1, 'ctn'),\n",
       " ('price_final', -1, 'ctn'),\n",
       " ('price_original', -1, 'ctn'),\n",
       " ('peak_ccu', -1, 'ctn'),\n",
       " ('required_age', 2, 'spr'),\n",
       " ('price', -1, 'ctn'),\n",
       " ('metacritic_score', -1, 'ctn'),\n",
       " ('date', -1, 'ctn'),\n",
       " ('count', -1, 'ctn'),\n",
       " ('combined_embedding', 256, 'emb'),\n",
       " ('tag_embedding', 64, 'emb'),\n",
       " ('category_embedding', 32, 'emb'),\n",
       " ('interaction', 2, 'label')]"
      ]
     },
     "execution_count": 169,
     "metadata": {},
     "output_type": "execute_result"
    }
   ],
   "source": [
    "# define unique function\n",
    "def _unique(sample, fname):\n",
    "    tmp_df = pd.DataFrame()\n",
    "    tmp_df[fname] = sample[fname].unique()\n",
    "    num = len(tmp_df)\n",
    "    tmp_df['tmp_feature'] = range(num)\n",
    "    sample = sample.join(tmp_df.set_index(fname), on=fname)\n",
    "    sample.drop(fname, axis=1, inplace=True)\n",
    "    sample = sample.rename(columns = {\"tmp_feature\": fname})\n",
    "    return num, sample\n",
    "\n",
    "num_user, df_steam = _unique(df_steam, 'user_id')\n",
    "num_app, df_steam = _unique(df_steam, 'item_id')\n",
    "\n",
    "# Reorder columns\n",
    "# orders = ['user_id', 'item_id', 'hours', 'date_release', 'positive_ratio', 'price_final', 'price_original', 'peak_ccu', 'required_age', 'price', 'metacritic_score', 'date', 'count', 'combined_embedding', 'tag_embedding', 'category_embedding', 'interaction']\n",
    "orders = ['user_id', 'item_id', 'hours', 'date_release', 'positive_ratio', 'price_final', 'price_original', 'peak_ccu', 'required_age', 'price', 'metacritic_score', 'date', 'count', 'interaction']\n",
    "df_steam = df_steam[orders]\n",
    "description = [\n",
    "    ('user_id', num_user, 'spr'),  # 변환된 유저 ID\n",
    "    ('item_id', num_app, 'spr'),  # 변환된 게임(아이템) ID\n",
    "    ('hours', -1, 'ctn'),  # 플레이 시간\n",
    "    ('date_release', -1, 'ctn'),  # 출시일\n",
    "    ('positive_ratio', -1, 'ctn'),  # 긍정적인 평가 비율\n",
    "    ('price_final', -1, 'ctn'),  # 최종 가격\n",
    "    ('price_original', -1, 'ctn'),  # 원래 가격\n",
    "    ('peak_ccu', -1, 'ctn'),  # 최대 동시 접속자 수\n",
    "    ('required_age', 1 + np.max(df_steam[\"required_age\"]), 'spr'),  # 필요한 나이\n",
    "    ('price', -1, 'ctn'),  # 가격\n",
    "    ('metacritic_score', -1, 'ctn'),  # 메타크리틱 점수\n",
    "    ('date', -1, 'ctn'),  # 정규화된 날짜\n",
    "    ('count', -1, 'ctn'),  # 리뷰 수\n",
    "    # ('combined_embedding', len(df_steam[\"combined_embedding\"].iloc[0]), 'emb'),  # title + description 결합 임베딩\n",
    "    # ('tag_embedding', len(df_steam[\"tag_embedding\"].iloc[0]), 'emb'),  # 태그 임베딩\n",
    "    # ('category_embedding', len(df_steam[\"category_embedding\"].iloc[0]), 'emb'),  # 카테고리 임베딩\n",
    "    ('interaction', 2, 'label'),  # 클릭 여부\n",
    "]\n",
    "description\n"
   ]
  },
  {
   "cell_type": "code",
   "execution_count": 170,
   "metadata": {},
   "outputs": [],
   "source": [
    "assert df_steam.isna().sum().sum() == 0, 'There are missing values in the preprocessed data!!'"
   ]
  },
  {
   "cell_type": "markdown",
   "metadata": {},
   "source": [
    "# 3. 데이터 Split"
   ]
  },
  {
   "cell_type": "code",
   "execution_count": 172,
   "metadata": {},
   "outputs": [],
   "source": [
    "def split_2(df_ratings, description, N=274, K=10):\n",
    "    user2count = df_ratings.groupby(['item_id']).size().reset_index(name='count').sort_values(by='count')\n",
    "    item_ids = user2count['item_id'].to_numpy()\n",
    "    counts = user2count['count'].to_numpy()\n",
    "\n",
    "    hot_item_ids = item_ids[counts > N]\n",
    "    cold_item_ids = item_ids[(counts <= N) & (counts >= 3 * K)]\n",
    "\n",
    "    item_group = df_ratings.groupby('item_id')\n",
    "\n",
    "    train_base_list = []\n",
    "    for item_id in hot_item_ids:\n",
    "        df_hot = item_group.get_group(item_id).sort_values(by='date')\n",
    "        train_base_list.append(df_hot)\n",
    "\n",
    "    train_base = pd.concat(train_base_list, ignore_index=True)\n",
    "\n",
    "    train_warm_a_list, train_warm_b_list, train_warm_c_list, test_list = [], [], [], []\n",
    "    \n",
    "    for item_id in cold_item_ids:\n",
    "        df_cold = item_group.get_group(item_id).sort_values(by='date')\n",
    "        train_warm_a_list.append(df_cold[:K])\n",
    "        train_warm_b_list.append(df_cold[K:2*K])\n",
    "        train_warm_c_list.append(df_cold[2*K:3*K])\n",
    "        test_list.append(df_cold[3*K:])\n",
    "    \n",
    "    train_warm_a = pd.concat(train_warm_a_list, ignore_index=True)\n",
    "    train_warm_b = pd.concat(train_warm_b_list, ignore_index=True)\n",
    "    train_warm_c = pd.concat(train_warm_c_list, ignore_index=True)\n",
    "    test = pd.concat(test_list, ignore_index=True)\n",
    "\n",
    "    save_dic = {\n",
    "        'train_base': train_base.sort_values('date'),\n",
    "        'train_warm_a': train_warm_a.sort_values('date'),\n",
    "        'train_warm_b': train_warm_b.sort_values('date'),\n",
    "        'train_warm_c': train_warm_c.sort_values('date'),\n",
    "        'test': test.sort_values('date'),\n",
    "        'description': description\n",
    "    }\n",
    "\n",
    "    for name, df in save_dic.items():\n",
    "        # with open('./emb_warm_split_{}.pkl'.format(name), 'bw+') as f:\n",
    "        #     pickle.dump(df, f, protocol = pickle.HIGHEST_PROTOCOL)\n",
    "        print(\"{} size: {}\".format(name, len(df)))\n",
    "\n",
    "    with open('./emb_warm_split_preprocess.pkl', 'bw+') as f:\n",
    "        pickle.dump(save_dic, f, protocol = pickle.HIGHEST_PROTOCOL)\n"
   ]
  },
  {
   "cell_type": "code",
   "execution_count": 33,
   "metadata": {},
   "outputs": [
    {
     "data": {
      "text/plain": [
       "122346.48896789551"
      ]
     },
     "execution_count": 33,
     "metadata": {},
     "output_type": "execute_result"
    }
   ],
   "source": [
    "df_steam.memory_usage(deep=True).sum() / (1024**2)"
   ]
  },
  {
   "cell_type": "code",
   "execution_count": 173,
   "metadata": {},
   "outputs": [
    {
     "data": {
      "text/plain": [
       "43230.73483276367"
      ]
     },
     "execution_count": 173,
     "metadata": {},
     "output_type": "execute_result"
    }
   ],
   "source": [
    "df_steam.memory_usage(deep=True).sum() / (1024**2)"
   ]
  },
  {
   "cell_type": "code",
   "execution_count": 39,
   "metadata": {},
   "outputs": [
    {
     "data": {
      "text/plain": [
       "1662.7205657958984"
      ]
     },
     "execution_count": 39,
     "metadata": {},
     "output_type": "execute_result"
    }
   ],
   "source": [
    "df_steam.memory_usage(deep=True).sum() / (1024**2)"
   ]
  },
  {
   "cell_type": "code",
   "execution_count": 40,
   "metadata": {},
   "outputs": [
    {
     "name": "stdout",
     "output_type": "stream",
     "text": [
      "Estimated Pickle File Size: 1662.72 MB\n"
     ]
    }
   ],
   "source": [
    "buffer = io.BytesIO()\n",
    "pickle.dump(df_steam, buffer, protocol=4)\n",
    "estimated_size = buffer.getbuffer().nbytes / (1024**2)  # MB 단위\n",
    "print(f\"Estimated Pickle File Size: {estimated_size:.2f} MB\")\n"
   ]
  },
  {
   "cell_type": "code",
   "execution_count": null,
   "metadata": {},
   "outputs": [
    {
     "name": "stdout",
     "output_type": "stream",
     "text": [
      "train_base size: 13146868\n",
      "train_warm_a size: 122240\n",
      "train_warm_b size: 122240\n",
      "train_warm_c size: 122240\n",
      "test size: 793248\n",
      "description size: 17\n"
     ]
    },
    {
     "ename": "",
     "evalue": "",
     "output_type": "error",
     "traceback": [
      "\u001b[1;31m현재 셀 또는 이전 셀에서 코드를 실행하는 동안 Kernel이 충돌했습니다. \n",
      "\u001b[1;31m셀의 코드를 검토하여 가능한 오류 원인을 식별하세요. \n",
      "\u001b[1;31m자세한 내용을 보려면 <a href='https://aka.ms/vscodeJupyterKernelCrash'>여기</a>를 클릭하세요. \n",
      "\u001b[1;31m자세한 내용은 Jupyter <a href='command:jupyter.viewOutput'>로그</a>를 참조하세요."
     ]
    }
   ],
   "source": [
    "split_2(df_steam, description)"
   ]
  },
  {
   "cell_type": "code",
   "execution_count": 2,
   "metadata": {},
   "outputs": [
    {
     "name": "stderr",
     "output_type": "stream",
     "text": [
      "100%|██████████| 5421/5421 [00:09<00:00, 550.95it/s] \n"
     ]
    }
   ],
   "source": [
    "# Get training data for Meta-Embedding method\n",
    "with open('./emb_warm_split_preprocess.pkl', 'rb') as f:\n",
    "    data = pickle.load(f)\n",
    "\n",
    "df_base = data['train_base']\n",
    "item2group = df_base.groupby('item_id')\n",
    "\n",
    "train_a_list, train_b_list, train_c_list, train_d_list = [], [], [], []\n",
    "\n",
    "for item_id, df_group in tqdm(item2group):\n",
    "    l, e = df_group.shape[0], df_group.shape[0] // 4     \n",
    "    train_a_list.append(df_group.iloc[0:e])\n",
    "    train_b_list.append(df_group.iloc[e: 2 * e])\n",
    "    train_c_list.append(df_group.iloc[2 * e: 3 * e])\n",
    "    train_d_list.append(df_group.iloc[3 * e: 4 * e]) \n",
    "\n",
    "train_a = pd.concat(train_a_list, ignore_index=True)\n",
    "train_b = pd.concat(train_b_list, ignore_index=True)\n",
    "train_c = pd.concat(train_c_list, ignore_index=True)\n",
    "train_d = pd.concat(train_d_list, ignore_index=True)\n",
    "\n",
    "shuffle_idx = np.random.permutation(train_a.shape[0])\n",
    "train_a = train_a.iloc[shuffle_idx]\n",
    "train_b = train_b.iloc[shuffle_idx]\n",
    "train_c = train_c.iloc[shuffle_idx]\n",
    "train_d = train_d.iloc[shuffle_idx]\n",
    "\n",
    "data[\"metaE_a\"] = train_a\n",
    "data[\"metaE_b\"] = train_b\n",
    "data[\"metaE_c\"] = train_c\n",
    "data[\"metaE_d\"] = train_d\n",
    "\n",
    "with open('./steam_data.pkl', 'wb') as f:\n",
    "    pickle.dump(data, f)\n"
   ]
  },
  {
   "cell_type": "code",
   "execution_count": 43,
   "metadata": {},
   "outputs": [
    {
     "name": "stdout",
     "output_type": "stream",
     "text": [
      "데이터 타입: <class 'dict'>\n",
      "데이터 크기: 10\n",
      "데이터 키 목록: dict_keys(['train_base', 'train_warm_a', 'train_warm_b', 'train_warm_c', 'test', 'description', 'metaE_a', 'metaE_b', 'metaE_c', 'metaE_d'])\n"
     ]
    }
   ],
   "source": [
    "print(\"데이터 타입:\", type(data))\n",
    "print(\"데이터 크기:\", len(data) if isinstance(data, dict) else \"Not a dict\")\n",
    "print(\"데이터 키 목록:\", data.keys() if isinstance(data, dict) else \"Not a dict\")\n"
   ]
  }
 ],
 "metadata": {
  "kernelspec": {
   "display_name": "base",
   "language": "python",
   "name": "python3"
  },
  "language_info": {
   "codemirror_mode": {
    "name": "ipython",
    "version": 3
   },
   "file_extension": ".py",
   "mimetype": "text/x-python",
   "name": "python",
   "nbconvert_exporter": "python",
   "pygments_lexer": "ipython3",
   "version": "3.10.13"
  }
 },
 "nbformat": 4,
 "nbformat_minor": 2
}
