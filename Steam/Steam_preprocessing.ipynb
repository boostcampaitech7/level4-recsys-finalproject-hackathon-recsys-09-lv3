{
 "cells": [
  {
   "cell_type": "code",
   "execution_count": 1,
   "metadata": {},
   "outputs": [],
   "source": [
    "import os\n",
    "\n",
    "import numpy as np\n",
    "import random\n",
    "import pandas as pd\n",
    "from tqdm import tqdm\n",
    "from sklearn.model_selection import train_test_split\n",
    "\n",
    "import matplotlib.pyplot as plt\n",
    "import seaborn as sns\n",
    "import seaborn.objects as so\n",
    "%matplotlib inline\n",
    "\n",
    "# pandas options\n",
    "pd.set_option('mode.copy_on_write', True)  # pandas 2.0\n",
    "pd.options.display.float_format = '{:.4f}'.format  # pd.reset_option('display.float_format')\n",
    "\n",
    "# NumPy options\n",
    "np.set_printoptions(precision = 2, suppress=True)  # suppress scientific notation"
   ]
  },
  {
   "cell_type": "markdown",
   "metadata": {},
   "source": [
    "# 1. 데이터 불러오기"
   ]
  },
  {
   "cell_type": "code",
   "execution_count": 2,
   "metadata": {},
   "outputs": [],
   "source": [
    "recomd = pd.read_csv('data/recommendations.csv')"
   ]
  },
  {
   "cell_type": "code",
   "execution_count": 3,
   "metadata": {},
   "outputs": [
    {
     "data": {
      "text/plain": [
       "13781059"
      ]
     },
     "execution_count": 3,
     "metadata": {},
     "output_type": "execute_result"
    }
   ],
   "source": [
    "recomd[\"user_id\"].nunique() "
   ]
  },
  {
   "cell_type": "code",
   "execution_count": 4,
   "metadata": {},
   "outputs": [],
   "source": [
    "item_group = recomd.sort_values(by=['app_id','date'])"
   ]
  },
  {
   "cell_type": "code",
   "execution_count": 5,
   "metadata": {},
   "outputs": [
    {
     "data": {
      "image/png": "[encoded data removed]",
      "text/plain": [
       "<Figure size 640x480 with 1 Axes>"
      ]
     },
     "metadata": {},
     "output_type": "display_data"
    }
   ],
   "source": [
    "item_count = recomd.groupby('app_id').size().reset_index(name = 'count')\n",
    "item_count['count'].hist()\n",
    "plt.show()"
   ]
  },
  {
   "cell_type": "code",
   "execution_count": 6,
   "metadata": {},
   "outputs": [
    {
     "name": "stdout",
     "output_type": "stream",
     "text": [
      "임계값 (상위 20%): 274.0\n"
     ]
    }
   ],
   "source": [
    "# 상위 20% 아이템\n",
    "threshold = item_count['count'].quantile(0.8)\n",
    "print(f\"임계값 (상위 20%): {threshold}\")"
   ]
  },
  {
   "cell_type": "code",
   "execution_count": 7,
   "metadata": {},
   "outputs": [],
   "source": [
    "# Old Items와 New Items 분리 - 상위 20% 기준으로\n",
    "item_count['category'] = item_count['count'].apply(lambda x: 'Old' if x >= threshold else 'New')\n",
    "\n",
    "old_items = item_count[item_count['category'] == 'Old']\n",
    "new_items = item_count[item_count['category'] == 'New']"
   ]
  },
  {
   "cell_type": "code",
   "execution_count": 8,
   "metadata": {},
   "outputs": [
    {
     "data": {
      "text/plain": [
       "category\n",
       "New    30080\n",
       "Old     7530\n",
       "Name: count, dtype: int64"
      ]
     },
     "execution_count": 8,
     "metadata": {},
     "output_type": "execute_result"
    }
   ],
   "source": [
    "item_count['category'].value_counts()"
   ]
  },
  {
   "cell_type": "code",
   "execution_count": 9,
   "metadata": {},
   "outputs": [],
   "source": [
    "new_ids = new_items['app_id']\n",
    "new_df  = item_group[item_group['app_id'].isin(new_ids)]\n",
    "\n",
    "old_ids = old_items['app_id']\n",
    "old_df = item_group[item_group['app_id'].isin(old_ids)]"
   ]
  },
  {
   "cell_type": "code",
   "execution_count": 14,
   "metadata": {},
   "outputs": [
    {
     "name": "stderr",
     "output_type": "stream",
     "text": [
      "Processing New Items: 100%|██████████| 30080/30080 [00:15<00:00, 1889.67it/s]\n"
     ]
    }
   ],
   "source": [
    "# Grouped Data 생성\n",
    "new_item_groups = new_df.groupby('app_id')\n",
    "\n",
    "# 웜업 단계 크기 K 설정\n",
    "K = 10\n",
    "\n",
    "def split_group_safe(data, K):\n",
    "    \"\"\"\n",
    "    데이터를 K 크기로 분리합니다.\n",
    "    데이터가 부족하면 빈 DataFrame을 반환합니다.\n",
    "    \"\"\"\n",
    "    warm_a = data.iloc[:K] if len(data) >= K else pd.DataFrame()\n",
    "    warm_b = data.iloc[K:2*K] if len(data) >= 2*K else pd.DataFrame()\n",
    "    warm_c = data.iloc[2*K:3*K] if len(data) >= 3*K else pd.DataFrame()\n",
    "    test_set = data.iloc[3*K:] if len(data) > 3*K else pd.DataFrame()\n",
    "    return warm_a, warm_b, warm_c, test_set\n",
    "\n",
    "# 웜업 단계 분리 및 유효한 아이템 필터링\n",
    "warmup_splits = {}\n",
    "\n",
    "for item_id, item_data in tqdm(new_item_groups, desc=\"Processing New Items\"):\n",
    "    warm_a, warm_b, warm_c, test_set = split_group_safe(item_data, K)\n",
    "    \n",
    "    # 모든 세트에 데이터가 있는 경우에만 추가\n",
    "    if all(not split.empty for split in [warm_a, warm_b, warm_c, test_set]):\n",
    "        warmup_splits[item_id] = {\n",
    "            'warm_a': warm_a,\n",
    "            'warm_b': warm_b,\n",
    "            'warm_c': warm_c,\n",
    "            'test_set': test_set\n",
    "        }\n"
   ]
  },
  {
   "cell_type": "code",
   "execution_count": 15,
   "metadata": {},
   "outputs": [
    {
     "name": "stderr",
     "output_type": "stream",
     "text": [
      "processing: 100%|██████████| 13249/13249 [00:17<00:00, 764.80it/s] \n"
     ]
    }
   ],
   "source": [
    "# 단계별 데이터를 저장할 리스트\n",
    "warm_a_list = []\n",
    "warm_b_list = []\n",
    "warm_c_list = []\n",
    "test_set_list = []\n",
    "\n",
    "# warmup_splits에서 데이터 추출\n",
    "for item_id, splits in tqdm(warmup_splits.items(),desc='processing'):\n",
    "    # 각 단계의 데이터를 추출하고 아이템 ID 추가\n",
    "    warm_a = splits['warm_a'].copy()\n",
    "    warm_a['stage'] = 'warm_a'\n",
    "    warm_a_list.append(warm_a)\n",
    "\n",
    "    warm_b = splits['warm_b'].copy()\n",
    "    warm_b['stage'] = 'warm_b'\n",
    "    warm_b_list.append(warm_b)\n",
    "\n",
    "    warm_c = splits['warm_c'].copy()\n",
    "    warm_c['stage'] = 'warm_c'\n",
    "    warm_c_list.append(warm_c)\n",
    "\n",
    "    test_set = splits['test_set'].copy()\n",
    "    test_set['stage'] = 'test_set'\n",
    "    test_set_list.append(test_set)\n",
    "\n",
    "# 각각의 데이터프레임으로 병합\n",
    "warm_a = pd.concat(warm_a_list, ignore_index=True)\n",
    "warm_b = pd.concat(warm_b_list, ignore_index=True)\n",
    "warm_c = pd.concat(warm_c_list, ignore_index=True)\n",
    "test_set = pd.concat(test_set_list, ignore_index=True)\n"
   ]
  },
  {
   "cell_type": "code",
   "execution_count": 16,
   "metadata": {},
   "outputs": [
    {
     "name": "stdout",
     "output_type": "stream",
     "text": [
      "Old DataFrame\n",
      "총 데이터 개수: 39639864\n",
      "고유 app_id 개수: 7530\n",
      "고유 user_id 개수: 13670645\n",
      "----------------------------------------\n",
      "Warm A\n",
      "총 데이터 개수: 132490\n",
      "고유 app_id 개수: 13249\n",
      "고유 user_id 개수: 86204\n",
      "----------------------------------------\n",
      "Warm B\n",
      "총 데이터 개수: 132490\n",
      "고유 app_id 개수: 13249\n",
      "고유 user_id 개수: 93580\n",
      "----------------------------------------\n",
      "Warm C\n",
      "총 데이터 개수: 132490\n",
      "고유 app_id 개수: 13249\n",
      "고유 user_id 개수: 95731\n",
      "----------------------------------------\n",
      "Test Set\n",
      "총 데이터 개수: 894438\n",
      "고유 app_id 개수: 13249\n",
      "고유 user_id 개수: 500296\n",
      "----------------------------------------\n"
     ]
    }
   ],
   "source": [
    "print(\"Old DataFrame\")\n",
    "print(\"총 데이터 개수:\", len(old_df))\n",
    "print(\"고유 app_id 개수:\", old_df['app_id'].nunique())\n",
    "print(\"고유 user_id 개수:\", old_df['user_id'].nunique())\n",
    "print(\"-\" * 40)\n",
    "\n",
    "print(\"Warm A\")\n",
    "print(\"총 데이터 개수:\", len(warm_a))\n",
    "print(\"고유 app_id 개수:\", warm_a['app_id'].nunique())\n",
    "print(\"고유 user_id 개수:\", warm_a['user_id'].nunique())\n",
    "print(\"-\" * 40)\n",
    "\n",
    "print(\"Warm B\")\n",
    "print(\"총 데이터 개수:\", len(warm_b))\n",
    "print(\"고유 app_id 개수:\", warm_b['app_id'].nunique())\n",
    "print(\"고유 user_id 개수:\", warm_b['user_id'].nunique())\n",
    "print(\"-\" * 40)\n",
    "\n",
    "print(\"Warm C\")\n",
    "print(\"총 데이터 개수:\", len(warm_c))\n",
    "print(\"고유 app_id 개수:\", warm_c['app_id'].nunique())\n",
    "print(\"고유 user_id 개수:\", warm_c['user_id'].nunique())\n",
    "print(\"-\" * 40)\n",
    "\n",
    "print(\"Test Set\")\n",
    "print(\"총 데이터 개수:\", len(test_set))\n",
    "print(\"고유 app_id 개수:\", test_set['app_id'].nunique())\n",
    "print(\"고유 user_id 개수:\", test_set['user_id'].nunique())\n",
    "print(\"-\" * 40)\n"
   ]
  },
  {
   "cell_type": "markdown",
   "metadata": {},
   "source": [
    "---"
   ]
  }
 ],
 "metadata": {
  "kernelspec": {
   "display_name": "abc",
   "language": "python",
   "name": "python3"
  },
  "language_info": {
   "codemirror_mode": {
    "name": "ipython",
    "version": 3
   },
   "file_extension": ".py",
   "mimetype": "text/x-python",
   "name": "python",
   "nbconvert_exporter": "python",
   "pygments_lexer": "ipython3",
   "version": "3.9.0"
  }
 },
 "nbformat": 4,
 "nbformat_minor": 2
}
